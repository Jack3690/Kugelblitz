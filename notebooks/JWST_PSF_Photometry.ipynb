{
  "cells": [
    {
      "cell_type": "markdown",
      "id": "cnJPXox0qrnQ",
      "metadata": {
        "id": "cnJPXox0qrnQ"
      },
      "source": [
        "# **Installs**"
      ]
    },
    {
      "cell_type": "code",
      "execution_count": 1,
      "id": "2UT-qaOGqu7_",
      "metadata": {
        "colab": {
          "base_uri": "https://localhost:8080/"
        },
        "id": "2UT-qaOGqu7_",
        "outputId": "1e98f95d-04b5-4a4a-9ad8-6c7d5b4b7d26"
      },
      "outputs": [
        {
          "output_type": "stream",
          "name": "stdout",
          "text": [
            "\u001b[2K     \u001b[90m━━━━━━━━━━━━━━━━━━━━━━━━━━━━━━━━━━━━━━━━\u001b[0m \u001b[32m1.1/1.1 MB\u001b[0m \u001b[31m12.3 MB/s\u001b[0m eta \u001b[36m0:00:00\u001b[0m\n",
            "\u001b[2K     \u001b[90m━━━━━━━━━━━━━━━━━━━━━━━━━━━━━━━━━━━━━━━━\u001b[0m \u001b[32m1.2/1.2 MB\u001b[0m \u001b[31m11.5 MB/s\u001b[0m eta \u001b[36m0:00:00\u001b[0m\n",
            "\u001b[2K     \u001b[90m━━━━━━━━━━━━━━━━━━━━━━━━━━━━━━━━━━━━━━━━\u001b[0m \u001b[32m2.8/2.8 MB\u001b[0m \u001b[31m54.7 MB/s\u001b[0m eta \u001b[36m0:00:00\u001b[0m\n",
            "\u001b[2K     \u001b[90m━━━━━━━━━━━━━━━━━━━━━━━━━━━━━━━━━━━━━━━━\u001b[0m \u001b[32m50.0/50.0 MB\u001b[0m \u001b[31m12.5 MB/s\u001b[0m eta \u001b[36m0:00:00\u001b[0m\n",
            "\u001b[2K     \u001b[90m━━━━━━━━━━━━━━━━━━━━━━━━━━━━━━━━━━━━━━━━\u001b[0m \u001b[32m50.3/50.3 kB\u001b[0m \u001b[31m4.2 MB/s\u001b[0m eta \u001b[36m0:00:00\u001b[0m\n",
            "\u001b[2K     \u001b[90m━━━━━━━━━━━━━━━━━━━━━━━━━━━━━━━━━━━━━━\u001b[0m \u001b[32m915.6/915.6 kB\u001b[0m \u001b[31m47.4 MB/s\u001b[0m eta \u001b[36m0:00:00\u001b[0m\n",
            "\u001b[2K     \u001b[90m━━━━━━━━━━━━━━━━━━━━━━━━━━━━━━━━━━━━━━━━\u001b[0m \u001b[32m4.5/4.5 MB\u001b[0m \u001b[31m47.6 MB/s\u001b[0m eta \u001b[36m0:00:00\u001b[0m\n",
            "\u001b[2K     \u001b[90m━━━━━━━━━━━━━━━━━━━━━━━━━━━━━━━━━━━━━━\u001b[0m \u001b[32m888.9/888.9 kB\u001b[0m \u001b[31m18.6 MB/s\u001b[0m eta \u001b[36m0:00:00\u001b[0m\n",
            "\u001b[2K     \u001b[90m━━━━━━━━━━━━━━━━━━━━━━━━━━━━━━━━━━━━━━━━\u001b[0m \u001b[32m52.4/52.4 kB\u001b[0m \u001b[31m4.6 MB/s\u001b[0m eta \u001b[36m0:00:00\u001b[0m\n",
            "\u001b[2K     \u001b[90m━━━━━━━━━━━━━━━━━━━━━━━━━━━━━━━━━━━━━━\u001b[0m \u001b[32m961.4/961.4 kB\u001b[0m \u001b[31m57.0 MB/s\u001b[0m eta \u001b[36m0:00:00\u001b[0m\n",
            "\u001b[2K     \u001b[90m━━━━━━━━━━━━━━━━━━━━━━━━━━━━━━━━━━━━━━━━\u001b[0m \u001b[32m73.1/73.1 kB\u001b[0m \u001b[31m8.9 MB/s\u001b[0m eta \u001b[36m0:00:00\u001b[0m\n",
            "\u001b[2K     \u001b[90m━━━━━━━━━━━━━━━━━━━━━━━━━━━━━━━━━━━━━━\u001b[0m \u001b[32m108.1/108.1 kB\u001b[0m \u001b[31m13.2 MB/s\u001b[0m eta \u001b[36m0:00:00\u001b[0m\n",
            "\u001b[2K     \u001b[90m━━━━━━━━━━━━━━━━━━━━━━━━━━━━━━━━━━━━━━━━\u001b[0m \u001b[32m51.1/51.1 kB\u001b[0m \u001b[31m5.9 MB/s\u001b[0m eta \u001b[36m0:00:00\u001b[0m\n",
            "\u001b[2K     \u001b[90m━━━━━━━━━━━━━━━━━━━━━━━━━━━━━━━━━━━━━━━━\u001b[0m \u001b[32m71.8/71.8 kB\u001b[0m \u001b[31m8.6 MB/s\u001b[0m eta \u001b[36m0:00:00\u001b[0m\n",
            "\u001b[2K     \u001b[90m━━━━━━━━━━━━━━━━━━━━━━━━━━━━━━━━━━━━━━\u001b[0m \u001b[32m195.6/195.6 kB\u001b[0m \u001b[31m21.2 MB/s\u001b[0m eta \u001b[36m0:00:00\u001b[0m\n",
            "\u001b[?25h  Installing build dependencies ... \u001b[?25l\u001b[?25hdone\n",
            "  Getting requirements to build wheel ... \u001b[?25l\u001b[?25hdone\n",
            "  Preparing metadata (pyproject.toml) ... \u001b[?25l\u001b[?25hdone\n",
            "  Building wheel for asdf-wcs-schemas (pyproject.toml) ... \u001b[?25l\u001b[?25hdone\n"
          ]
        }
      ],
      "source": [
        "!pip install photutils --quiet\n",
        "!pip install webbpsf --quiet"
      ]
    },
    {
      "cell_type": "code",
      "execution_count": 2,
      "id": "4VFyv_WOrJlL",
      "metadata": {
        "colab": {
          "base_uri": "https://localhost:8080/"
        },
        "id": "4VFyv_WOrJlL",
        "outputId": "01adc58c-00ad-48d6-b141-6cfcf79c6c04",
        "tags": []
      },
      "outputs": [
        {
          "output_type": "stream",
          "name": "stdout",
          "text": [
            "--2023-08-31 20:54:14--  https://stsci.box.com/shared/static/qxpiaxsjwo15ml6m4pkhtk36c9jgj70k.gz\n",
            "Resolving stsci.box.com (stsci.box.com)... 74.112.186.144\n",
            "Connecting to stsci.box.com (stsci.box.com)|74.112.186.144|:443... connected.\n",
            "HTTP request sent, awaiting response... 301 Moved Permanently\n",
            "Location: /public/static/qxpiaxsjwo15ml6m4pkhtk36c9jgj70k.gz [following]\n",
            "--2023-08-31 20:54:14--  https://stsci.box.com/public/static/qxpiaxsjwo15ml6m4pkhtk36c9jgj70k.gz\n",
            "Reusing existing connection to stsci.box.com:443.\n",
            "HTTP request sent, awaiting response... 301 Moved Permanently\n",
            "Location: https://stsci.app.box.com/public/static/qxpiaxsjwo15ml6m4pkhtk36c9jgj70k.gz [following]\n",
            "--2023-08-31 20:54:14--  https://stsci.app.box.com/public/static/qxpiaxsjwo15ml6m4pkhtk36c9jgj70k.gz\n",
            "Resolving stsci.app.box.com (stsci.app.box.com)... 74.112.186.144\n",
            "Connecting to stsci.app.box.com (stsci.app.box.com)|74.112.186.144|:443... connected.\n",
            "HTTP request sent, awaiting response... 302 Found\n",
            "Location: https://public.boxcloud.com/d/1/b1!RlHoh60q0r2NAkE5IWezAdTA43k7eze5dMdSdw1iiKdlKLkpMkBuJHrNYhAZZIMrjwyFL6L9G3o6t2pU-q-e4phPRJMX_uaVo3ISRrM6SmHxh5yY1XT30HOHSFjgphDZKX_vRfZwXZV6H-ZgzLjjGJs3i_w8b_xG3Uq1NYVauNFCAuihs7o-nOGEWXQZ5_6_2rBvpayCFPIS-Kc2K-aed47eN6iyqBdgEY9NkSQjTOroFO1sf4au358Le6zhla-r_rQQJx1_FAtQ_YQ_P59hOmJzxYeQfjo_E9SSIsvulTJJY4B2m4lk8eSC7T_lUk-NWy_uPefJ_dTJR2kq6on0y355KpTrQVKrauVzBBsZtNylKbED3AVEHiELENmbKNJyniR_4Sg11V3jYpUC7UFMlfaKKJSwigj55y8zD9c5qKQJgE8dRBoIwcaGAGuxu8fN3tveLK5_Q4aO-vdNlIVmj7sxPY5bHcbXuQGPt6ZUcF37WozrT3PNh47PPgZb00ur8buyTcdPJmNWBNheqEK1weg6jid2Q3Ko5lUF2Xxw13PAigtuFGF5xQlcE3E-aH0_OD1xwYGrZMcHjaWMnriethvP6vd-e_22ztIa-LOZsTkTPlhN9xgQ8YtLR3RzYdaoFFe3hISq86xIQDOX-6qFv8MwrWlhBdcjnyjd2rkKxSH364OcIl2rcRKeOu_FklSP-bAx5e6-98Zgm7TPxI7U7I1ocEn4qs9PgLan1gof_fo5yin0HCgwFXtmJlEmiWN90x7Ltruxio6-zA0dt2MJTs59ilDnOnuBAQj6_e9IzxHd09eIAE1K4C99EU76IJfjzgUNsKk6KdyNTs2ouBek1cbEEmJNabM1q1rRgAftpfnT2uGDWdZRQCxdCxiu-LzVTEidOVZgIjntdziTx3C0yqV47elE-AbCRr7Fk3wxiccLeXv1X1FE8KS14-k47m4P6Vz4zfmmKc_jZGJyOy5hvRKTv2a2IsYTPW9N-VakknaoNEn6vDYiXB_nNACo-Sf42eDoU-2k_n83VHs_WKJvVgwC9m_Zt0BohniVjC7GE6uioJndppjo9536azjshOdeUEUv-UFCX7ELfNOKLUywuwqKbXRR8CX1YrHjVPUHpmbPkbCDy1W-qNaMytFezeGD8r14gljUITajQrLRW31kArh0g4fVL4X31RqHJOHQLqnXkKpjuVCiYta_TeMV7e0qnIaCJdHulSvKGGX4J-h5LSV1fNjPQ81-tsRvV5_0ixeeZfzJf45WTu5cI-YK1tIb4wSCzasb1yaP5aCJ3yKyy220q1oTrPCikbRmynSZsvXJoqYMxnN6ooeqSZ0ra6Vw1_q1enmJ03wQrAa6Sl5IaUotpFC1_pqLxAi0iDkpTCzyG8AoQHVZy7Qz09pRKE0ijC-rcNiC4xY./download [following]\n",
            "--2023-08-31 20:54:15--  https://public.boxcloud.com/d/1/b1!RlHoh60q0r2NAkE5IWezAdTA43k7eze5dMdSdw1iiKdlKLkpMkBuJHrNYhAZZIMrjwyFL6L9G3o6t2pU-q-e4phPRJMX_uaVo3ISRrM6SmHxh5yY1XT30HOHSFjgphDZKX_vRfZwXZV6H-ZgzLjjGJs3i_w8b_xG3Uq1NYVauNFCAuihs7o-nOGEWXQZ5_6_2rBvpayCFPIS-Kc2K-aed47eN6iyqBdgEY9NkSQjTOroFO1sf4au358Le6zhla-r_rQQJx1_FAtQ_YQ_P59hOmJzxYeQfjo_E9SSIsvulTJJY4B2m4lk8eSC7T_lUk-NWy_uPefJ_dTJR2kq6on0y355KpTrQVKrauVzBBsZtNylKbED3AVEHiELENmbKNJyniR_4Sg11V3jYpUC7UFMlfaKKJSwigj55y8zD9c5qKQJgE8dRBoIwcaGAGuxu8fN3tveLK5_Q4aO-vdNlIVmj7sxPY5bHcbXuQGPt6ZUcF37WozrT3PNh47PPgZb00ur8buyTcdPJmNWBNheqEK1weg6jid2Q3Ko5lUF2Xxw13PAigtuFGF5xQlcE3E-aH0_OD1xwYGrZMcHjaWMnriethvP6vd-e_22ztIa-LOZsTkTPlhN9xgQ8YtLR3RzYdaoFFe3hISq86xIQDOX-6qFv8MwrWlhBdcjnyjd2rkKxSH364OcIl2rcRKeOu_FklSP-bAx5e6-98Zgm7TPxI7U7I1ocEn4qs9PgLan1gof_fo5yin0HCgwFXtmJlEmiWN90x7Ltruxio6-zA0dt2MJTs59ilDnOnuBAQj6_e9IzxHd09eIAE1K4C99EU76IJfjzgUNsKk6KdyNTs2ouBek1cbEEmJNabM1q1rRgAftpfnT2uGDWdZRQCxdCxiu-LzVTEidOVZgIjntdziTx3C0yqV47elE-AbCRr7Fk3wxiccLeXv1X1FE8KS14-k47m4P6Vz4zfmmKc_jZGJyOy5hvRKTv2a2IsYTPW9N-VakknaoNEn6vDYiXB_nNACo-Sf42eDoU-2k_n83VHs_WKJvVgwC9m_Zt0BohniVjC7GE6uioJndppjo9536azjshOdeUEUv-UFCX7ELfNOKLUywuwqKbXRR8CX1YrHjVPUHpmbPkbCDy1W-qNaMytFezeGD8r14gljUITajQrLRW31kArh0g4fVL4X31RqHJOHQLqnXkKpjuVCiYta_TeMV7e0qnIaCJdHulSvKGGX4J-h5LSV1fNjPQ81-tsRvV5_0ixeeZfzJf45WTu5cI-YK1tIb4wSCzasb1yaP5aCJ3yKyy220q1oTrPCikbRmynSZsvXJoqYMxnN6ooeqSZ0ra6Vw1_q1enmJ03wQrAa6Sl5IaUotpFC1_pqLxAi0iDkpTCzyG8AoQHVZy7Qz09pRKE0ijC-rcNiC4xY./download\n",
            "Resolving public.boxcloud.com (public.boxcloud.com)... 74.112.186.128\n",
            "Connecting to public.boxcloud.com (public.boxcloud.com)|74.112.186.128|:443... connected.\n",
            "HTTP request sent, awaiting response... 200 OK\n",
            "Length: 72415379 (69M) [application/octet-stream]\n",
            "Saving to: ‘webbpsf-data-1.2.1.tar.gz’\n",
            "\n",
            "webbpsf-data-1.2.1. 100%[===================>]  69.06M  10.4MB/s    in 7.7s    \n",
            "\n",
            "2023-08-31 20:54:23 (8.94 MB/s) - ‘webbpsf-data-1.2.1.tar.gz’ saved [72415379/72415379]\n",
            "\n"
          ]
        }
      ],
      "source": [
        "!wget https://stsci.box.com/shared/static/qxpiaxsjwo15ml6m4pkhtk36c9jgj70k.gz -O webbpsf-data-1.2.1.tar.gz"
      ]
    },
    {
      "cell_type": "code",
      "execution_count": 3,
      "id": "XAxyttMFsyQ-",
      "metadata": {
        "id": "XAxyttMFsyQ-"
      },
      "outputs": [],
      "source": [
        "!tar -xf webbpsf-data-1.2.1.tar.gz"
      ]
    },
    {
      "cell_type": "code",
      "execution_count": 4,
      "id": "8gLYVxMBtU18",
      "metadata": {
        "id": "8gLYVxMBtU18"
      },
      "outputs": [],
      "source": [
        "!rm webbpsf-data-1.2.1.tar.gz"
      ]
    },
    {
      "cell_type": "code",
      "execution_count": 5,
      "id": "FWeYzQ8cH1sM",
      "metadata": {
        "id": "FWeYzQ8cH1sM"
      },
      "outputs": [],
      "source": [
        "!pip uninstall numexpr --quiet -y"
      ]
    },
    {
      "cell_type": "markdown",
      "id": "jj0UgSIcqvYI",
      "metadata": {
        "id": "jj0UgSIcqvYI"
      },
      "source": [
        "# **Imports**"
      ]
    },
    {
      "cell_type": "code",
      "execution_count": 6,
      "id": "1a3615bd-bb61-415f-a3a1-0181ac2b99cc",
      "metadata": {
        "id": "1a3615bd-bb61-415f-a3a1-0181ac2b99cc",
        "tags": []
      },
      "outputs": [],
      "source": [
        "import sys\n",
        "import time\n",
        "import numpy as np\n",
        "import pandas as pd\n",
        "import glob as glob\n",
        "import urllib.request\n",
        "import tarfile\n",
        "import os\n",
        "\n",
        "from astropy.io import fits\n",
        "from astropy.visualization import simple_norm\n",
        "from astropy.nddata import NDData\n",
        "from astropy.wcs import WCS\n",
        "from astropy.modeling.fitting import LevMarLSQFitter\n",
        "from astropy.table import Table, QTable\n",
        "from astropy.coordinates import SkyCoord, match_coordinates_sky\n",
        "from astropy import units as u\n",
        "from astropy.stats import SigmaClip, sigma_clipped_stats, gaussian_fwhm_to_sigma\n",
        "from astropy.convolution import Gaussian2DKernel, convolve_fft\n",
        "\n",
        "from photutils.background import MMMBackground, MADStdBackgroundRMS, Background2D, LocalBackground\n",
        "from photutils.detection import DAOStarFinder\n",
        "from photutils.psf import EPSFBuilder, GriddedPSFModel\n",
        "from photutils.psf import SourceGrouper, extract_stars, IterativePSFPhotometry\n",
        "\n",
        "from photutils.aperture import CircularAperture, CircularAnnulus, aperture_photometry"
      ]
    },
    {
      "cell_type": "code",
      "execution_count": 7,
      "id": "byllZn7ivXYo",
      "metadata": {
        "id": "byllZn7ivXYo",
        "tags": []
      },
      "outputs": [],
      "source": [
        "os.environ['WEBBPSF_PATH'] = '/content/webbpsf-data'"
      ]
    },
    {
      "cell_type": "code",
      "execution_count": 8,
      "id": "35cf8997-34e8-444a-8229-d32462781bc6",
      "metadata": {
        "id": "35cf8997-34e8-444a-8229-d32462781bc6",
        "tags": []
      },
      "outputs": [],
      "source": [
        "%matplotlib inline\n",
        "from matplotlib import style, pyplot as plt\n",
        "import matplotlib.patches as patches\n",
        "import matplotlib.ticker as ticker\n",
        "import matplotlib.colors as col\n",
        "\n",
        "from mpl_toolkits.axes_grid1 import make_axes_locatable\n",
        "\n",
        "plt.rcParams['image.cmap'] = 'jet'\n",
        "plt.rcParams['image.origin'] = 'lower'\n",
        "plt.rcParams['figure.figsize'] = (12,12)\n",
        "plt.rcParams['axes.titlesize'] = plt.rcParams['axes.labelsize'] = 15\n",
        "plt.rcParams['xtick.labelsize'] = plt.rcParams['ytick.labelsize'] = 15\n",
        "\n",
        "font1 = {'family': 'sans-serif', 'color': 'black', 'weight': 'normal', 'size': '12'}\n",
        "font2 = {'family': 'sans-serif', 'color': 'black', 'weight': 'normal', 'size': '20'}"
      ]
    },
    {
      "cell_type": "code",
      "execution_count": 9,
      "id": "Hx4tx7ZCvf81",
      "metadata": {
        "colab": {
          "base_uri": "https://localhost:8080/"
        },
        "id": "Hx4tx7ZCvf81",
        "outputId": "a012de6a-54ff-428b-89f1-f6053c76a24b",
        "tags": []
      },
      "outputs": [
        {
          "output_type": "stream",
          "name": "stderr",
          "text": [
            "WARNING:pysiaf:**WARNING**: LOCAL JWST PRD VERSION PRDOPSSOC-062 CANNOT BE CHECKED AGAINST ONLINE VERSION\n"
          ]
        }
      ],
      "source": [
        "import webbpsf\n",
        "from webbpsf.utils import to_griddedpsfmodel"
      ]
    },
    {
      "cell_type": "code",
      "execution_count": 10,
      "id": "iABVs61pUbAq",
      "metadata": {
        "id": "iABVs61pUbAq",
        "tags": []
      },
      "outputs": [],
      "source": [
        "filters = ['F070W', 'F090W', 'F115W', 'F140M', 'F150W2', 'F150W', 'F162M', 'F164N', 'F182M',\n",
        "           'F187N', 'F200W', 'F210M', 'F212N', 'F250M', 'F277W', 'F300M', 'F322W2', 'F323N',\n",
        "           'F335M', 'F356W', 'F360M', 'F405N', 'F410M', 'F430M', 'F444W', 'F460M', 'F466N', 'F470N', 'F480M']\n",
        "\n",
        "psf_fwhm = [0.987, 1.103, 1.298, 1.553, 1.628, 1.770, 1.801, 1.494, 1.990, 2.060, 2.141, 2.304, 2.341, 1.340,\n",
        "            1.444, 1.585, 1.547, 1.711, 1.760, 1.830, 1.901, 2.165, 2.179, 2.300, 2.302, 2.459, 2.507, 2.535, 2.574]\n",
        "\n",
        "dict_utils = {filters[i]: {'psf fwhm': psf_fwhm[i]} for i in range(len(filters))}"
      ]
    },
    {
      "cell_type": "markdown",
      "id": "s_h0xh_kCxZH",
      "metadata": {
        "id": "s_h0xh_kCxZH",
        "tags": []
      },
      "source": [
        "# **Synthetic PSF using Webb PSF**"
      ]
    },
    {
      "cell_type": "code",
      "execution_count": 11,
      "id": "Y8PWVhSWC0Pn",
      "metadata": {
        "id": "Y8PWVhSWC0Pn",
        "tags": []
      },
      "outputs": [],
      "source": [
        "def create_psf_model(det='NRCA1', filt='F070W', fov=101, source=None,\n",
        "                     create_grid=False, num=9, save_psf=False,\n",
        "                     detsampled=False):\n",
        "\n",
        "    nrc = webbpsf.NIRCam()\n",
        "\n",
        "    nrc.detector = det\n",
        "    nrc.filter = filt\n",
        "\n",
        "    print(\"Using a {field}\".format(field=fov), \"px fov\")\n",
        "\n",
        "    if create_grid:\n",
        "        print(\"\")\n",
        "        print(\"Creating a grid of PSF for filter {filt} and detector {det}\".format(filt=filt, det=det))\n",
        "        print(\"\")\n",
        "        num = num\n",
        "\n",
        "        if save_psf:\n",
        "\n",
        "            outname = 'PSF_%s_samp4_fov%d_npsfs%d.fits' % (filt, fov, num)\n",
        "            psf = nrc.psf_grid(num_psfs=num, oversample=4, source=source, all_detectors=False, fov_pixels=fov,\n",
        "                               save=True, outfile=os.path.join(psfs_dir,outname), use_detsampled_psf=detsampled)\n",
        "\n",
        "        else:\n",
        "\n",
        "            psf = nrc.psf_grid(num_psfs=num, oversample=4, source=source, all_detectors=False, fov_pixels=fov,\n",
        "                               use_detsampled_psf=detsampled)\n",
        "\n",
        "    else:\n",
        "        print(\"\")\n",
        "        print(\"Creating a single PSF for filter {filt} and detector {det}\".format(filt=filt, det=det))\n",
        "        print(\"\")\n",
        "        num = 1\n",
        "\n",
        "        if save_psf:\n",
        "\n",
        "            outname = 'PSF_%s_samp4_fov%d_npsfs%d.fits' % (filt, fov, num)\n",
        "            psf = nrc.psf_grid(num_psfs=num, oversample=4, source=source, all_detectors=False, fov_pixels=fov,\n",
        "                               save=True, outfile=os.path.join(psfs_dir,outname), use_detsampled_psf=detsampled)\n",
        "\n",
        "        else:\n",
        "\n",
        "            psf = nrc.psf_grid(num_psfs=num, oversample=4, source=source, all_detectors=False, fov_pixels=fov,\n",
        "                               use_detsampled_psf=detsampled)\n",
        "\n",
        "    return psf"
      ]
    },
    {
      "cell_type": "markdown",
      "id": "cd8779e6-b9b4-4673-8dbb-6a1f640754f9",
      "metadata": {
        "id": "cd8779e6-b9b4-4673-8dbb-6a1f640754f9"
      },
      "source": [
        "# **Empirical PSF**\n",
        "\n",
        "In this section we explore how to construct an empirical PSF from the data using Astropy and Photutils"
      ]
    },
    {
      "cell_type": "markdown",
      "id": "11fbd3ed-7339-473e-b9cb-867a1f76916c",
      "metadata": {
        "id": "11fbd3ed-7339-473e-b9cb-867a1f76916c"
      },
      "source": [
        "## **Source Detection**\n",
        "\n",
        "As a first step to empirical PSF construction we select the stars using which we will be constructing the PSF. We use Photutils Backgound2D for estimating the background and create background subtracted image for employing DAOStarFinder for detecting sources."
      ]
    },
    {
      "cell_type": "code",
      "execution_count": 12,
      "id": "71fa92c2-e81f-467b-aa58-94299746be9f",
      "metadata": {
        "id": "71fa92c2-e81f-467b-aa58-94299746be9f",
        "tags": []
      },
      "outputs": [],
      "source": [
        "def calc_bkg(data, sigma=3.0):\n",
        "\n",
        "    bkgrms = MADStdBackgroundRMS()\n",
        "    mmm_bkg = MMMBackground()\n",
        "\n",
        "    sigma_clip = SigmaClip(sigma=sigma)\n",
        "    coverage_mask = (data == 0)\n",
        "\n",
        "    bkg = Background2D(data, (100, 100), filter_size=(3, 3),\n",
        "                       sigma_clip=sigma_clip, bkg_estimator=mmm_bkg,\n",
        "                        coverage_mask=coverage_mask, fill_value=0.0)\n",
        "\n",
        "    data_bkgsub = data.copy()\n",
        "    data_bkgsub = data_bkgsub - bkg.background\n",
        "\n",
        "    _, _, std = sigma_clipped_stats(data_bkgsub)\n",
        "\n",
        "    return data_bkgsub, std"
      ]
    },
    {
      "cell_type": "code",
      "execution_count": 13,
      "id": "f5bda153-e96a-4167-a3b5-86f21344ba67",
      "metadata": {
        "id": "f5bda153-e96a-4167-a3b5-86f21344ba67",
        "tags": []
      },
      "outputs": [],
      "source": [
        "def find_stars(data, det='NRCA1', filt='F070W', threshold=3, sigma=3.0, sigma_psf=None, smoothen=True, kernel=None):\n",
        "\n",
        "    if sigma_psf is None:\n",
        "        sigma_psf = dict_utils[filt]['psf fwhm']\n",
        "\n",
        "    data, std = calc_bkg(data, sigma)\n",
        "\n",
        "    if smoothen and kernel is not None:\n",
        "        data = convolve_fft(data, kernel)\n",
        "\n",
        "    daofind = DAOStarFinder(threshold=threshold*std, fwhm=sigma_psf)\n",
        "    found_stars = daofind(data)\n",
        "\n",
        "    print('\\nNumber of sources found in the image:', len(found_stars))\n",
        "    print('-------------------------------------\\n')\n",
        "\n",
        "    return found_stars, data"
      ]
    },
    {
      "cell_type": "markdown",
      "id": "6905a525-f0ce-4657-a22a-5f0634809790",
      "metadata": {
        "id": "6905a525-f0ce-4657-a22a-5f0634809790"
      },
      "source": [
        "## **Source Selection**\n",
        "\n",
        "In this section we select the sources for empirical PSF construction. We want sources which are sufficiently round, sharp and bright. Thus, we apply roundness, sharpness and magnitude cuts based on thier distribuitions."
      ]
    },
    {
      "cell_type": "code",
      "execution_count": 14,
      "id": "6f621ceb-0f07-4c79-9020-80fb56e27392",
      "metadata": {
        "id": "6f621ceb-0f07-4c79-9020-80fb56e27392",
        "tags": []
      },
      "outputs": [],
      "source": [
        "def select_stars(found_stars, mag_lim, round_inf=-0.4, round_sup=0.4, sh_inf=0.78, sh_sup=0.92, min_sep=10):\n",
        "\n",
        "    mask = ((found_stars['mag'] < mag_lim) & (found_stars['roundness2'] > round_inf)\n",
        "            & (found_stars['roundness2'] < round_sup) & (found_stars['sharpness'] > sh_inf)\n",
        "            & (found_stars['sharpness'] < sh_sup))\n",
        "\n",
        "    found_stars_sel = found_stars[mask]\n",
        "    found_stars_sel_f115w = found_stars_sel\n",
        "\n",
        "    print('Number of stars selected to build ePSF:', len(found_stars_sel))\n",
        "\n",
        "    # if we include the separation criteria:\n",
        "\n",
        "    d = []\n",
        "\n",
        "    x_tot = found_stars['xcentroid']\n",
        "    y_tot = found_stars['ycentroid']\n",
        "\n",
        "    for xx, yy in zip(found_stars_sel['xcentroid'], found_stars_sel['ycentroid']):\n",
        "\n",
        "        sep = []\n",
        "        dist = np.sqrt((x_tot - xx)**2 + (y_tot - yy)**2)\n",
        "        sep = np.sort(dist)[1:2][0]\n",
        "        d.append(sep)\n",
        "\n",
        "    found_stars_sel['min distance'] = d\n",
        "    mask_dist = (found_stars_sel['min distance'] > min_sep)\n",
        "\n",
        "    found_stars_sel2 = found_stars_sel[mask_dist]\n",
        "\n",
        "    print('Number of stars selected to build ePSF \\\n",
        "    \\nincluding \"mimimum distance closest neighbour\" selection):', len(found_stars_sel2))\n",
        "\n",
        "    return found_stars_sel2"
      ]
    },
    {
      "cell_type": "code",
      "execution_count": 15,
      "id": "79ab2682-6037-4670-a501-1bd04c4392ae",
      "metadata": {
        "id": "79ab2682-6037-4670-a501-1bd04c4392ae",
        "tags": []
      },
      "outputs": [],
      "source": [
        "def build_epsf(data, det='NRCA1', filt='F070W', size=11, found_table=None, oversample=4, iters=10):\n",
        "\n",
        "    hsize = (size - 1) / 2\n",
        "\n",
        "    x = found_table['xcentroid']\n",
        "    y = found_table['ycentroid']\n",
        "\n",
        "    mask = ((x > hsize) & (x < (data.shape[1] - 1 - hsize)) & (y > hsize) & (y < (data.shape[0] - 1 - hsize)))\n",
        "\n",
        "    stars_tbl = Table()\n",
        "    stars_tbl['x'] = x[mask]\n",
        "    stars_tbl['y'] = y[mask]\n",
        "\n",
        "    data_bkgsub, _ = calc_bkg(data)\n",
        "\n",
        "    nddata = NDData(data=data)\n",
        "    stars = extract_stars(nddata, stars_tbl, size=size)\n",
        "\n",
        "    print('Creating ePSF --- Detector {d}, filter {f}'.format(f=filt, d=det))\n",
        "\n",
        "    epsf_builder = EPSFBuilder(oversampling=oversample, maxiters=iters, progress_bar=True)\n",
        "\n",
        "    epsf, fitted_stars = epsf_builder(stars)\n",
        "\n",
        "    return epsf"
      ]
    },
    {
      "cell_type": "markdown",
      "id": "6044c421-167f-4602-8df2-cf809480e216",
      "metadata": {
        "id": "6044c421-167f-4602-8df2-cf809480e216"
      },
      "source": [
        "# **PSF Photometry using Photutils**"
      ]
    },
    {
      "cell_type": "code",
      "execution_count": 16,
      "id": "a4034c42-833c-4e65-95a7-5774c28f2f17",
      "metadata": {
        "id": "a4034c42-833c-4e65-95a7-5774c28f2f17",
        "tags": []
      },
      "outputs": [],
      "source": [
        "def psf_phot(data=None, det='NRCA1', filt='F070W', th=2000,\n",
        "             fit_shape=(11,11),\n",
        "             psf=None, ap_radius=3.5, save_residuals=False,\n",
        "             save_output=False,\n",
        "             maxiters=2):\n",
        "\n",
        "    fitter = LevMarLSQFitter()\n",
        "    bkgstat = MMMBackground()\n",
        "    localbkg_estimator = LocalBackground(11, 16, bkgstat)\n",
        "\n",
        "    sigma_psf = dict_utils[filt]['psf fwhm']\n",
        "    print('FWHM for filter {f}:'.format(f=filt), sigma_psf)\n",
        "\n",
        "    _, std = calc_bkg(data)\n",
        "\n",
        "    daofind = DAOStarFinder(threshold=th*std, fwhm=sigma_psf)\n",
        "\n",
        "    grouper = SourceGrouper(5.0*sigma_psf)\n",
        "\n",
        "    psf_model = psf.copy()\n",
        "\n",
        "    print('Performing the PSF photometry --- Detector {d}, filter {f}'.format(f=filt, d=det))\n",
        "\n",
        "    tic = time.perf_counter()\n",
        "\n",
        "    phot = IterativePSFPhotometry(finder=daofind, grouper=grouper,\n",
        "                                  localbkg_estimator=localbkg_estimator,\n",
        "                                  psf_model=psf_model,fitter=fitter,\n",
        "                                  maxiters=maxiters, fit_shape=fit_shape,\n",
        "                                  aperture_radius=ap_radius,\n",
        "                                  progress_bar = True)\n",
        "    result = phot(data)\n",
        "\n",
        "    toc = time.perf_counter()\n",
        "\n",
        "    print('Time needed to perform photometry:', '%.2f' % ((toc - tic) / 3600), 'hours')\n",
        "    print('Number of sources detected:', len(result))\n",
        "\n",
        "    residual_image = phot.make_residual_image(data,(11,11))\n",
        "\n",
        "    # save the residual images as fits file:\n",
        "\n",
        "    if save_residuals:\n",
        "        hdu = fits.PrimaryHDU(residual_image)\n",
        "        hdul = fits.HDUList([hdu])\n",
        "\n",
        "        residual_outname = 'residual_%s_%s.fits' % (det, filt)\n",
        "\n",
        "        hdul.writeto(os.path.join(res_dir, residual_outname))\n",
        "\n",
        "    # save the output photometry Tables\n",
        "\n",
        "    if save_output:\n",
        "\n",
        "        outname = 'phot_%s_%s.pkl' % (det, filt)\n",
        "\n",
        "        tab = result.to_pandas()\n",
        "        tab.to_pickle(os.path.join(output_phot_dir, outname))\n",
        "\n",
        "    return result, residual_image, phot"
      ]
    },
    {
      "cell_type": "markdown",
      "id": "3oE3zwrJUyAO",
      "metadata": {
        "id": "3oE3zwrJUyAO"
      },
      "source": [
        "# **Pipeline**"
      ]
    },
    {
      "cell_type": "markdown",
      "id": "i4KdK1Ye7jiI",
      "metadata": {
        "id": "i4KdK1Ye7jiI"
      },
      "source": [
        "## **Input Data**"
      ]
    },
    {
      "cell_type": "code",
      "execution_count": 17,
      "id": "e11621c7-9d5b-4310-80c8-1d8fd15832dd",
      "metadata": {
        "colab": {
          "base_uri": "https://localhost:8080/"
        },
        "id": "e11621c7-9d5b-4310-80c8-1d8fd15832dd",
        "outputId": "a8badd30-d02d-46ec-e744-0466b1527b9f",
        "tags": []
      },
      "outputs": [
        {
          "output_type": "stream",
          "name": "stdout",
          "text": [
            "Downloading images\n",
            "Available Detectors for SW channel: ['NRCB1']\n",
            "Available Detectors for LW channel: ['NRCB5']\n",
            "Available SW Filters: ['F115W', 'F200W']\n",
            "Available LW Filters: ['F277W', 'F444W']\n"
          ]
        }
      ],
      "source": [
        "dict_images = {'NRCA1': {}, 'NRCA2': {}, 'NRCA3': {}, 'NRCA4': {}, 'NRCA5': {},\n",
        "               'NRCB1': {}, 'NRCB2': {}, 'NRCB3': {}, 'NRCB4': {}, 'NRCB5': {}}\n",
        "\n",
        "dict_filter_short = {}\n",
        "dict_filter_long = {}\n",
        "\n",
        "ff_short = []\n",
        "det_short = []\n",
        "det_long = []\n",
        "ff_long = []\n",
        "detlist_short = []\n",
        "detlist_long = []\n",
        "filtlist_short = []\n",
        "filtlist_long = []\n",
        "\n",
        "data_dir = '.'\n",
        "\n",
        "if not glob.glob(f'{data_dir}/*cal*fits'):\n",
        "\n",
        "    print(\"Downloading images\")\n",
        "\n",
        "    boxlink_images_lev2 = 'https://stsci.box.com/shared/static/dt0gm0lyvi1yfh942vad6a8gb5utd85m.gz'\n",
        "    boxfile_images_lev2 = './single_images_lev2.tar.gz'\n",
        "    urllib.request.urlretrieve(boxlink_images_lev2, boxfile_images_lev2)\n",
        "\n",
        "    tar = tarfile.open(boxfile_images_lev2, 'r')\n",
        "    tar.extractall()\n",
        "\n",
        "    images_dir = f'{data_dir}/'\n",
        "    images = sorted(glob.glob(os.path.join(images_dir, \"*cal.fits\")))\n",
        "\n",
        "else:\n",
        "\n",
        "    images_dir = f'{data_dir}'\n",
        "    images = sorted(glob.glob(os.path.join(images_dir, \"*cal.fits\")))\n",
        "\n",
        "for image in images:\n",
        "\n",
        "    im = fits.open(image)\n",
        "    f = im[0].header['FILTER']\n",
        "    d = im[0].header['DETECTOR']\n",
        "\n",
        "    if d == 'NRCBLONG':\n",
        "        d = 'NRCB5'\n",
        "    elif d == 'NRCALONG':\n",
        "        d = 'NRCA5'\n",
        "    else:\n",
        "        d = d\n",
        "\n",
        "    wv = float(f[1:3])\n",
        "\n",
        "    if wv > 24:\n",
        "        ff_long.append(f)\n",
        "        det_long.append(d)\n",
        "\n",
        "    else:\n",
        "        ff_short.append(f)\n",
        "        det_short.append(d)\n",
        "\n",
        "    detlist_short = sorted(list(dict.fromkeys(det_short)))\n",
        "    detlist_long = sorted(list(dict.fromkeys(det_long)))\n",
        "\n",
        "    unique_list_filters_short = []\n",
        "    unique_list_filters_long = []\n",
        "\n",
        "    for x in ff_short:\n",
        "\n",
        "        if x not in unique_list_filters_short:\n",
        "\n",
        "            dict_filter_short.setdefault(x, {})\n",
        "\n",
        "    for x in ff_long:\n",
        "        if x not in unique_list_filters_long:\n",
        "            dict_filter_long.setdefault(x, {})\n",
        "\n",
        "    for d_s in detlist_short:\n",
        "        dict_images[d_s] = dict_filter_short\n",
        "\n",
        "    for d_l in detlist_long:\n",
        "        dict_images[d_l] = dict_filter_long\n",
        "\n",
        "    filtlist_short = sorted(list(dict.fromkeys(dict_filter_short)))\n",
        "    filtlist_long = sorted(list(dict.fromkeys(dict_filter_long)))\n",
        "\n",
        "    if len(dict_images[d][f]) == 0:\n",
        "        dict_images[d][f] = {'images': [image]}\n",
        "    else:\n",
        "        dict_images[d][f]['images'].append(image)\n",
        "\n",
        "print(\"Available Detectors for SW channel:\", detlist_short)\n",
        "print(\"Available Detectors for LW channel:\", detlist_long)\n",
        "print(\"Available SW Filters:\", filtlist_short)\n",
        "print(\"Available LW Filters:\", filtlist_long)"
      ]
    },
    {
      "cell_type": "code",
      "execution_count": null,
      "id": "eeb90f72-34c6-44c0-8613-6be19fa8448e",
      "metadata": {
        "tags": [],
        "id": "eeb90f72-34c6-44c0-8613-6be19fa8448e"
      },
      "outputs": [],
      "source": [
        "dict_images"
      ]
    },
    {
      "cell_type": "code",
      "execution_count": 22,
      "id": "2aea156e-b297-4f1d-aeb1-fa7fdad8117f",
      "metadata": {
        "colab": {
          "base_uri": "https://localhost:8080/",
          "height": 245
        },
        "id": "2aea156e-b297-4f1d-aeb1-fa7fdad8117f",
        "outputId": "d54ac124-7fba-435d-b1a4-fd39eaa2f23c",
        "tags": []
      },
      "outputs": [
        {
          "output_type": "error",
          "ename": "KeyError",
          "evalue": "ignored",
          "traceback": [
            "\u001b[0;31m---------------------------------------------------------------------------\u001b[0m",
            "\u001b[0;31mKeyError\u001b[0m                                  Traceback (most recent call last)",
            "\u001b[0;32m<ipython-input-22-61683968732a>\u001b[0m in \u001b[0;36m<cell line: 4>\u001b[0;34m()\u001b[0m\n\u001b[1;32m      2\u001b[0m \u001b[0mfilt\u001b[0m \u001b[0;34m=\u001b[0m \u001b[0;34m'F115W'\u001b[0m\u001b[0;34m\u001b[0m\u001b[0;34m\u001b[0m\u001b[0m\n\u001b[1;32m      3\u001b[0m \u001b[0;34m\u001b[0m\u001b[0m\n\u001b[0;32m----> 4\u001b[0;31m \u001b[0mhdul\u001b[0m \u001b[0;34m=\u001b[0m \u001b[0mfits\u001b[0m\u001b[0;34m.\u001b[0m\u001b[0mopen\u001b[0m\u001b[0;34m(\u001b[0m\u001b[0mdict_images\u001b[0m\u001b[0;34m[\u001b[0m\u001b[0mdet\u001b[0m\u001b[0;34m]\u001b[0m\u001b[0;34m[\u001b[0m\u001b[0mfilt\u001b[0m\u001b[0;34m]\u001b[0m\u001b[0;34m[\u001b[0m\u001b[0;34m'images'\u001b[0m\u001b[0;34m]\u001b[0m\u001b[0;34m[\u001b[0m\u001b[0;36m0\u001b[0m\u001b[0;34m]\u001b[0m\u001b[0;34m)\u001b[0m\u001b[0;34m\u001b[0m\u001b[0;34m\u001b[0m\u001b[0m\n\u001b[0m\u001b[1;32m      5\u001b[0m \u001b[0mdata_sb\u001b[0m \u001b[0;34m=\u001b[0m \u001b[0mhdul\u001b[0m\u001b[0;34m[\u001b[0m\u001b[0;36m1\u001b[0m\u001b[0;34m]\u001b[0m\u001b[0;34m.\u001b[0m\u001b[0mdata\u001b[0m\u001b[0;34m\u001b[0m\u001b[0;34m\u001b[0m\u001b[0m\n\u001b[1;32m      6\u001b[0m \u001b[0;34m\u001b[0m\u001b[0m\n",
            "\u001b[0;31mKeyError\u001b[0m: 'F115W'"
          ]
        }
      ],
      "source": [
        "det = 'NRCB1'\n",
        "filt = 'F115W'\n",
        "\n",
        "hdul = fits.open(dict_images[det][filt]['images'][0])\n",
        "data_sb = hdul[1].data\n",
        "\n",
        "imh = hdul[1].header\n",
        "wcs = WCS(hdul[1].header)\n",
        "data = data_sb / imh['PHOTMJSR']\n",
        "print('Conversion factor from {units} to DN/s for filter {f}:'.format(units=imh['BUNIT'], f=filt), imh['PHOTMJSR'])\n",
        "area = hdul[4].data\n",
        "data = data * area"
      ]
    },
    {
      "cell_type": "code",
      "execution_count": null,
      "id": "Y4h0aZIv7nr8",
      "metadata": {
        "id": "Y4h0aZIv7nr8",
        "tags": []
      },
      "outputs": [],
      "source": [
        "plt.figure(figsize=(7, 7))\n",
        "\n",
        "ax = plt.subplot(1, 1, 1, projection=wcs)\n",
        "\n",
        "plt.title(filt, fontdict=font2)\n",
        "norm = simple_norm(data, 'sqrt', percent=99.)\n",
        "\n",
        "ax.imshow(data, norm=norm, cmap='Greys')\n",
        "\n",
        "plt.tight_layout()"
      ]
    },
    {
      "cell_type": "markdown",
      "id": "hyqPoq-5U2Iy",
      "metadata": {
        "id": "hyqPoq-5U2Iy"
      },
      "source": [
        "## **PSF**"
      ]
    },
    {
      "cell_type": "markdown",
      "id": "5kKO70KnU4ho",
      "metadata": {
        "id": "5kKO70KnU4ho",
        "jp-MarkdownHeadingCollapsed": true,
        "tags": []
      },
      "source": [
        "### **Synthetic PSF**"
      ]
    },
    {
      "cell_type": "code",
      "execution_count": null,
      "id": "09RkiQoHC0ZW",
      "metadata": {
        "id": "09RkiQoHC0ZW"
      },
      "outputs": [],
      "source": [
        "psfs_dir = 'PSF_MODELS/'\n",
        "\n",
        "if not os.path.exists(psfs_dir):\n",
        "    os.makedirs(psfs_dir)\n",
        "\n",
        "psf_webbpsf_single = create_psf_model(det=det, filt=filt, fov=51, source=None, create_grid=False, save_psf=False,\n",
        "                                      detsampled=False)"
      ]
    },
    {
      "cell_type": "code",
      "execution_count": 24,
      "id": "cQ09VqoqOhqm",
      "metadata": {
        "id": "cQ09VqoqOhqm",
        "tags": [],
        "outputId": "138e888d-576a-408e-b099-27754e388ea6",
        "colab": {
          "base_uri": "https://localhost:8080/"
        }
      },
      "outputs": [
        {
          "output_type": "stream",
          "name": "stdout",
          "text": [
            "Using a 51 px fov\n",
            "\n",
            "Creating a grid of PSF for filter F115W and detector NRCB1\n",
            "\n",
            "\n",
            "Running instrument: NIRCam, filter: F115W\n",
            "  Running detector: NRCB1\n",
            "    Position 1/16: (0, 0) pixels\n",
            "    Position 1/16 centroid: (101.4139433170375, 101.27816268514347)\n",
            "    Position 2/16: (0, 682) pixels\n",
            "    Position 2/16 centroid: (101.53087472922604, 101.16665316242036)\n",
            "    Position 3/16: (0, 1365) pixels\n",
            "    Position 3/16 centroid: (101.6668682608167, 101.1513225859101)\n",
            "    Position 4/16: (0, 2047) pixels\n",
            "    Position 4/16 centroid: (101.80308521238825, 101.23672463922765)\n",
            "    Position 5/16: (682, 0) pixels\n",
            "    Position 5/16 centroid: (101.4061658308943, 101.29226414261228)\n",
            "    Position 6/16: (682, 682) pixels\n",
            "    Position 6/16 centroid: (101.54980655247849, 101.33073137794545)\n",
            "    Position 7/16: (682, 1365) pixels\n",
            "    Position 7/16 centroid: (101.70572497597668, 101.30816686559425)\n",
            "    Position 8/16: (682, 2047) pixels\n",
            "    Position 8/16 centroid: (101.84268189868885, 101.30682665606176)\n",
            "    Position 9/16: (1365, 0) pixels\n",
            "    Position 9/16 centroid: (101.42897379417658, 101.41907887702335)\n",
            "    Position 10/16: (1365, 682) pixels\n",
            "    Position 10/16 centroid: (101.51874381153299, 101.45825612786771)\n",
            "    Position 11/16: (1365, 1365) pixels\n",
            "    Position 11/16 centroid: (101.66087933836869, 101.43460827031808)\n",
            "    Position 12/16: (1365, 2047) pixels\n",
            "    Position 12/16 centroid: (101.86665885444519, 101.45781209546928)\n",
            "    Position 13/16: (2047, 0) pixels\n",
            "    Position 13/16 centroid: (101.45737959953917, 101.69457347383154)\n",
            "    Position 14/16: (2047, 682) pixels\n",
            "    Position 14/16 centroid: (101.54659408961652, 101.62329050471403)\n",
            "    Position 15/16: (2047, 1365) pixels\n",
            "    Position 15/16 centroid: (101.66798319948079, 101.5703803142247)\n",
            "    Position 16/16: (2047, 2047) pixels\n",
            "    Position 16/16 centroid: (101.8336390358766, 101.50842784202152)\n"
          ]
        }
      ],
      "source": [
        "psfs_dir = 'PSF_MODELS/'\n",
        "\n",
        "if not os.path.exists(psfs_dir):\n",
        "    os.makedirs(psfs_dir)\n",
        "\n",
        "psf_webbpsf_grid = create_psf_model(det=det, filt=filt, fov=51, source=None, create_grid=True, num=16,\n",
        "                                    save_psf=False, detsampled=False)"
      ]
    },
    {
      "cell_type": "markdown",
      "id": "HICwHjfCU9YH",
      "metadata": {
        "id": "HICwHjfCU9YH"
      },
      "source": [
        "### **Empirical PSF**"
      ]
    },
    {
      "cell_type": "code",
      "execution_count": null,
      "id": "7bde4e96-694d-424e-8d2d-b389da506632",
      "metadata": {
        "id": "7bde4e96-694d-424e-8d2d-b389da506632",
        "tags": []
      },
      "outputs": [],
      "source": [
        "tic = time.perf_counter()\n",
        "\n",
        "# Source Detection\n",
        "\n",
        "found_stars, data_out = find_stars(data, det=det, filt=filt, threshold=10, smoothen=False)\n",
        "\n",
        "toc = time.perf_counter()\n",
        "\n",
        "print(\"Elapsed Time for finding stars:\", toc - tic)"
      ]
    },
    {
      "cell_type": "code",
      "execution_count": null,
      "id": "0fc6f74e-61d2-47d0-a2fc-6aabbcce077a",
      "metadata": {
        "id": "0fc6f74e-61d2-47d0-a2fc-6aabbcce077a",
        "tags": []
      },
      "outputs": [],
      "source": [
        "# Source Selection\n",
        "plt.figure(figsize=(12, 8))\n",
        "plt.clf()\n",
        "\n",
        "ax1 = plt.subplot(2, 1, 1)\n",
        "\n",
        "ax1.set_xlabel('mag', fontdict=font2)\n",
        "ax1.set_ylabel('sharpness', fontdict=font2)\n",
        "\n",
        "xlim0 = np.min(found_stars['mag']) - 0.25\n",
        "xlim1 = np.max(found_stars['mag']) + 0.25\n",
        "ylim0 = np.min(found_stars['sharpness']) - 0.15\n",
        "ylim1 = np.max(found_stars['sharpness']) + 0.15\n",
        "\n",
        "ax1.set_xlim(xlim0, xlim1)\n",
        "ax1.set_ylim(ylim0, ylim1)\n",
        "\n",
        "ax1.xaxis.set_major_locator(ticker.AutoLocator())\n",
        "ax1.xaxis.set_minor_locator(ticker.AutoMinorLocator())\n",
        "ax1.yaxis.set_major_locator(ticker.AutoLocator())\n",
        "ax1.yaxis.set_minor_locator(ticker.AutoMinorLocator())\n",
        "\n",
        "ax1.scatter(found_stars['mag'], found_stars['sharpness'], s=10, color='k')\n",
        "\n",
        "sh_inf = 0.78\n",
        "sh_sup = 0.92\n",
        "mag_lim = -4.0\n",
        "\n",
        "ax1.plot([xlim0, xlim1], [sh_sup, sh_sup], color='r', lw=3, ls='--')\n",
        "ax1.plot([xlim0, xlim1], [sh_inf, sh_inf], color='r', lw=3, ls='--')\n",
        "ax1.plot([mag_lim, mag_lim], [ylim0, ylim1], color='r', lw=3, ls='--')\n",
        "\n",
        "ax2 = plt.subplot(2, 1, 2)\n",
        "\n",
        "ax2.set_xlabel('mag', fontdict=font2)\n",
        "ax2.set_ylabel('roundness', fontdict=font2)\n",
        "\n",
        "ylim0 = np.min(found_stars['roundness2']) - 0.25\n",
        "ylim1 = np.max(found_stars['roundness2']) - 0.25\n",
        "\n",
        "ax2.set_xlim(xlim0, xlim1)\n",
        "ax2.set_ylim(ylim0, ylim1)\n",
        "\n",
        "ax2.xaxis.set_major_locator(ticker.AutoLocator())\n",
        "ax2.xaxis.set_minor_locator(ticker.AutoMinorLocator())\n",
        "ax2.yaxis.set_major_locator(ticker.AutoLocator())\n",
        "ax2.yaxis.set_minor_locator(ticker.AutoMinorLocator())\n",
        "\n",
        "round_inf = -0.40\n",
        "round_sup = 0.40\n",
        "\n",
        "ax2.scatter(found_stars['mag'], found_stars['roundness2'], s=10, color='k')\n",
        "\n",
        "ax2.plot([xlim0, xlim1], [round_sup, round_sup], color='r', lw=3, ls='--')\n",
        "ax2.plot([xlim0, xlim1], [round_inf, round_inf], color='r', lw=3, ls='--')\n",
        "ax2.plot([mag_lim, mag_lim], [ylim0, ylim1], color='r', lw=3, ls='--')\n",
        "\n",
        "plt.tight_layout()"
      ]
    },
    {
      "cell_type": "code",
      "execution_count": null,
      "id": "zCn5W6Yx7BTH",
      "metadata": {
        "id": "zCn5W6Yx7BTH",
        "tags": []
      },
      "outputs": [],
      "source": [
        "found_table_sel = select_stars(found_stars, mag_lim, round_inf, round_sup, sh_inf, sh_sup, min_sep=20)"
      ]
    },
    {
      "cell_type": "code",
      "execution_count": null,
      "id": "2c6053ff-496b-4193-afd6-f5847894e7f5",
      "metadata": {
        "id": "2c6053ff-496b-4193-afd6-f5847894e7f5",
        "tags": []
      },
      "outputs": [],
      "source": [
        "# Building Empirical PSF\n",
        "epsf = build_epsf(data, det=det, filt=filt, size=21, found_table=found_table_sel, oversample=4, iters=10)"
      ]
    },
    {
      "cell_type": "code",
      "execution_count": null,
      "id": "c26fe767-c8be-427d-bed3-8b2d48d48170",
      "metadata": {
        "tags": [],
        "id": "c26fe767-c8be-427d-bed3-8b2d48d48170"
      },
      "outputs": [],
      "source": [
        "plt.imshow(epsf.data, norm=col.LogNorm())"
      ]
    },
    {
      "cell_type": "markdown",
      "id": "WLU6x0iA7dPe",
      "metadata": {
        "id": "WLU6x0iA7dPe"
      },
      "source": [
        "## **Photometry**"
      ]
    },
    {
      "cell_type": "code",
      "execution_count": null,
      "id": "f1634b0e-c79d-4075-afae-07bd5389a377",
      "metadata": {
        "id": "f1634b0e-c79d-4075-afae-07bd5389a377",
        "tags": []
      },
      "outputs": [],
      "source": [
        "data1 = data\n",
        "# data1 = data\n",
        "\n",
        "output_phot_dir = 'PHOT_OUTPUT/'\n",
        "\n",
        "if not os.path.exists(output_phot_dir):\n",
        "    os.makedirs(output_phot_dir)\n",
        "\n",
        "res_dir = 'RESIDUAL_IMAGES/'\n",
        "\n",
        "if not os.path.exists(res_dir):\n",
        "    os.makedirs(res_dir)\n",
        "\n",
        "if glob.glob(os.path.join(res_dir, 'residual*F115W.fits')):\n",
        "    print('Deleting Residual images from directory')\n",
        "    files = glob.glob(os.path.join(res_dir, 'residual*F115W.fits'))\n",
        "    for file in files:\n",
        "        os.remove(file)\n",
        "\n",
        "psf_phot_table, residual_image, phot = psf_phot(data=data1, det=det, filt=filt, th=10, psf=epsf,\n",
        "                                            save_residuals=True, save_output=True, maxiters=3)"
      ]
    },
    {
      "cell_type": "code",
      "execution_count": null,
      "id": "b4938f69-4304-4424-bacb-f5c7e57649ae",
      "metadata": {
        "tags": [],
        "id": "b4938f69-4304-4424-bacb-f5c7e57649ae"
      },
      "outputs": [],
      "source": [
        "psf_phot_results = psf_phot_results[(psf_phot_results['flux_fit']>0) & (psf_phot_results['flags']!=8)]"
      ]
    },
    {
      "cell_type": "code",
      "execution_count": null,
      "id": "6d2b5565-cb62-43e1-a7ba-8392affd7c59",
      "metadata": {
        "tags": [],
        "id": "6d2b5565-cb62-43e1-a7ba-8392affd7c59"
      },
      "outputs": [],
      "source": [
        "help(phot)"
      ]
    },
    {
      "cell_type": "code",
      "execution_count": null,
      "id": "983c033c-b974-40c1-a36f-8cd0f89fbe02",
      "metadata": {
        "tags": [],
        "id": "983c033c-b974-40c1-a36f-8cd0f89fbe02"
      },
      "outputs": [],
      "source": [
        "psf_phot_results"
      ]
    },
    {
      "cell_type": "code",
      "execution_count": null,
      "id": "6c545cba-fd42-4d36-ae76-889fba965c93",
      "metadata": {
        "tags": [],
        "id": "6c545cba-fd42-4d36-ae76-889fba965c93"
      },
      "outputs": [],
      "source": [
        "plt.imshow(residual_image, norm= col.LogNorm())"
      ]
    },
    {
      "cell_type": "code",
      "execution_count": null,
      "id": "7b5a0cba-3031-4a3b-9874-e3302c5babfe",
      "metadata": {
        "id": "7b5a0cba-3031-4a3b-9874-e3302c5babfe",
        "tags": []
      },
      "outputs": [],
      "source": [
        "positions = np.transpose([psf_phot_results['x_fit'].value, psf_phot_results['y_fit'].value])"
      ]
    },
    {
      "cell_type": "code",
      "execution_count": null,
      "id": "DvplLKyhN1PH",
      "metadata": {
        "id": "DvplLKyhN1PH"
      },
      "outputs": [],
      "source": [
        "coords = np.array(wcs.pixel_to_world_values(positions))\n",
        "psf_phot_results['ra'] = coords[:,0]\n",
        "psf_phot_results['dec'] = coords[:,1]"
      ]
    },
    {
      "cell_type": "code",
      "execution_count": null,
      "id": "aae2c075-6676-4c1f-b582-251270e28552",
      "metadata": {
        "id": "aae2c075-6676-4c1f-b582-251270e28552",
        "tags": []
      },
      "outputs": [],
      "source": [
        "psf_phot_results"
      ]
    },
    {
      "cell_type": "code",
      "execution_count": null,
      "id": "324e1373-895a-4c45-9022-3e5ff4171420",
      "metadata": {
        "id": "324e1373-895a-4c45-9022-3e5ff4171420",
        "tags": []
      },
      "outputs": [],
      "source": [
        "apers = CircularAperture(positions, r = 6.5)\n",
        "bag_apers = CircularAnnulus(positions, 8,11)\n",
        "phot_table = aperture_photometry(data1, [apers, bag_apers])"
      ]
    },
    {
      "cell_type": "code",
      "execution_count": null,
      "id": "Vy1T5kUhMIQr",
      "metadata": {
        "id": "Vy1T5kUhMIQr"
      },
      "outputs": [],
      "source": [
        "phot_table['sky_flux'] = phot_table['aperture_sum_1']*(apers.area/bag_apers.area)\n",
        "\n",
        "# calculate source flux\n",
        "phot_table['flux'] = phot_table['aperture_sum_0'].value #- phot_table['sky_flux'].value\n",
        "# calculate error on the source flux\n",
        "phot_table['flux_err'] = np.sqrt(phot_table['flux'].value + phot_table['sky_flux'].value)\n",
        "\n",
        "# calculate signal to noise ratio\n",
        "phot_table['SNR'] = phot_table['flux']/phot_table['flux_err']"
      ]
    },
    {
      "cell_type": "code",
      "execution_count": null,
      "id": "2egvj014MX03",
      "metadata": {
        "id": "2egvj014MX03"
      },
      "outputs": [],
      "source": [
        "phot_table"
      ]
    },
    {
      "cell_type": "code",
      "execution_count": null,
      "id": "cTI-ov4WQExl",
      "metadata": {
        "id": "cTI-ov4WQExl"
      },
      "outputs": [],
      "source": [
        "x = phot_table['flux']\n",
        "y = psf_phot_results['flux_fit']\n",
        "plt.scatter(x,y, color = 'black',s=1)"
      ]
    },
    {
      "cell_type": "code",
      "execution_count": null,
      "id": "zKx7xqRZPRl9",
      "metadata": {
        "id": "zKx7xqRZPRl9",
        "tags": []
      },
      "outputs": [],
      "source": [
        "positions = np.transpose([phot_table['xcenter'].value, phot_table['ycenter'].value])"
      ]
    },
    {
      "cell_type": "code",
      "execution_count": null,
      "id": "7mBw-fj3PRl9",
      "metadata": {
        "id": "7mBw-fj3PRl9"
      },
      "outputs": [],
      "source": [
        "coords = np.array(wcs.pixel_to_world_values(positions))\n",
        "phot_table['ra'] = coords[:,0]\n",
        "phot_table['dec'] = coords[:,1]"
      ]
    },
    {
      "cell_type": "code",
      "execution_count": null,
      "id": "wjU-wVRbPj3w",
      "metadata": {
        "id": "wjU-wVRbPj3w"
      },
      "outputs": [],
      "source": [
        "pos1 = SkyCoord(psf_phot_results['ra'], psf_phot_results['dec'], unit='deg')\n",
        "pos2 = SkyCoord(phot_table['ra'], phot_table['dec'], unit='deg')"
      ]
    },
    {
      "cell_type": "code",
      "execution_count": null,
      "id": "25e10ab0-1e20-4da5-87eb-89a42eb99fa9",
      "metadata": {
        "id": "25e10ab0-1e20-4da5-87eb-89a42eb99fa9",
        "tags": []
      },
      "outputs": [],
      "source": [
        "plt.figure(figsize=(16, 14))\n",
        "\n",
        "ax1 = plt.subplot(2, 2, 1)\n",
        "\n",
        "plt.xlabel(\"X [px]\", fontdict=font2)\n",
        "plt.ylabel(\"Y [px]\", fontdict=font2)\n",
        "plt.title(filt, fontdict=font2)\n",
        "\n",
        "norm = simple_norm(data1, 'sqrt', percent=99.)\n",
        "ax1.imshow(data1, norm=norm, cmap='Greys')\n",
        "\n",
        "ax2 = plt.subplot(2, 2, 2)\n",
        "\n",
        "plt.xlabel(\"X [px]\", fontdict=font2)\n",
        "plt.ylabel(\"Y [px]\", fontdict=font2)\n",
        "plt.title('residuals', fontdict=font2)\n",
        "\n",
        "norm = simple_norm(data1, 'sqrt', percent=99.)\n",
        "ax2.imshow(residual_image, norm=norm, cmap='Greys')\n",
        "\n",
        "apertures.plot(ax1, color = 'red', lw=2);"
      ]
    },
    {
      "cell_type": "code",
      "execution_count": null,
      "id": "387d8cc2-2373-491d-895c-accde57d0f61",
      "metadata": {
        "id": "387d8cc2-2373-491d-895c-accde57d0f61"
      },
      "outputs": [],
      "source": []
    }
  ],
  "metadata": {
    "colab": {
      "collapsed_sections": [
        "cnJPXox0qrnQ",
        "jj0UgSIcqvYI",
        "s_h0xh_kCxZH",
        "cd8779e6-b9b4-4673-8dbb-6a1f640754f9",
        "6044c421-167f-4602-8df2-cf809480e216",
        "i4KdK1Ye7jiI",
        "HICwHjfCU9YH"
      ],
      "provenance": []
    },
    "kernelspec": {
      "display_name": "Python [conda env:inaoe]",
      "language": "python",
      "name": "conda-env-inaoe-py"
    },
    "language_info": {
      "codemirror_mode": {
        "name": "ipython",
        "version": 3
      },
      "file_extension": ".py",
      "mimetype": "text/x-python",
      "name": "python",
      "nbconvert_exporter": "python",
      "pygments_lexer": "ipython3",
      "version": "3.10.9"
    }
  },
  "nbformat": 4,
  "nbformat_minor": 5
}