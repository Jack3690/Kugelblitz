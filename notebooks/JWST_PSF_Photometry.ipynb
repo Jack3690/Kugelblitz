{
 "cells": [
  {
   "cell_type": "markdown",
   "id": "cnJPXox0qrnQ",
   "metadata": {
    "id": "cnJPXox0qrnQ"
   },
   "source": [
    "# **Installs**"
   ]
  },
  {
   "cell_type": "code",
   "execution_count": null,
   "id": "2UT-qaOGqu7_",
   "metadata": {
    "colab": {
     "base_uri": "https://localhost:8080/"
    },
    "id": "2UT-qaOGqu7_",
    "outputId": "e6a4cf4a-52e5-4870-9d49-c887181da40c"
   },
   "outputs": [],
   "source": [
    "!pip install photutils --quiet\n",
    "!pip install webbpsf --quiet"
   ]
  },
  {
   "cell_type": "code",
   "execution_count": null,
   "id": "4VFyv_WOrJlL",
   "metadata": {
    "colab": {
     "base_uri": "https://localhost:8080/"
    },
    "id": "4VFyv_WOrJlL",
    "outputId": "98c71e08-bd87-48bd-bedc-4b0eaee24aa8",
    "tags": []
   },
   "outputs": [],
   "source": [
    "!wget https://stsci.box.com/shared/static/qxpiaxsjwo15ml6m4pkhtk36c9jgj70k.gz -O webbpsf-data-1.2.1.tar.gz"
   ]
  },
  {
   "cell_type": "code",
   "execution_count": null,
   "id": "XAxyttMFsyQ-",
   "metadata": {
    "id": "XAxyttMFsyQ-"
   },
   "outputs": [],
   "source": [
    "!tar -xf webbpsf-data-1.2.1.tar.gz"
   ]
  },
  {
   "cell_type": "code",
   "execution_count": null,
   "id": "8gLYVxMBtU18",
   "metadata": {
    "id": "8gLYVxMBtU18"
   },
   "outputs": [],
   "source": [
    "!rm webbpsf-data-1.2.1.tar.gz"
   ]
  },
  {
   "cell_type": "code",
   "execution_count": null,
   "id": "FWeYzQ8cH1sM",
   "metadata": {
    "id": "FWeYzQ8cH1sM"
   },
   "outputs": [],
   "source": [
    "!pip uninstall numexpr --quiet -y"
   ]
  },
  {
   "cell_type": "markdown",
   "id": "jj0UgSIcqvYI",
   "metadata": {
    "id": "jj0UgSIcqvYI"
   },
   "source": [
    "# **Imports**"
   ]
  },
  {
   "cell_type": "code",
   "execution_count": null,
   "id": "1a3615bd-bb61-415f-a3a1-0181ac2b99cc",
   "metadata": {
    "id": "1a3615bd-bb61-415f-a3a1-0181ac2b99cc",
    "tags": []
   },
   "outputs": [],
   "source": [
    "import sys\n",
    "import time\n",
    "import numpy as np\n",
    "import pandas as pd\n",
    "import glob as glob\n",
    "import urllib.request\n",
    "import tarfile\n",
    "import os\n",
    "\n",
    "from astropy.io import fits\n",
    "from astropy.visualization import simple_norm\n",
    "from astropy.nddata import NDData\n",
    "from astropy.wcs import WCS\n",
    "from astropy.modeling.fitting import LevMarLSQFitter\n",
    "from astropy.table import Table, QTable\n",
    "from astropy.coordinates import SkyCoord, match_coordinates_sky\n",
    "from astropy import units as u\n",
    "from astropy.stats import SigmaClip, sigma_clipped_stats, gaussian_fwhm_to_sigma\n",
    "from astropy.convolution import Gaussian2DKernel, convolve_fft\n",
    "\n",
    "from photutils.background import MMMBackground, MADStdBackgroundRMS, Background2D, LocalBackground\n",
    "from photutils.detection import DAOStarFinder\n",
    "from photutils.psf import EPSFBuilder, GriddedPSFModel\n",
    "from photutils.psf import SourceGrouper, extract_stars, IterativePSFPhotometry\n",
    "\n",
    "from photutils.aperture import CircularAperture, CircularAnnulus, aperture_photometry"
   ]
  },
  {
   "cell_type": "code",
   "execution_count": null,
   "id": "byllZn7ivXYo",
   "metadata": {
    "id": "byllZn7ivXYo",
    "tags": []
   },
   "outputs": [],
   "source": [
    "os.environ['WEBBPSF_PATH'] = '/content/webbpsf-data'"
   ]
  },
  {
   "cell_type": "code",
   "execution_count": null,
   "id": "35cf8997-34e8-444a-8229-d32462781bc6",
   "metadata": {
    "id": "35cf8997-34e8-444a-8229-d32462781bc6",
    "tags": []
   },
   "outputs": [],
   "source": [
    "%matplotlib inline\n",
    "from matplotlib import style, pyplot as plt\n",
    "import matplotlib.patches as patches\n",
    "import matplotlib.ticker as ticker\n",
    "import matplotlib.colors as col\n",
    "\n",
    "from mpl_toolkits.axes_grid1 import make_axes_locatable\n",
    "\n",
    "plt.rcParams['image.cmap'] = 'jet'\n",
    "plt.rcParams['image.origin'] = 'lower'\n",
    "plt.rcParams['figure.figsize'] = (12,12)\n",
    "plt.rcParams['axes.titlesize'] = plt.rcParams['axes.labelsize'] = 15\n",
    "plt.rcParams['xtick.labelsize'] = plt.rcParams['ytick.labelsize'] = 15\n",
    "\n",
    "font1 = {'family': 'sans-serif', 'color': 'black', 'weight': 'normal', 'size': '12'}\n",
    "font2 = {'family': 'sans-serif', 'color': 'black', 'weight': 'normal', 'size': '20'}"
   ]
  },
  {
   "cell_type": "code",
   "execution_count": null,
   "id": "Hx4tx7ZCvf81",
   "metadata": {
    "colab": {
     "base_uri": "https://localhost:8080/"
    },
    "id": "Hx4tx7ZCvf81",
    "outputId": "2d91dafc-af9b-4232-ef23-ab66401dacc9",
    "tags": []
   },
   "outputs": [],
   "source": [
    "import webbpsf\n",
    "from webbpsf.utils import to_griddedpsfmodel"
   ]
  },
  {
   "cell_type": "code",
   "execution_count": null,
   "id": "iABVs61pUbAq",
   "metadata": {
    "id": "iABVs61pUbAq",
    "tags": []
   },
   "outputs": [],
   "source": [
    "filters = ['F070W', 'F090W', 'F115W', 'F140M', 'F150W2', 'F150W', 'F162M', 'F164N', 'F182M',\n",
    "           'F187N', 'F200W', 'F210M', 'F212N', 'F250M', 'F277W', 'F300M', 'F322W2', 'F323N',\n",
    "           'F335M', 'F356W', 'F360M', 'F405N', 'F410M', 'F430M', 'F444W', 'F460M', 'F466N', 'F470N', 'F480M']\n",
    "\n",
    "psf_fwhm = [0.987, 1.103, 1.298, 1.553, 1.628, 1.770, 1.801, 1.494, 1.990, 2.060, 2.141, 2.304, 2.341, 1.340,\n",
    "            1.444, 1.585, 1.547, 1.711, 1.760, 1.830, 1.901, 2.165, 2.179, 2.300, 2.302, 2.459, 2.507, 2.535, 2.574]\n",
    "\n",
    "dict_utils = {filters[i]: {'psf fwhm': psf_fwhm[i]} for i in range(len(filters))}"
   ]
  },
  {
   "cell_type": "markdown",
   "id": "s_h0xh_kCxZH",
   "metadata": {
    "id": "s_h0xh_kCxZH",
    "tags": []
   },
   "source": [
    "# **Synthetic PSF using Webb PSF**"
   ]
  },
  {
   "cell_type": "code",
   "execution_count": null,
   "id": "Y8PWVhSWC0Pn",
   "metadata": {
    "id": "Y8PWVhSWC0Pn",
    "tags": []
   },
   "outputs": [],
   "source": [
    "def create_psf_model(det='NRCA1', filt='F070W', fov=101, source=None,\n",
    "                     create_grid=False, num=9, save_psf=False,\n",
    "                     detsampled=False):\n",
    "\n",
    "    nrc = webbpsf.NIRCam()\n",
    "\n",
    "    nrc.detector = det\n",
    "    nrc.filter = filt\n",
    "\n",
    "    print(\"Using a {field}\".format(field=fov), \"px fov\")\n",
    "\n",
    "    if create_grid:\n",
    "        print(\"\")\n",
    "        print(\"Creating a grid of PSF for filter {filt} and detector {det}\".format(filt=filt, det=det))\n",
    "        print(\"\")\n",
    "        num = num\n",
    "\n",
    "        if save_psf:\n",
    "\n",
    "            outname = 'PSF_%s_samp4_fov%d_npsfs%d.fits' % (filt, fov, num)\n",
    "            psf = nrc.psf_grid(num_psfs=num, oversample=4, source=source, all_detectors=False, fov_pixels=fov,\n",
    "                               save=True, outfile=os.path.join(psfs_dir,outname), use_detsampled_psf=detsampled)\n",
    "\n",
    "        else:\n",
    "\n",
    "            psf = nrc.psf_grid(num_psfs=num, oversample=4, source=source, all_detectors=False, fov_pixels=fov,\n",
    "                               use_detsampled_psf=detsampled)\n",
    "\n",
    "    else:\n",
    "        print(\"\")\n",
    "        print(\"Creating a single PSF for filter {filt} and detector {det}\".format(filt=filt, det=det))\n",
    "        print(\"\")\n",
    "        num = 1\n",
    "\n",
    "        if save_psf:\n",
    "\n",
    "            outname = 'PSF_%s_samp4_fov%d_npsfs%d.fits' % (filt, fov, num)\n",
    "            psf = nrc.psf_grid(num_psfs=num, oversample=4, source=source, all_detectors=False, fov_pixels=fov,\n",
    "                               save=True, outfile=os.path.join(psfs_dir,outname), use_detsampled_psf=detsampled)\n",
    "\n",
    "        else:\n",
    "\n",
    "            psf = nrc.psf_grid(num_psfs=num, oversample=4, source=source, all_detectors=False, fov_pixels=fov,\n",
    "                               use_detsampled_psf=detsampled)\n",
    "\n",
    "    return psf"
   ]
  },
  {
   "cell_type": "markdown",
   "id": "cd8779e6-b9b4-4673-8dbb-6a1f640754f9",
   "metadata": {
    "id": "cd8779e6-b9b4-4673-8dbb-6a1f640754f9"
   },
   "source": [
    "# **Empirical PSF**\n",
    "\n",
    "In this section we explore how to construct an empirical PSF from the data using Astropy and Photutils"
   ]
  },
  {
   "cell_type": "markdown",
   "id": "11fbd3ed-7339-473e-b9cb-867a1f76916c",
   "metadata": {
    "id": "11fbd3ed-7339-473e-b9cb-867a1f76916c"
   },
   "source": [
    "## **Source Detection**\n",
    "\n",
    "As a first step to empirical PSF construction we select the stars using which we will be constructing the PSF. We use Photutils Backgound2D for estimating the background and create background subtracted image for employing DAOStarFinder for detecting sources."
   ]
  },
  {
   "cell_type": "code",
   "execution_count": null,
   "id": "71fa92c2-e81f-467b-aa58-94299746be9f",
   "metadata": {
    "id": "71fa92c2-e81f-467b-aa58-94299746be9f",
    "tags": []
   },
   "outputs": [],
   "source": [
    "def calc_bkg(data, sigma=3.0):\n",
    "\n",
    "    bkgrms = MADStdBackgroundRMS()\n",
    "    mmm_bkg = MMMBackground()\n",
    "\n",
    "    sigma_clip = SigmaClip(sigma=sigma)\n",
    "    coverage_mask = (data == 0)\n",
    "\n",
    "    bkg = Background2D(data, (100, 100), filter_size=(3, 3), sigma_clip=sigma_clip, bkg_estimator=mmm_bkg,\n",
    "                       coverage_mask=coverage_mask, fill_value=0.0)\n",
    "\n",
    "    data_bkgsub = data.copy()\n",
    "    data_bkgsub = data_bkgsub - bkg.background\n",
    "\n",
    "    _, _, std = sigma_clipped_stats(data_bkgsub)\n",
    "\n",
    "    return data_bkgsub, std"
   ]
  },
  {
   "cell_type": "code",
   "execution_count": null,
   "id": "f5bda153-e96a-4167-a3b5-86f21344ba67",
   "metadata": {
    "id": "f5bda153-e96a-4167-a3b5-86f21344ba67",
    "tags": []
   },
   "outputs": [],
   "source": [
    "def find_stars(data, det='NRCA1', filt='F070W', threshold=3, sigma=3.0, sigma_psf=None, smoothen=True, kernel=None):\n",
    "\n",
    "    if sigma_psf is None:\n",
    "        sigma_psf = dict_utils[filt]['psf fwhm']\n",
    "\n",
    "    data, std = calc_bkg(data, sigma)\n",
    "\n",
    "    if smoothen and kernel is not None:\n",
    "        data = convolve_fft(data, kernel)\n",
    "\n",
    "    daofind = DAOStarFinder(threshold=threshold*std, fwhm=sigma_psf)\n",
    "    found_stars = daofind(data)\n",
    "\n",
    "    print('\\nNumber of sources found in the image:', len(found_stars))\n",
    "    print('-------------------------------------\\n')\n",
    "\n",
    "    return found_stars, data"
   ]
  },
  {
   "cell_type": "markdown",
   "id": "6905a525-f0ce-4657-a22a-5f0634809790",
   "metadata": {
    "id": "6905a525-f0ce-4657-a22a-5f0634809790"
   },
   "source": [
    "## **Source Selection**\n",
    "\n",
    "In this section we select the sources for empirical PSF construction. We want sources which are sufficiently round, sharp and bright. Thus, we apply roundness, sharpness and magnitude cuts based on thier distribuitions."
   ]
  },
  {
   "cell_type": "code",
   "execution_count": null,
   "id": "6f621ceb-0f07-4c79-9020-80fb56e27392",
   "metadata": {
    "id": "6f621ceb-0f07-4c79-9020-80fb56e27392",
    "tags": []
   },
   "outputs": [],
   "source": [
    "def select_stars(found_stars, mag_lim, round_inf=-0.4, round_sup=0.4, sh_inf=0.78, sh_sup=0.92, min_sep=10):\n",
    "\n",
    "    mask = ((found_stars['mag'] < mag_lim) & (found_stars['roundness2'] > round_inf)\n",
    "            & (found_stars['roundness2'] < round_sup) & (found_stars['sharpness'] > sh_inf)\n",
    "            & (found_stars['sharpness'] < sh_sup))\n",
    "\n",
    "    found_stars_sel = found_stars[mask]\n",
    "    found_stars_sel_f115w = found_stars_sel\n",
    "\n",
    "    print('Number of stars selected to build ePSF:', len(found_stars_sel))\n",
    "\n",
    "    # if we include the separation criteria:\n",
    "\n",
    "    d = []\n",
    "\n",
    "    x_tot = found_stars['xcentroid']\n",
    "    y_tot = found_stars['ycentroid']\n",
    "\n",
    "    for xx, yy in zip(found_stars_sel['xcentroid'], found_stars_sel['ycentroid']):\n",
    "\n",
    "        sep = []\n",
    "        dist = np.sqrt((x_tot - xx)**2 + (y_tot - yy)**2)\n",
    "        sep = np.sort(dist)[1:2][0]\n",
    "        d.append(sep)\n",
    "\n",
    "    found_stars_sel['min distance'] = d\n",
    "    mask_dist = (found_stars_sel['min distance'] > min_sep)\n",
    "\n",
    "    found_stars_sel2 = found_stars_sel[mask_dist]\n",
    "\n",
    "    print('Number of stars selected to build ePSF \\\n",
    "    \\nincluding \"mimimum distance closest neighbour\" selection):', len(found_stars_sel2))\n",
    "\n",
    "    return found_stars_sel2"
   ]
  },
  {
   "cell_type": "code",
   "execution_count": null,
   "id": "79ab2682-6037-4670-a501-1bd04c4392ae",
   "metadata": {
    "id": "79ab2682-6037-4670-a501-1bd04c4392ae",
    "tags": []
   },
   "outputs": [],
   "source": [
    "def build_epsf(data, det='NRCA1', filt='F070W', size=11, found_table=None, oversample=4, iters=10):\n",
    "\n",
    "    hsize = (size - 1) / 2\n",
    "\n",
    "    x = found_table['xcentroid']\n",
    "    y = found_table['ycentroid']\n",
    "\n",
    "    mask = ((x > hsize) & (x < (data.shape[1] - 1 - hsize)) & (y > hsize) & (y < (data.shape[0] - 1 - hsize)))\n",
    "\n",
    "    stars_tbl = Table()\n",
    "    stars_tbl['x'] = x[mask]\n",
    "    stars_tbl['y'] = y[mask]\n",
    "\n",
    "    data_bkgsub, _ = calc_bkg(data)\n",
    "\n",
    "    nddata = NDData(data=data)\n",
    "    stars = extract_stars(nddata, stars_tbl, size=size)\n",
    "\n",
    "    print('Creating ePSF --- Detector {d}, filter {f}'.format(f=filt, d=det))\n",
    "\n",
    "    epsf_builder = EPSFBuilder(oversampling=oversample, maxiters=iters, progress_bar=True)\n",
    "\n",
    "    epsf, fitted_stars = epsf_builder(stars)\n",
    "\n",
    "    return epsf"
   ]
  },
  {
   "cell_type": "markdown",
   "id": "6044c421-167f-4602-8df2-cf809480e216",
   "metadata": {
    "id": "6044c421-167f-4602-8df2-cf809480e216"
   },
   "source": [
    "# **PSF Photometry using Photutils**"
   ]
  },
  {
   "cell_type": "code",
   "execution_count": null,
   "id": "a4034c42-833c-4e65-95a7-5774c28f2f17",
   "metadata": {
    "id": "a4034c42-833c-4e65-95a7-5774c28f2f17",
    "tags": []
   },
   "outputs": [],
   "source": [
    "def psf_phot(data=None, det='NRCA1', filt='F070W', th=2000,\n",
    "             fit_shape=(11,11),\n",
    "             psf=None, ap_radius=3.5, save_residuals=False,\n",
    "             save_output=False,\n",
    "             maxiters=2):\n",
    "\n",
    "    fitter = LevMarLSQFitter()\n",
    "    bkgstat = MMMBackground()\n",
    "    localbkg_estimator = LocalBackground(11, 16, bkgstat)\n",
    "\n",
    "    sigma_psf = dict_utils[filt]['psf fwhm']\n",
    "    print('FWHM for filter {f}:'.format(f=filt), sigma_psf)\n",
    "\n",
    "    _, std = calc_bkg(data)\n",
    "\n",
    "    daofind = DAOStarFinder(threshold=th*std, fwhm=sigma_psf)\n",
    "\n",
    "    grouper = SourceGrouper(5.0*sigma_psf)\n",
    "\n",
    "    psf_model = psf.copy()\n",
    "\n",
    "    print('Performing the PSF photometry --- Detector {d}, filter {f}'.format(f=filt, d=det))\n",
    "\n",
    "    tic = time.perf_counter()\n",
    "\n",
    "    phot = IterativePSFPhotometry(finder=daofind, grouper=grouper,\n",
    "                                  localbkg_estimator=localbkg_estimator,\n",
    "                                  psf_model=psf_model,fitter=fitter,\n",
    "                                  maxiters=maxiters, fit_shape=fit_shape,\n",
    "                                  aperture_radius=ap_radius,\n",
    "                                  progress_bar = True)\n",
    "    result = phot(data)\n",
    "\n",
    "    toc = time.perf_counter()\n",
    "\n",
    "    print('Time needed to perform photometry:', '%.2f' % ((toc - tic) / 3600), 'hours')\n",
    "    print('Number of sources detected:', len(result))\n",
    "\n",
    "    residual_image = phot.make_residual_image(data,(11,11))\n",
    "\n",
    "    # save the residual images as fits file:\n",
    "\n",
    "    if save_residuals:\n",
    "        hdu = fits.PrimaryHDU(residual_image)\n",
    "        hdul = fits.HDUList([hdu])\n",
    "\n",
    "        residual_outname = 'residual_%s_%s.fits' % (det, filt)\n",
    "\n",
    "        hdul.writeto(os.path.join(res_dir, residual_outname))\n",
    "\n",
    "    # save the output photometry Tables\n",
    "\n",
    "    if save_output:\n",
    "\n",
    "        outname = 'phot_%s_%s.pkl' % (det, filt)\n",
    "\n",
    "        tab = result.to_pandas()\n",
    "        tab.to_pickle(os.path.join(output_phot_dir, outname))\n",
    "\n",
    "    return result, residual_image, phot"
   ]
  },
  {
   "cell_type": "markdown",
   "id": "3oE3zwrJUyAO",
   "metadata": {
    "id": "3oE3zwrJUyAO"
   },
   "source": [
    "# **Pipeline**"
   ]
  },
  {
   "cell_type": "markdown",
   "id": "i4KdK1Ye7jiI",
   "metadata": {
    "id": "i4KdK1Ye7jiI"
   },
   "source": [
    "## **Input Data**"
   ]
  },
  {
   "cell_type": "code",
   "execution_count": null,
   "id": "e11621c7-9d5b-4310-80c8-1d8fd15832dd",
   "metadata": {
    "colab": {
     "base_uri": "https://localhost:8080/"
    },
    "id": "e11621c7-9d5b-4310-80c8-1d8fd15832dd",
    "outputId": "c8aabaad-8c5d-4385-bcbb-5bf31e3eecf9",
    "tags": []
   },
   "outputs": [],
   "source": [
    "dict_images = {'NRCA1': {}, 'NRCA2': {}, 'NRCA3': {}, 'NRCA4': {}, 'NRCA5': {},\n",
    "               'NRCB1': {}, 'NRCB2': {}, 'NRCB3': {}, 'NRCB4': {}, 'NRCB5': {}}\n",
    "\n",
    "dict_filter_short = {}\n",
    "dict_filter_long = {}\n",
    "\n",
    "ff_short = []\n",
    "det_short = []\n",
    "det_long = []\n",
    "ff_long = []\n",
    "detlist_short = []\n",
    "detlist_long = []\n",
    "filtlist_short = []\n",
    "filtlist_long = []\n",
    "\n",
    "if not glob.glob('../data/*cal*fits'):\n",
    "\n",
    "    print(\"Downloading images\")\n",
    "\n",
    "    boxlink_images_lev2 = 'https://stsci.box.com/shared/static/dt0gm0lyvi1yfh942vad6a8gb5utd85m.gz'\n",
    "    boxfile_images_lev2 = './single_images_lev2.tar.gz'\n",
    "    urllib.request.urlretrieve(boxlink_images_lev2, boxfile_images_lev2)\n",
    "\n",
    "    tar = tarfile.open(boxfile_images_lev2, 'r')\n",
    "    tar.extractall()\n",
    "\n",
    "    images_dir = '../data/'\n",
    "    images = sorted(glob.glob(os.path.join(images_dir, \"*cal.fits\")))\n",
    "\n",
    "else:\n",
    "\n",
    "    images_dir = '../data/'\n",
    "    images = sorted(glob.glob(os.path.join(images_dir, \"*cal.fits\")))\n",
    "\n",
    "for image in images:\n",
    "\n",
    "    im = fits.open(image)\n",
    "    f = im[0].header['FILTER']\n",
    "    d = im[0].header['DETECTOR']\n",
    "\n",
    "    if d == 'NRCBLONG':\n",
    "        d = 'NRCB5'\n",
    "    elif d == 'NRCALONG':\n",
    "        d = 'NRCA5'\n",
    "    else:\n",
    "        d = d\n",
    "\n",
    "    wv = float(f[1:3])\n",
    "\n",
    "    if wv > 24:\n",
    "        ff_long.append(f)\n",
    "        det_long.append(d)\n",
    "\n",
    "    else:\n",
    "        ff_short.append(f)\n",
    "        det_short.append(d)\n",
    "\n",
    "    detlist_short = sorted(list(dict.fromkeys(det_short)))\n",
    "    detlist_long = sorted(list(dict.fromkeys(det_long)))\n",
    "\n",
    "    unique_list_filters_short = []\n",
    "    unique_list_filters_long = []\n",
    "\n",
    "    for x in ff_short:\n",
    "\n",
    "        if x not in unique_list_filters_short:\n",
    "\n",
    "            dict_filter_short.setdefault(x, {})\n",
    "\n",
    "    for x in ff_long:\n",
    "        if x not in unique_list_filters_long:\n",
    "            dict_filter_long.setdefault(x, {})\n",
    "\n",
    "    for d_s in detlist_short:\n",
    "        dict_images[d_s] = dict_filter_short\n",
    "\n",
    "    for d_l in detlist_long:\n",
    "        dict_images[d_l] = dict_filter_long\n",
    "\n",
    "    filtlist_short = sorted(list(dict.fromkeys(dict_filter_short)))\n",
    "    filtlist_long = sorted(list(dict.fromkeys(dict_filter_long)))\n",
    "\n",
    "    if len(dict_images[d][f]) == 0:\n",
    "        dict_images[d][f] = {'images': [image]}\n",
    "    else:\n",
    "        dict_images[d][f]['images'].append(image)\n",
    "\n",
    "print(\"Available Detectors for SW channel:\", detlist_short)\n",
    "print(\"Available Detectors for LW channel:\", detlist_long)\n",
    "print(\"Available SW Filters:\", filtlist_short)\n",
    "print(\"Available LW Filters:\", filtlist_long)"
   ]
  },
  {
   "cell_type": "code",
   "execution_count": null,
   "id": "eeb90f72-34c6-44c0-8613-6be19fa8448e",
   "metadata": {
    "tags": []
   },
   "outputs": [],
   "source": [
    "dict_images"
   ]
  },
  {
   "cell_type": "code",
   "execution_count": null,
   "id": "2aea156e-b297-4f1d-aeb1-fa7fdad8117f",
   "metadata": {
    "colab": {
     "base_uri": "https://localhost:8080/"
    },
    "id": "2aea156e-b297-4f1d-aeb1-fa7fdad8117f",
    "outputId": "9c4b502a-bf2c-4c12-da04-bb8c50881575",
    "tags": []
   },
   "outputs": [],
   "source": [
    "det = 'NRCB1'\n",
    "filt = 'F115W'\n",
    "\n",
    "hdul = fits.open(dict_images[det][filt]['images'][0])\n",
    "data_sb = hdul[1].data\n",
    "\n",
    "imh = hdul[1].header\n",
    "wcs = WCS(hdul[1].header)\n",
    "data = data_sb / imh['PHOTMJSR']\n",
    "print('Conversion factor from {units} to DN/s for filter {f}:'.format(units=imh['BUNIT'], f=filt), imh['PHOTMJSR'])\n",
    "area = hdul[4].data\n",
    "data = data * area"
   ]
  },
  {
   "cell_type": "code",
   "execution_count": null,
   "id": "Y4h0aZIv7nr8",
   "metadata": {
    "colab": {
     "base_uri": "https://localhost:8080/"
    },
    "id": "Y4h0aZIv7nr8",
    "outputId": "be6ebbbd-00c1-4fc0-d413-cd012ce62812",
    "tags": []
   },
   "outputs": [],
   "source": [
    "plt.figure(figsize=(7, 7))\n",
    "\n",
    "ax = plt.subplot(1, 1, 1, projection=wcs)\n",
    "\n",
    "plt.title(filt, fontdict=font2)\n",
    "norm = simple_norm(data, 'sqrt', percent=99.)\n",
    "\n",
    "ax.imshow(data, norm=norm, cmap='Greys')\n",
    "\n",
    "plt.tight_layout()"
   ]
  },
  {
   "cell_type": "markdown",
   "id": "hyqPoq-5U2Iy",
   "metadata": {
    "id": "hyqPoq-5U2Iy"
   },
   "source": [
    "## **PSF**"
   ]
  },
  {
   "cell_type": "markdown",
   "id": "5kKO70KnU4ho",
   "metadata": {
    "id": "5kKO70KnU4ho",
    "jp-MarkdownHeadingCollapsed": true,
    "tags": []
   },
   "source": [
    "### **Synthetic PSF**"
   ]
  },
  {
   "cell_type": "code",
   "execution_count": null,
   "id": "09RkiQoHC0ZW",
   "metadata": {
    "colab": {
     "base_uri": "https://localhost:8080/"
    },
    "id": "09RkiQoHC0ZW",
    "outputId": "b719240a-d5ff-4441-ab2d-97eae9f5d3ae"
   },
   "outputs": [],
   "source": [
    "psfs_dir = 'PSF_MODELS/'\n",
    "\n",
    "if not os.path.exists(psfs_dir):\n",
    "    os.makedirs(psfs_dir)\n",
    "\n",
    "psf_webbpsf_single = create_psf_model(det=det, filt=filt, fov=51, source=None, create_grid=False, save_psf=False,\n",
    "                                      detsampled=False)"
   ]
  },
  {
   "cell_type": "code",
   "execution_count": null,
   "id": "cQ09VqoqOhqm",
   "metadata": {
    "id": "cQ09VqoqOhqm",
    "tags": []
   },
   "outputs": [],
   "source": [
    "psfs_dir = 'PSF_MODELS/'\n",
    "\n",
    "if not os.path.exists(psfs_dir):\n",
    "    os.makedirs(psfs_dir)\n",
    "\n",
    "psf_webbpsf_grid = create_psf_model(det=det, filt=filt, fov=51, source=None, create_grid=True, num=16,\n",
    "                                    save_psf=False, detsampled=False)"
   ]
  },
  {
   "cell_type": "markdown",
   "id": "HICwHjfCU9YH",
   "metadata": {
    "id": "HICwHjfCU9YH"
   },
   "source": [
    "### **Empirical PSF**"
   ]
  },
  {
   "cell_type": "code",
   "execution_count": null,
   "id": "7bde4e96-694d-424e-8d2d-b389da506632",
   "metadata": {
    "colab": {
     "base_uri": "https://localhost:8080/"
    },
    "id": "7bde4e96-694d-424e-8d2d-b389da506632",
    "outputId": "5c9190e8-ac5c-4bea-ea45-2991c4295f87",
    "tags": []
   },
   "outputs": [],
   "source": [
    "tic = time.perf_counter()\n",
    "\n",
    "# Source Detection\n",
    "\n",
    "found_stars, data_out = find_stars(data, det=det, filt=filt, threshold=10, smoothen=False)\n",
    "\n",
    "toc = time.perf_counter()\n",
    "\n",
    "print(\"Elapsed Time for finding stars:\", toc - tic)"
   ]
  },
  {
   "cell_type": "code",
   "execution_count": null,
   "id": "0fc6f74e-61d2-47d0-a2fc-6aabbcce077a",
   "metadata": {
    "colab": {
     "base_uri": "https://localhost:8080/",
     "height": 807
    },
    "id": "0fc6f74e-61d2-47d0-a2fc-6aabbcce077a",
    "outputId": "e7f010b8-fea3-4a70-d0a3-2e6ac399c642",
    "tags": []
   },
   "outputs": [],
   "source": [
    "# Source Selection\n",
    "plt.figure(figsize=(12, 8))\n",
    "plt.clf()\n",
    "\n",
    "ax1 = plt.subplot(2, 1, 1)\n",
    "\n",
    "ax1.set_xlabel('mag', fontdict=font2)\n",
    "ax1.set_ylabel('sharpness', fontdict=font2)\n",
    "\n",
    "xlim0 = np.min(found_stars['mag']) - 0.25\n",
    "xlim1 = np.max(found_stars['mag']) + 0.25\n",
    "ylim0 = np.min(found_stars['sharpness']) - 0.15\n",
    "ylim1 = np.max(found_stars['sharpness']) + 0.15\n",
    "\n",
    "ax1.set_xlim(xlim0, xlim1)\n",
    "ax1.set_ylim(ylim0, ylim1)\n",
    "\n",
    "ax1.xaxis.set_major_locator(ticker.AutoLocator())\n",
    "ax1.xaxis.set_minor_locator(ticker.AutoMinorLocator())\n",
    "ax1.yaxis.set_major_locator(ticker.AutoLocator())\n",
    "ax1.yaxis.set_minor_locator(ticker.AutoMinorLocator())\n",
    "\n",
    "ax1.scatter(found_stars['mag'], found_stars['sharpness'], s=10, color='k')\n",
    "\n",
    "sh_inf = 0.78\n",
    "sh_sup = 0.92\n",
    "mag_lim = -4.0\n",
    "\n",
    "ax1.plot([xlim0, xlim1], [sh_sup, sh_sup], color='r', lw=3, ls='--')\n",
    "ax1.plot([xlim0, xlim1], [sh_inf, sh_inf], color='r', lw=3, ls='--')\n",
    "ax1.plot([mag_lim, mag_lim], [ylim0, ylim1], color='r', lw=3, ls='--')\n",
    "\n",
    "ax2 = plt.subplot(2, 1, 2)\n",
    "\n",
    "ax2.set_xlabel('mag', fontdict=font2)\n",
    "ax2.set_ylabel('roundness', fontdict=font2)\n",
    "\n",
    "ylim0 = np.min(found_stars['roundness2']) - 0.25\n",
    "ylim1 = np.max(found_stars['roundness2']) - 0.25\n",
    "\n",
    "ax2.set_xlim(xlim0, xlim1)\n",
    "ax2.set_ylim(ylim0, ylim1)\n",
    "\n",
    "ax2.xaxis.set_major_locator(ticker.AutoLocator())\n",
    "ax2.xaxis.set_minor_locator(ticker.AutoMinorLocator())\n",
    "ax2.yaxis.set_major_locator(ticker.AutoLocator())\n",
    "ax2.yaxis.set_minor_locator(ticker.AutoMinorLocator())\n",
    "\n",
    "round_inf = -0.40\n",
    "round_sup = 0.40\n",
    "\n",
    "ax2.scatter(found_stars['mag'], found_stars['roundness2'], s=10, color='k')\n",
    "\n",
    "ax2.plot([xlim0, xlim1], [round_sup, round_sup], color='r', lw=3, ls='--')\n",
    "ax2.plot([xlim0, xlim1], [round_inf, round_inf], color='r', lw=3, ls='--')\n",
    "ax2.plot([mag_lim, mag_lim], [ylim0, ylim1], color='r', lw=3, ls='--')\n",
    "\n",
    "plt.tight_layout()"
   ]
  },
  {
   "cell_type": "code",
   "execution_count": null,
   "id": "zCn5W6Yx7BTH",
   "metadata": {
    "colab": {
     "base_uri": "https://localhost:8080/"
    },
    "id": "zCn5W6Yx7BTH",
    "outputId": "1c2490e9-e2d8-40b8-e901-81cfe1909e22",
    "tags": []
   },
   "outputs": [],
   "source": [
    "found_table_sel = select_stars(found_stars, mag_lim, round_inf, round_sup, sh_inf, sh_sup, min_sep=20)"
   ]
  },
  {
   "cell_type": "code",
   "execution_count": null,
   "id": "2c6053ff-496b-4193-afd6-f5847894e7f5",
   "metadata": {
    "colab": {
     "base_uri": "https://localhost:8080/",
     "height": 66,
     "referenced_widgets": [
      "a75d660d44564c109f2b4ea732f41e1e",
      "df5538e41f444af4bf82c149b8d3ff37",
      "db7c5c4c5443477db538efb8de1f107b",
      "9547cc8610b049d3a83dde08f9156198",
      "cd5dce87b2fd45c79c40628bede28201",
      "5788b7e4507947ddb830760c1d21f40d",
      "d7ae45d043ac4d6aa41ee3788d0f69bd",
      "81ea839071fa4af8a04ac5ed4b58c2ce",
      "c838de2212fd49358c7f91086120b895",
      "a40954e8af1c493ca4023eb8a8599f0a",
      "7f6e40c8e02f4589ba060f57db4bb6cb"
     ]
    },
    "id": "2c6053ff-496b-4193-afd6-f5847894e7f5",
    "outputId": "a89118e0-d3c2-4554-d425-395a1957e3bb",
    "tags": []
   },
   "outputs": [],
   "source": [
    "# Building Empirical PSF\n",
    "epsf = build_epsf(data, det=det, filt=filt, size=21, found_table=found_table_sel, oversample=4, iters=10)"
   ]
  },
  {
   "cell_type": "code",
   "execution_count": null,
   "id": "c26fe767-c8be-427d-bed3-8b2d48d48170",
   "metadata": {
    "tags": []
   },
   "outputs": [],
   "source": [
    "plt.imshow(epsf.data, norm=col.LogNorm())"
   ]
  },
  {
   "cell_type": "markdown",
   "id": "WLU6x0iA7dPe",
   "metadata": {
    "id": "WLU6x0iA7dPe"
   },
   "source": [
    "## **Photometry**"
   ]
  },
  {
   "cell_type": "code",
   "execution_count": null,
   "id": "f1634b0e-c79d-4075-afae-07bd5389a377",
   "metadata": {
    "colab": {
     "base_uri": "https://localhost:8080/",
     "height": 182,
     "referenced_widgets": [
      "b015a78c020445959d0edf7f516afc01",
      "a57d4a518b364f548ff7f9f8eb6680ab",
      "d9fe482eb81b4567876c8c195f544d9b",
      "4ed3959d836740c1b2352df79e52b1cb",
      "38d9e6b86c104c4eb1e4fd3e4e6bcd0f",
      "fed16adbff21431fa52943f4877bd627",
      "4d20950e99f3443db7dbb0a73c43e42f",
      "80f8e9e87d3a444884db7ac9a1fa9400",
      "3f3e4cb4a24a49a7a499deedf5f6ec99",
      "3f84a10313ea4f7da554a50c168fecc9",
      "eeffc3e2ac584546a154f20bc49ff14b",
      "0cc0d3eed5e64e0db69a2ff8be0a5ee5",
      "4e90b44e900d47aabacdd87135892d63",
      "6ffc06d61c714e07910bc523dac8119b",
      "f0fc3ff79ae846f198462ea9c3d5296a",
      "fd08a38bf9e840df8db6a85d4b0dcddd",
      "8c1e52cb48e94b678f48b119b6ceb29b",
      "fea47634700f45ceb714f2079f3e373d",
      "7a1cfd2270da4e1cb7f7c25a8795d9d6",
      "d725278a6c1f486cbf25690d80c09862",
      "748e1df56e174c389f52bd74f6a5405c",
      "507c773eb820481b8e9ee0a68c2a0d30",
      "f901cd013f1d4b99908d5e5a08b82120",
      "6d0add1a132c46f18b94b896cc0bce46",
      "873124f90fb94c09b2cb207c89f2084b",
      "bb273de249be462997c23cd14f8866d8",
      "ebb809c9e95446439f7233c8db401838",
      "bf906bf158cd4354ad171489de6ab416",
      "92cd224c63044504babd56fa712a2e43",
      "c11e1975a2864090bb5c862fd1e60553",
      "4624f9abd5584e50a40d0c4dff18addc",
      "52f997a624794c43a33f6cbc578bd206",
      "7cce3f0f487b4f7990f7b45a973d78e0"
     ]
    },
    "id": "f1634b0e-c79d-4075-afae-07bd5389a377",
    "outputId": "7f483c8f-59b1-4fee-9660-82e7af4101ce",
    "tags": []
   },
   "outputs": [],
   "source": [
    "data1 = data\n",
    "# data1 = data\n",
    "\n",
    "output_phot_dir = 'PHOT_OUTPUT/'\n",
    "\n",
    "if not os.path.exists(output_phot_dir):\n",
    "    os.makedirs(output_phot_dir)\n",
    "\n",
    "res_dir = 'RESIDUAL_IMAGES/'\n",
    "\n",
    "if not os.path.exists(res_dir):\n",
    "    os.makedirs(res_dir)\n",
    "\n",
    "if glob.glob(os.path.join(res_dir, 'residual*F115W.fits')):\n",
    "    print('Deleting Residual images from directory')\n",
    "    files = glob.glob(os.path.join(res_dir, 'residual*F115W.fits'))\n",
    "    for file in files:\n",
    "        os.remove(file)\n",
    "\n",
    "psf_phot_table, residual_image, phot = psf_phot(data=data1, det=det, filt=filt, th=10, psf=epsf,\n",
    "                                            save_residuals=True, save_output=True, maxiters=3)"
   ]
  },
  {
   "cell_type": "code",
   "execution_count": null,
   "id": "b4938f69-4304-4424-bacb-f5c7e57649ae",
   "metadata": {
    "tags": []
   },
   "outputs": [],
   "source": [
    "psf_phot_results = psf_phot_results[(psf_phot_results['flux_fit']>0) & (psf_phot_results['flags']!=8)]"
   ]
  },
  {
   "cell_type": "code",
   "execution_count": null,
   "id": "6d2b5565-cb62-43e1-a7ba-8392affd7c59",
   "metadata": {
    "tags": []
   },
   "outputs": [],
   "source": [
    "help(phot)"
   ]
  },
  {
   "cell_type": "code",
   "execution_count": null,
   "id": "983c033c-b974-40c1-a36f-8cd0f89fbe02",
   "metadata": {
    "tags": []
   },
   "outputs": [],
   "source": [
    "psf_phot_results"
   ]
  },
  {
   "cell_type": "code",
   "execution_count": null,
   "id": "6c545cba-fd42-4d36-ae76-889fba965c93",
   "metadata": {
    "tags": []
   },
   "outputs": [],
   "source": [
    "plt.imshow(residual_image, norm= col.LogNorm())"
   ]
  },
  {
   "cell_type": "code",
   "execution_count": null,
   "id": "7b5a0cba-3031-4a3b-9874-e3302c5babfe",
   "metadata": {
    "colab": {
     "base_uri": "https://localhost:8080/",
     "height": 175
    },
    "id": "7b5a0cba-3031-4a3b-9874-e3302c5babfe",
    "outputId": "616b283a-0bd9-442d-ccc6-de7b01d1badb",
    "tags": []
   },
   "outputs": [],
   "source": [
    "positions = np.transpose([psf_phot_results['x_fit'].value, psf_phot_results['y_fit'].value])"
   ]
  },
  {
   "cell_type": "code",
   "execution_count": null,
   "id": "DvplLKyhN1PH",
   "metadata": {
    "id": "DvplLKyhN1PH"
   },
   "outputs": [],
   "source": [
    "coords = np.array(wcs.pixel_to_world_values(positions))\n",
    "psf_phot_results['ra'] = coords[:,0]\n",
    "psf_phot_results['dec'] = coords[:,1]"
   ]
  },
  {
   "cell_type": "code",
   "execution_count": null,
   "id": "aae2c075-6676-4c1f-b582-251270e28552",
   "metadata": {
    "colab": {
     "base_uri": "https://localhost:8080/",
     "height": 538
    },
    "id": "aae2c075-6676-4c1f-b582-251270e28552",
    "outputId": "59c69538-8307-46c5-cc0d-d2d067c54638",
    "tags": []
   },
   "outputs": [],
   "source": [
    "psf_phot_results"
   ]
  },
  {
   "cell_type": "code",
   "execution_count": null,
   "id": "324e1373-895a-4c45-9022-3e5ff4171420",
   "metadata": {
    "id": "324e1373-895a-4c45-9022-3e5ff4171420",
    "tags": []
   },
   "outputs": [],
   "source": [
    "apers = CircularAperture(positions, r = 6.5)\n",
    "bag_apers = CircularAnnulus(positions, 8,11)\n",
    "phot_table = aperture_photometry(data1, [apers, bag_apers])"
   ]
  },
  {
   "cell_type": "code",
   "execution_count": null,
   "id": "Vy1T5kUhMIQr",
   "metadata": {
    "id": "Vy1T5kUhMIQr"
   },
   "outputs": [],
   "source": [
    "phot_table['sky_flux'] = phot_table['aperture_sum_1']*(apers.area/bag_apers.area)\n",
    "\n",
    "# calculate source flux\n",
    "phot_table['flux'] = phot_table['aperture_sum_0'].value #- phot_table['sky_flux'].value\n",
    "# calculate error on the source flux\n",
    "phot_table['flux_err'] = np.sqrt(phot_table['flux'].value + phot_table['sky_flux'].value)\n",
    "\n",
    "# calculate signal to noise ratio\n",
    "phot_table['SNR'] = phot_table['flux']/phot_table['flux_err']"
   ]
  },
  {
   "cell_type": "code",
   "execution_count": null,
   "id": "2egvj014MX03",
   "metadata": {
    "colab": {
     "base_uri": "https://localhost:8080/",
     "height": 538
    },
    "id": "2egvj014MX03",
    "outputId": "d092388f-02ea-4a05-ef01-440c3cf8d410"
   },
   "outputs": [],
   "source": [
    "phot_table"
   ]
  },
  {
   "cell_type": "code",
   "execution_count": null,
   "id": "cTI-ov4WQExl",
   "metadata": {
    "colab": {
     "base_uri": "https://localhost:8080/",
     "height": 1000
    },
    "id": "cTI-ov4WQExl",
    "outputId": "5b95abfd-4062-4e83-9987-c318357cdb4c"
   },
   "outputs": [],
   "source": [
    "x = phot_table['flux']\n",
    "y = psf_phot_results['flux_fit']\n",
    "plt.scatter(x,y, color = 'black',s=1)"
   ]
  },
  {
   "cell_type": "code",
   "execution_count": null,
   "id": "zKx7xqRZPRl9",
   "metadata": {
    "id": "zKx7xqRZPRl9",
    "tags": []
   },
   "outputs": [],
   "source": [
    "positions = np.transpose([phot_table['xcenter'].value, phot_table['ycenter'].value])"
   ]
  },
  {
   "cell_type": "code",
   "execution_count": null,
   "id": "7mBw-fj3PRl9",
   "metadata": {
    "id": "7mBw-fj3PRl9"
   },
   "outputs": [],
   "source": [
    "coords = np.array(wcs.pixel_to_world_values(positions))\n",
    "phot_table['ra'] = coords[:,0]\n",
    "phot_table['dec'] = coords[:,1]"
   ]
  },
  {
   "cell_type": "code",
   "execution_count": null,
   "id": "wjU-wVRbPj3w",
   "metadata": {
    "id": "wjU-wVRbPj3w"
   },
   "outputs": [],
   "source": [
    "pos1 = SkyCoord(psf_phot_results['ra'], psf_phot_results['dec'], unit='deg')\n",
    "pos2 = SkyCoord(phot_table['ra'], phot_table['dec'], unit='deg')"
   ]
  },
  {
   "cell_type": "code",
   "execution_count": null,
   "id": "25e10ab0-1e20-4da5-87eb-89a42eb99fa9",
   "metadata": {
    "colab": {
     "base_uri": "https://localhost:8080/",
     "height": 628
    },
    "id": "25e10ab0-1e20-4da5-87eb-89a42eb99fa9",
    "outputId": "29b3f7c3-e02f-4d5d-e4fb-b3318124b598",
    "tags": []
   },
   "outputs": [],
   "source": [
    "plt.figure(figsize=(16, 14))\n",
    "\n",
    "ax1 = plt.subplot(2, 2, 1)\n",
    "\n",
    "plt.xlabel(\"X [px]\", fontdict=font2)\n",
    "plt.ylabel(\"Y [px]\", fontdict=font2)\n",
    "plt.title(filt, fontdict=font2)\n",
    "\n",
    "norm = simple_norm(data1, 'sqrt', percent=99.)\n",
    "ax1.imshow(data1, norm=norm, cmap='Greys')\n",
    "\n",
    "ax2 = plt.subplot(2, 2, 2)\n",
    "\n",
    "plt.xlabel(\"X [px]\", fontdict=font2)\n",
    "plt.ylabel(\"Y [px]\", fontdict=font2)\n",
    "plt.title('residuals', fontdict=font2)\n",
    "\n",
    "norm = simple_norm(data1, 'sqrt', percent=99.)\n",
    "ax2.imshow(residual_image, norm=norm, cmap='Greys')\n",
    "\n",
    "apertures.plot(ax1, color = 'red', lw=2);"
   ]
  },
  {
   "cell_type": "code",
   "execution_count": null,
   "id": "387d8cc2-2373-491d-895c-accde57d0f61",
   "metadata": {
    "id": "387d8cc2-2373-491d-895c-accde57d0f61"
   },
   "outputs": [],
   "source": []
  }
 ],
 "metadata": {
  "colab": {
   "collapsed_sections": [
    "cnJPXox0qrnQ",
    "jj0UgSIcqvYI",
    "s_h0xh_kCxZH",
    "cd8779e6-b9b4-4673-8dbb-6a1f640754f9",
    "6044c421-167f-4602-8df2-cf809480e216",
    "i4KdK1Ye7jiI",
    "HICwHjfCU9YH"
   ],
   "provenance": []
  },
  "kernelspec": {
   "display_name": "Python [conda env:inaoe]",
   "language": "python",
   "name": "conda-env-inaoe-py"
  },
  "language_info": {
   "codemirror_mode": {
    "name": "ipython",
    "version": 3
   },
   "file_extension": ".py",
   "mimetype": "text/x-python",
   "name": "python",
   "nbconvert_exporter": "python",
   "pygments_lexer": "ipython3",
   "version": "3.10.9"
  },
  "widgets": {
   "application/vnd.jupyter.widget-state+json": {
    "0cc0d3eed5e64e0db69a2ff8be0a5ee5": {
     "model_module": "@jupyter-widgets/controls",
     "model_module_version": "1.5.0",
     "model_name": "HBoxModel",
     "state": {
      "_dom_classes": [],
      "_model_module": "@jupyter-widgets/controls",
      "_model_module_version": "1.5.0",
      "_model_name": "HBoxModel",
      "_view_count": null,
      "_view_module": "@jupyter-widgets/controls",
      "_view_module_version": "1.5.0",
      "_view_name": "HBoxView",
      "box_style": "",
      "children": [
       "IPY_MODEL_4e90b44e900d47aabacdd87135892d63",
       "IPY_MODEL_6ffc06d61c714e07910bc523dac8119b",
       "IPY_MODEL_f0fc3ff79ae846f198462ea9c3d5296a"
      ],
      "layout": "IPY_MODEL_fd08a38bf9e840df8db6a85d4b0dcddd"
     }
    },
    "38d9e6b86c104c4eb1e4fd3e4e6bcd0f": {
     "model_module": "@jupyter-widgets/base",
     "model_module_version": "1.2.0",
     "model_name": "LayoutModel",
     "state": {
      "_model_module": "@jupyter-widgets/base",
      "_model_module_version": "1.2.0",
      "_model_name": "LayoutModel",
      "_view_count": null,
      "_view_module": "@jupyter-widgets/base",
      "_view_module_version": "1.2.0",
      "_view_name": "LayoutView",
      "align_content": null,
      "align_items": null,
      "align_self": null,
      "border": null,
      "bottom": null,
      "display": null,
      "flex": null,
      "flex_flow": null,
      "grid_area": null,
      "grid_auto_columns": null,
      "grid_auto_flow": null,
      "grid_auto_rows": null,
      "grid_column": null,
      "grid_gap": null,
      "grid_row": null,
      "grid_template_areas": null,
      "grid_template_columns": null,
      "grid_template_rows": null,
      "height": null,
      "justify_content": null,
      "justify_items": null,
      "left": null,
      "margin": null,
      "max_height": null,
      "max_width": null,
      "min_height": null,
      "min_width": null,
      "object_fit": null,
      "object_position": null,
      "order": null,
      "overflow": null,
      "overflow_x": null,
      "overflow_y": null,
      "padding": null,
      "right": null,
      "top": null,
      "visibility": null,
      "width": null
     }
    },
    "3f3e4cb4a24a49a7a499deedf5f6ec99": {
     "model_module": "@jupyter-widgets/controls",
     "model_module_version": "1.5.0",
     "model_name": "ProgressStyleModel",
     "state": {
      "_model_module": "@jupyter-widgets/controls",
      "_model_module_version": "1.5.0",
      "_model_name": "ProgressStyleModel",
      "_view_count": null,
      "_view_module": "@jupyter-widgets/base",
      "_view_module_version": "1.2.0",
      "_view_name": "StyleView",
      "bar_color": null,
      "description_width": ""
     }
    },
    "3f84a10313ea4f7da554a50c168fecc9": {
     "model_module": "@jupyter-widgets/base",
     "model_module_version": "1.2.0",
     "model_name": "LayoutModel",
     "state": {
      "_model_module": "@jupyter-widgets/base",
      "_model_module_version": "1.2.0",
      "_model_name": "LayoutModel",
      "_view_count": null,
      "_view_module": "@jupyter-widgets/base",
      "_view_module_version": "1.2.0",
      "_view_name": "LayoutView",
      "align_content": null,
      "align_items": null,
      "align_self": null,
      "border": null,
      "bottom": null,
      "display": null,
      "flex": null,
      "flex_flow": null,
      "grid_area": null,
      "grid_auto_columns": null,
      "grid_auto_flow": null,
      "grid_auto_rows": null,
      "grid_column": null,
      "grid_gap": null,
      "grid_row": null,
      "grid_template_areas": null,
      "grid_template_columns": null,
      "grid_template_rows": null,
      "height": null,
      "justify_content": null,
      "justify_items": null,
      "left": null,
      "margin": null,
      "max_height": null,
      "max_width": null,
      "min_height": null,
      "min_width": null,
      "object_fit": null,
      "object_position": null,
      "order": null,
      "overflow": null,
      "overflow_x": null,
      "overflow_y": null,
      "padding": null,
      "right": null,
      "top": null,
      "visibility": null,
      "width": null
     }
    },
    "4624f9abd5584e50a40d0c4dff18addc": {
     "model_module": "@jupyter-widgets/controls",
     "model_module_version": "1.5.0",
     "model_name": "ProgressStyleModel",
     "state": {
      "_model_module": "@jupyter-widgets/controls",
      "_model_module_version": "1.5.0",
      "_model_name": "ProgressStyleModel",
      "_view_count": null,
      "_view_module": "@jupyter-widgets/base",
      "_view_module_version": "1.2.0",
      "_view_name": "StyleView",
      "bar_color": null,
      "description_width": ""
     }
    },
    "4d20950e99f3443db7dbb0a73c43e42f": {
     "model_module": "@jupyter-widgets/controls",
     "model_module_version": "1.5.0",
     "model_name": "DescriptionStyleModel",
     "state": {
      "_model_module": "@jupyter-widgets/controls",
      "_model_module_version": "1.5.0",
      "_model_name": "DescriptionStyleModel",
      "_view_count": null,
      "_view_module": "@jupyter-widgets/base",
      "_view_module_version": "1.2.0",
      "_view_name": "StyleView",
      "description_width": ""
     }
    },
    "4e90b44e900d47aabacdd87135892d63": {
     "model_module": "@jupyter-widgets/controls",
     "model_module_version": "1.5.0",
     "model_name": "HTMLModel",
     "state": {
      "_dom_classes": [],
      "_model_module": "@jupyter-widgets/controls",
      "_model_module_version": "1.5.0",
      "_model_name": "HTMLModel",
      "_view_count": null,
      "_view_module": "@jupyter-widgets/controls",
      "_view_module_version": "1.5.0",
      "_view_name": "HTMLView",
      "description": "",
      "description_tooltip": null,
      "layout": "IPY_MODEL_8c1e52cb48e94b678f48b119b6ceb29b",
      "placeholder": "​",
      "style": "IPY_MODEL_fea47634700f45ceb714f2079f3e373d",
      "value": "Model image: 100%"
     }
    },
    "4ed3959d836740c1b2352df79e52b1cb": {
     "model_module": "@jupyter-widgets/controls",
     "model_module_version": "1.5.0",
     "model_name": "HTMLModel",
     "state": {
      "_dom_classes": [],
      "_model_module": "@jupyter-widgets/controls",
      "_model_module_version": "1.5.0",
      "_model_name": "HTMLModel",
      "_view_count": null,
      "_view_module": "@jupyter-widgets/controls",
      "_view_module_version": "1.5.0",
      "_view_name": "HTMLView",
      "description": "",
      "description_tooltip": null,
      "layout": "IPY_MODEL_3f84a10313ea4f7da554a50c168fecc9",
      "placeholder": "​",
      "style": "IPY_MODEL_eeffc3e2ac584546a154f20bc49ff14b",
      "value": " 7664/7664 [02:31&lt;00:00, 35.35it/s]"
     }
    },
    "507c773eb820481b8e9ee0a68c2a0d30": {
     "model_module": "@jupyter-widgets/controls",
     "model_module_version": "1.5.0",
     "model_name": "DescriptionStyleModel",
     "state": {
      "_model_module": "@jupyter-widgets/controls",
      "_model_module_version": "1.5.0",
      "_model_name": "DescriptionStyleModel",
      "_view_count": null,
      "_view_module": "@jupyter-widgets/base",
      "_view_module_version": "1.2.0",
      "_view_name": "StyleView",
      "description_width": ""
     }
    },
    "52f997a624794c43a33f6cbc578bd206": {
     "model_module": "@jupyter-widgets/base",
     "model_module_version": "1.2.0",
     "model_name": "LayoutModel",
     "state": {
      "_model_module": "@jupyter-widgets/base",
      "_model_module_version": "1.2.0",
      "_model_name": "LayoutModel",
      "_view_count": null,
      "_view_module": "@jupyter-widgets/base",
      "_view_module_version": "1.2.0",
      "_view_name": "LayoutView",
      "align_content": null,
      "align_items": null,
      "align_self": null,
      "border": null,
      "bottom": null,
      "display": null,
      "flex": null,
      "flex_flow": null,
      "grid_area": null,
      "grid_auto_columns": null,
      "grid_auto_flow": null,
      "grid_auto_rows": null,
      "grid_column": null,
      "grid_gap": null,
      "grid_row": null,
      "grid_template_areas": null,
      "grid_template_columns": null,
      "grid_template_rows": null,
      "height": null,
      "justify_content": null,
      "justify_items": null,
      "left": null,
      "margin": null,
      "max_height": null,
      "max_width": null,
      "min_height": null,
      "min_width": null,
      "object_fit": null,
      "object_position": null,
      "order": null,
      "overflow": null,
      "overflow_x": null,
      "overflow_y": null,
      "padding": null,
      "right": null,
      "top": null,
      "visibility": null,
      "width": null
     }
    },
    "5788b7e4507947ddb830760c1d21f40d": {
     "model_module": "@jupyter-widgets/base",
     "model_module_version": "1.2.0",
     "model_name": "LayoutModel",
     "state": {
      "_model_module": "@jupyter-widgets/base",
      "_model_module_version": "1.2.0",
      "_model_name": "LayoutModel",
      "_view_count": null,
      "_view_module": "@jupyter-widgets/base",
      "_view_module_version": "1.2.0",
      "_view_name": "LayoutView",
      "align_content": null,
      "align_items": null,
      "align_self": null,
      "border": null,
      "bottom": null,
      "display": null,
      "flex": null,
      "flex_flow": null,
      "grid_area": null,
      "grid_auto_columns": null,
      "grid_auto_flow": null,
      "grid_auto_rows": null,
      "grid_column": null,
      "grid_gap": null,
      "grid_row": null,
      "grid_template_areas": null,
      "grid_template_columns": null,
      "grid_template_rows": null,
      "height": null,
      "justify_content": null,
      "justify_items": null,
      "left": null,
      "margin": null,
      "max_height": null,
      "max_width": null,
      "min_height": null,
      "min_width": null,
      "object_fit": null,
      "object_position": null,
      "order": null,
      "overflow": null,
      "overflow_x": null,
      "overflow_y": null,
      "padding": null,
      "right": null,
      "top": null,
      "visibility": null,
      "width": null
     }
    },
    "6d0add1a132c46f18b94b896cc0bce46": {
     "model_module": "@jupyter-widgets/controls",
     "model_module_version": "1.5.0",
     "model_name": "HTMLModel",
     "state": {
      "_dom_classes": [],
      "_model_module": "@jupyter-widgets/controls",
      "_model_module_version": "1.5.0",
      "_model_name": "HTMLModel",
      "_view_count": null,
      "_view_module": "@jupyter-widgets/controls",
      "_view_module_version": "1.5.0",
      "_view_name": "HTMLView",
      "description": "",
      "description_tooltip": null,
      "layout": "IPY_MODEL_bf906bf158cd4354ad171489de6ab416",
      "placeholder": "​",
      "style": "IPY_MODEL_92cd224c63044504babd56fa712a2e43",
      "value": "Fit source/group:  39%"
     }
    },
    "6ffc06d61c714e07910bc523dac8119b": {
     "model_module": "@jupyter-widgets/controls",
     "model_module_version": "1.5.0",
     "model_name": "FloatProgressModel",
     "state": {
      "_dom_classes": [],
      "_model_module": "@jupyter-widgets/controls",
      "_model_module_version": "1.5.0",
      "_model_name": "FloatProgressModel",
      "_view_count": null,
      "_view_module": "@jupyter-widgets/controls",
      "_view_module_version": "1.5.0",
      "_view_name": "ProgressView",
      "bar_style": "success",
      "description": "",
      "description_tooltip": null,
      "layout": "IPY_MODEL_7a1cfd2270da4e1cb7f7c25a8795d9d6",
      "max": 8091,
      "min": 0,
      "orientation": "horizontal",
      "style": "IPY_MODEL_d725278a6c1f486cbf25690d80c09862",
      "value": 8091
     }
    },
    "748e1df56e174c389f52bd74f6a5405c": {
     "model_module": "@jupyter-widgets/base",
     "model_module_version": "1.2.0",
     "model_name": "LayoutModel",
     "state": {
      "_model_module": "@jupyter-widgets/base",
      "_model_module_version": "1.2.0",
      "_model_name": "LayoutModel",
      "_view_count": null,
      "_view_module": "@jupyter-widgets/base",
      "_view_module_version": "1.2.0",
      "_view_name": "LayoutView",
      "align_content": null,
      "align_items": null,
      "align_self": null,
      "border": null,
      "bottom": null,
      "display": null,
      "flex": null,
      "flex_flow": null,
      "grid_area": null,
      "grid_auto_columns": null,
      "grid_auto_flow": null,
      "grid_auto_rows": null,
      "grid_column": null,
      "grid_gap": null,
      "grid_row": null,
      "grid_template_areas": null,
      "grid_template_columns": null,
      "grid_template_rows": null,
      "height": null,
      "justify_content": null,
      "justify_items": null,
      "left": null,
      "margin": null,
      "max_height": null,
      "max_width": null,
      "min_height": null,
      "min_width": null,
      "object_fit": null,
      "object_position": null,
      "order": null,
      "overflow": null,
      "overflow_x": null,
      "overflow_y": null,
      "padding": null,
      "right": null,
      "top": null,
      "visibility": null,
      "width": null
     }
    },
    "7a1cfd2270da4e1cb7f7c25a8795d9d6": {
     "model_module": "@jupyter-widgets/base",
     "model_module_version": "1.2.0",
     "model_name": "LayoutModel",
     "state": {
      "_model_module": "@jupyter-widgets/base",
      "_model_module_version": "1.2.0",
      "_model_name": "LayoutModel",
      "_view_count": null,
      "_view_module": "@jupyter-widgets/base",
      "_view_module_version": "1.2.0",
      "_view_name": "LayoutView",
      "align_content": null,
      "align_items": null,
      "align_self": null,
      "border": null,
      "bottom": null,
      "display": null,
      "flex": null,
      "flex_flow": null,
      "grid_area": null,
      "grid_auto_columns": null,
      "grid_auto_flow": null,
      "grid_auto_rows": null,
      "grid_column": null,
      "grid_gap": null,
      "grid_row": null,
      "grid_template_areas": null,
      "grid_template_columns": null,
      "grid_template_rows": null,
      "height": null,
      "justify_content": null,
      "justify_items": null,
      "left": null,
      "margin": null,
      "max_height": null,
      "max_width": null,
      "min_height": null,
      "min_width": null,
      "object_fit": null,
      "object_position": null,
      "order": null,
      "overflow": null,
      "overflow_x": null,
      "overflow_y": null,
      "padding": null,
      "right": null,
      "top": null,
      "visibility": null,
      "width": null
     }
    },
    "7cce3f0f487b4f7990f7b45a973d78e0": {
     "model_module": "@jupyter-widgets/controls",
     "model_module_version": "1.5.0",
     "model_name": "DescriptionStyleModel",
     "state": {
      "_model_module": "@jupyter-widgets/controls",
      "_model_module_version": "1.5.0",
      "_model_name": "DescriptionStyleModel",
      "_view_count": null,
      "_view_module": "@jupyter-widgets/base",
      "_view_module_version": "1.2.0",
      "_view_name": "StyleView",
      "description_width": ""
     }
    },
    "7f6e40c8e02f4589ba060f57db4bb6cb": {
     "model_module": "@jupyter-widgets/controls",
     "model_module_version": "1.5.0",
     "model_name": "DescriptionStyleModel",
     "state": {
      "_model_module": "@jupyter-widgets/controls",
      "_model_module_version": "1.5.0",
      "_model_name": "DescriptionStyleModel",
      "_view_count": null,
      "_view_module": "@jupyter-widgets/base",
      "_view_module_version": "1.2.0",
      "_view_name": "StyleView",
      "description_width": ""
     }
    },
    "80f8e9e87d3a444884db7ac9a1fa9400": {
     "model_module": "@jupyter-widgets/base",
     "model_module_version": "1.2.0",
     "model_name": "LayoutModel",
     "state": {
      "_model_module": "@jupyter-widgets/base",
      "_model_module_version": "1.2.0",
      "_model_name": "LayoutModel",
      "_view_count": null,
      "_view_module": "@jupyter-widgets/base",
      "_view_module_version": "1.2.0",
      "_view_name": "LayoutView",
      "align_content": null,
      "align_items": null,
      "align_self": null,
      "border": null,
      "bottom": null,
      "display": null,
      "flex": null,
      "flex_flow": null,
      "grid_area": null,
      "grid_auto_columns": null,
      "grid_auto_flow": null,
      "grid_auto_rows": null,
      "grid_column": null,
      "grid_gap": null,
      "grid_row": null,
      "grid_template_areas": null,
      "grid_template_columns": null,
      "grid_template_rows": null,
      "height": null,
      "justify_content": null,
      "justify_items": null,
      "left": null,
      "margin": null,
      "max_height": null,
      "max_width": null,
      "min_height": null,
      "min_width": null,
      "object_fit": null,
      "object_position": null,
      "order": null,
      "overflow": null,
      "overflow_x": null,
      "overflow_y": null,
      "padding": null,
      "right": null,
      "top": null,
      "visibility": null,
      "width": null
     }
    },
    "81ea839071fa4af8a04ac5ed4b58c2ce": {
     "model_module": "@jupyter-widgets/base",
     "model_module_version": "1.2.0",
     "model_name": "LayoutModel",
     "state": {
      "_model_module": "@jupyter-widgets/base",
      "_model_module_version": "1.2.0",
      "_model_name": "LayoutModel",
      "_view_count": null,
      "_view_module": "@jupyter-widgets/base",
      "_view_module_version": "1.2.0",
      "_view_name": "LayoutView",
      "align_content": null,
      "align_items": null,
      "align_self": null,
      "border": null,
      "bottom": null,
      "display": null,
      "flex": null,
      "flex_flow": null,
      "grid_area": null,
      "grid_auto_columns": null,
      "grid_auto_flow": null,
      "grid_auto_rows": null,
      "grid_column": null,
      "grid_gap": null,
      "grid_row": null,
      "grid_template_areas": null,
      "grid_template_columns": null,
      "grid_template_rows": null,
      "height": null,
      "justify_content": null,
      "justify_items": null,
      "left": null,
      "margin": null,
      "max_height": null,
      "max_width": null,
      "min_height": null,
      "min_width": null,
      "object_fit": null,
      "object_position": null,
      "order": null,
      "overflow": null,
      "overflow_x": null,
      "overflow_y": null,
      "padding": null,
      "right": null,
      "top": null,
      "visibility": null,
      "width": null
     }
    },
    "873124f90fb94c09b2cb207c89f2084b": {
     "model_module": "@jupyter-widgets/controls",
     "model_module_version": "1.5.0",
     "model_name": "FloatProgressModel",
     "state": {
      "_dom_classes": [],
      "_model_module": "@jupyter-widgets/controls",
      "_model_module_version": "1.5.0",
      "_model_name": "FloatProgressModel",
      "_view_count": null,
      "_view_module": "@jupyter-widgets/controls",
      "_view_module_version": "1.5.0",
      "_view_name": "ProgressView",
      "bar_style": "",
      "description": "",
      "description_tooltip": null,
      "layout": "IPY_MODEL_c11e1975a2864090bb5c862fd1e60553",
      "max": 1223,
      "min": 0,
      "orientation": "horizontal",
      "style": "IPY_MODEL_4624f9abd5584e50a40d0c4dff18addc",
      "value": 471
     }
    },
    "8c1e52cb48e94b678f48b119b6ceb29b": {
     "model_module": "@jupyter-widgets/base",
     "model_module_version": "1.2.0",
     "model_name": "LayoutModel",
     "state": {
      "_model_module": "@jupyter-widgets/base",
      "_model_module_version": "1.2.0",
      "_model_name": "LayoutModel",
      "_view_count": null,
      "_view_module": "@jupyter-widgets/base",
      "_view_module_version": "1.2.0",
      "_view_name": "LayoutView",
      "align_content": null,
      "align_items": null,
      "align_self": null,
      "border": null,
      "bottom": null,
      "display": null,
      "flex": null,
      "flex_flow": null,
      "grid_area": null,
      "grid_auto_columns": null,
      "grid_auto_flow": null,
      "grid_auto_rows": null,
      "grid_column": null,
      "grid_gap": null,
      "grid_row": null,
      "grid_template_areas": null,
      "grid_template_columns": null,
      "grid_template_rows": null,
      "height": null,
      "justify_content": null,
      "justify_items": null,
      "left": null,
      "margin": null,
      "max_height": null,
      "max_width": null,
      "min_height": null,
      "min_width": null,
      "object_fit": null,
      "object_position": null,
      "order": null,
      "overflow": null,
      "overflow_x": null,
      "overflow_y": null,
      "padding": null,
      "right": null,
      "top": null,
      "visibility": null,
      "width": null
     }
    },
    "92cd224c63044504babd56fa712a2e43": {
     "model_module": "@jupyter-widgets/controls",
     "model_module_version": "1.5.0",
     "model_name": "DescriptionStyleModel",
     "state": {
      "_model_module": "@jupyter-widgets/controls",
      "_model_module_version": "1.5.0",
      "_model_name": "DescriptionStyleModel",
      "_view_count": null,
      "_view_module": "@jupyter-widgets/base",
      "_view_module_version": "1.2.0",
      "_view_name": "StyleView",
      "description_width": ""
     }
    },
    "9547cc8610b049d3a83dde08f9156198": {
     "model_module": "@jupyter-widgets/controls",
     "model_module_version": "1.5.0",
     "model_name": "HTMLModel",
     "state": {
      "_dom_classes": [],
      "_model_module": "@jupyter-widgets/controls",
      "_model_module_version": "1.5.0",
      "_model_name": "HTMLModel",
      "_view_count": null,
      "_view_module": "@jupyter-widgets/controls",
      "_view_module_version": "1.5.0",
      "_view_name": "HTMLView",
      "description": "",
      "description_tooltip": null,
      "layout": "IPY_MODEL_a40954e8af1c493ca4023eb8a8599f0a",
      "placeholder": "​",
      "style": "IPY_MODEL_7f6e40c8e02f4589ba060f57db4bb6cb",
      "value": " 10/10 [00:04&lt;00:00,  2.46it/s]"
     }
    },
    "a40954e8af1c493ca4023eb8a8599f0a": {
     "model_module": "@jupyter-widgets/base",
     "model_module_version": "1.2.0",
     "model_name": "LayoutModel",
     "state": {
      "_model_module": "@jupyter-widgets/base",
      "_model_module_version": "1.2.0",
      "_model_name": "LayoutModel",
      "_view_count": null,
      "_view_module": "@jupyter-widgets/base",
      "_view_module_version": "1.2.0",
      "_view_name": "LayoutView",
      "align_content": null,
      "align_items": null,
      "align_self": null,
      "border": null,
      "bottom": null,
      "display": null,
      "flex": null,
      "flex_flow": null,
      "grid_area": null,
      "grid_auto_columns": null,
      "grid_auto_flow": null,
      "grid_auto_rows": null,
      "grid_column": null,
      "grid_gap": null,
      "grid_row": null,
      "grid_template_areas": null,
      "grid_template_columns": null,
      "grid_template_rows": null,
      "height": null,
      "justify_content": null,
      "justify_items": null,
      "left": null,
      "margin": null,
      "max_height": null,
      "max_width": null,
      "min_height": null,
      "min_width": null,
      "object_fit": null,
      "object_position": null,
      "order": null,
      "overflow": null,
      "overflow_x": null,
      "overflow_y": null,
      "padding": null,
      "right": null,
      "top": null,
      "visibility": null,
      "width": null
     }
    },
    "a57d4a518b364f548ff7f9f8eb6680ab": {
     "model_module": "@jupyter-widgets/controls",
     "model_module_version": "1.5.0",
     "model_name": "HTMLModel",
     "state": {
      "_dom_classes": [],
      "_model_module": "@jupyter-widgets/controls",
      "_model_module_version": "1.5.0",
      "_model_name": "HTMLModel",
      "_view_count": null,
      "_view_module": "@jupyter-widgets/controls",
      "_view_module_version": "1.5.0",
      "_view_name": "HTMLView",
      "description": "",
      "description_tooltip": null,
      "layout": "IPY_MODEL_fed16adbff21431fa52943f4877bd627",
      "placeholder": "​",
      "style": "IPY_MODEL_4d20950e99f3443db7dbb0a73c43e42f",
      "value": "Fit source/group: 100%"
     }
    },
    "a75d660d44564c109f2b4ea732f41e1e": {
     "model_module": "@jupyter-widgets/controls",
     "model_module_version": "1.5.0",
     "model_name": "HBoxModel",
     "state": {
      "_dom_classes": [],
      "_model_module": "@jupyter-widgets/controls",
      "_model_module_version": "1.5.0",
      "_model_name": "HBoxModel",
      "_view_count": null,
      "_view_module": "@jupyter-widgets/controls",
      "_view_module_version": "1.5.0",
      "_view_name": "HBoxView",
      "box_style": "",
      "children": [
       "IPY_MODEL_df5538e41f444af4bf82c149b8d3ff37",
       "IPY_MODEL_db7c5c4c5443477db538efb8de1f107b",
       "IPY_MODEL_9547cc8610b049d3a83dde08f9156198"
      ],
      "layout": "IPY_MODEL_cd5dce87b2fd45c79c40628bede28201"
     }
    },
    "b015a78c020445959d0edf7f516afc01": {
     "model_module": "@jupyter-widgets/controls",
     "model_module_version": "1.5.0",
     "model_name": "HBoxModel",
     "state": {
      "_dom_classes": [],
      "_model_module": "@jupyter-widgets/controls",
      "_model_module_version": "1.5.0",
      "_model_name": "HBoxModel",
      "_view_count": null,
      "_view_module": "@jupyter-widgets/controls",
      "_view_module_version": "1.5.0",
      "_view_name": "HBoxView",
      "box_style": "",
      "children": [
       "IPY_MODEL_a57d4a518b364f548ff7f9f8eb6680ab",
       "IPY_MODEL_d9fe482eb81b4567876c8c195f544d9b",
       "IPY_MODEL_4ed3959d836740c1b2352df79e52b1cb"
      ],
      "layout": "IPY_MODEL_38d9e6b86c104c4eb1e4fd3e4e6bcd0f"
     }
    },
    "bb273de249be462997c23cd14f8866d8": {
     "model_module": "@jupyter-widgets/controls",
     "model_module_version": "1.5.0",
     "model_name": "HTMLModel",
     "state": {
      "_dom_classes": [],
      "_model_module": "@jupyter-widgets/controls",
      "_model_module_version": "1.5.0",
      "_model_name": "HTMLModel",
      "_view_count": null,
      "_view_module": "@jupyter-widgets/controls",
      "_view_module_version": "1.5.0",
      "_view_name": "HTMLView",
      "description": "",
      "description_tooltip": null,
      "layout": "IPY_MODEL_52f997a624794c43a33f6cbc578bd206",
      "placeholder": "​",
      "style": "IPY_MODEL_7cce3f0f487b4f7990f7b45a973d78e0",
      "value": " 471/1223 [00:45&lt;01:16,  9.77it/s]"
     }
    },
    "bf906bf158cd4354ad171489de6ab416": {
     "model_module": "@jupyter-widgets/base",
     "model_module_version": "1.2.0",
     "model_name": "LayoutModel",
     "state": {
      "_model_module": "@jupyter-widgets/base",
      "_model_module_version": "1.2.0",
      "_model_name": "LayoutModel",
      "_view_count": null,
      "_view_module": "@jupyter-widgets/base",
      "_view_module_version": "1.2.0",
      "_view_name": "LayoutView",
      "align_content": null,
      "align_items": null,
      "align_self": null,
      "border": null,
      "bottom": null,
      "display": null,
      "flex": null,
      "flex_flow": null,
      "grid_area": null,
      "grid_auto_columns": null,
      "grid_auto_flow": null,
      "grid_auto_rows": null,
      "grid_column": null,
      "grid_gap": null,
      "grid_row": null,
      "grid_template_areas": null,
      "grid_template_columns": null,
      "grid_template_rows": null,
      "height": null,
      "justify_content": null,
      "justify_items": null,
      "left": null,
      "margin": null,
      "max_height": null,
      "max_width": null,
      "min_height": null,
      "min_width": null,
      "object_fit": null,
      "object_position": null,
      "order": null,
      "overflow": null,
      "overflow_x": null,
      "overflow_y": null,
      "padding": null,
      "right": null,
      "top": null,
      "visibility": null,
      "width": null
     }
    },
    "c11e1975a2864090bb5c862fd1e60553": {
     "model_module": "@jupyter-widgets/base",
     "model_module_version": "1.2.0",
     "model_name": "LayoutModel",
     "state": {
      "_model_module": "@jupyter-widgets/base",
      "_model_module_version": "1.2.0",
      "_model_name": "LayoutModel",
      "_view_count": null,
      "_view_module": "@jupyter-widgets/base",
      "_view_module_version": "1.2.0",
      "_view_name": "LayoutView",
      "align_content": null,
      "align_items": null,
      "align_self": null,
      "border": null,
      "bottom": null,
      "display": null,
      "flex": null,
      "flex_flow": null,
      "grid_area": null,
      "grid_auto_columns": null,
      "grid_auto_flow": null,
      "grid_auto_rows": null,
      "grid_column": null,
      "grid_gap": null,
      "grid_row": null,
      "grid_template_areas": null,
      "grid_template_columns": null,
      "grid_template_rows": null,
      "height": null,
      "justify_content": null,
      "justify_items": null,
      "left": null,
      "margin": null,
      "max_height": null,
      "max_width": null,
      "min_height": null,
      "min_width": null,
      "object_fit": null,
      "object_position": null,
      "order": null,
      "overflow": null,
      "overflow_x": null,
      "overflow_y": null,
      "padding": null,
      "right": null,
      "top": null,
      "visibility": null,
      "width": null
     }
    },
    "c838de2212fd49358c7f91086120b895": {
     "model_module": "@jupyter-widgets/controls",
     "model_module_version": "1.5.0",
     "model_name": "ProgressStyleModel",
     "state": {
      "_model_module": "@jupyter-widgets/controls",
      "_model_module_version": "1.5.0",
      "_model_name": "ProgressStyleModel",
      "_view_count": null,
      "_view_module": "@jupyter-widgets/base",
      "_view_module_version": "1.2.0",
      "_view_name": "StyleView",
      "bar_color": null,
      "description_width": ""
     }
    },
    "cd5dce87b2fd45c79c40628bede28201": {
     "model_module": "@jupyter-widgets/base",
     "model_module_version": "1.2.0",
     "model_name": "LayoutModel",
     "state": {
      "_model_module": "@jupyter-widgets/base",
      "_model_module_version": "1.2.0",
      "_model_name": "LayoutModel",
      "_view_count": null,
      "_view_module": "@jupyter-widgets/base",
      "_view_module_version": "1.2.0",
      "_view_name": "LayoutView",
      "align_content": null,
      "align_items": null,
      "align_self": null,
      "border": null,
      "bottom": null,
      "display": null,
      "flex": null,
      "flex_flow": null,
      "grid_area": null,
      "grid_auto_columns": null,
      "grid_auto_flow": null,
      "grid_auto_rows": null,
      "grid_column": null,
      "grid_gap": null,
      "grid_row": null,
      "grid_template_areas": null,
      "grid_template_columns": null,
      "grid_template_rows": null,
      "height": null,
      "justify_content": null,
      "justify_items": null,
      "left": null,
      "margin": null,
      "max_height": null,
      "max_width": null,
      "min_height": null,
      "min_width": null,
      "object_fit": null,
      "object_position": null,
      "order": null,
      "overflow": null,
      "overflow_x": null,
      "overflow_y": null,
      "padding": null,
      "right": null,
      "top": null,
      "visibility": null,
      "width": null
     }
    },
    "d725278a6c1f486cbf25690d80c09862": {
     "model_module": "@jupyter-widgets/controls",
     "model_module_version": "1.5.0",
     "model_name": "ProgressStyleModel",
     "state": {
      "_model_module": "@jupyter-widgets/controls",
      "_model_module_version": "1.5.0",
      "_model_name": "ProgressStyleModel",
      "_view_count": null,
      "_view_module": "@jupyter-widgets/base",
      "_view_module_version": "1.2.0",
      "_view_name": "StyleView",
      "bar_color": null,
      "description_width": ""
     }
    },
    "d7ae45d043ac4d6aa41ee3788d0f69bd": {
     "model_module": "@jupyter-widgets/controls",
     "model_module_version": "1.5.0",
     "model_name": "DescriptionStyleModel",
     "state": {
      "_model_module": "@jupyter-widgets/controls",
      "_model_module_version": "1.5.0",
      "_model_name": "DescriptionStyleModel",
      "_view_count": null,
      "_view_module": "@jupyter-widgets/base",
      "_view_module_version": "1.2.0",
      "_view_name": "StyleView",
      "description_width": ""
     }
    },
    "d9fe482eb81b4567876c8c195f544d9b": {
     "model_module": "@jupyter-widgets/controls",
     "model_module_version": "1.5.0",
     "model_name": "FloatProgressModel",
     "state": {
      "_dom_classes": [],
      "_model_module": "@jupyter-widgets/controls",
      "_model_module_version": "1.5.0",
      "_model_name": "FloatProgressModel",
      "_view_count": null,
      "_view_module": "@jupyter-widgets/controls",
      "_view_module_version": "1.5.0",
      "_view_name": "ProgressView",
      "bar_style": "success",
      "description": "",
      "description_tooltip": null,
      "layout": "IPY_MODEL_80f8e9e87d3a444884db7ac9a1fa9400",
      "max": 7664,
      "min": 0,
      "orientation": "horizontal",
      "style": "IPY_MODEL_3f3e4cb4a24a49a7a499deedf5f6ec99",
      "value": 7664
     }
    },
    "db7c5c4c5443477db538efb8de1f107b": {
     "model_module": "@jupyter-widgets/controls",
     "model_module_version": "1.5.0",
     "model_name": "FloatProgressModel",
     "state": {
      "_dom_classes": [],
      "_model_module": "@jupyter-widgets/controls",
      "_model_module_version": "1.5.0",
      "_model_name": "FloatProgressModel",
      "_view_count": null,
      "_view_module": "@jupyter-widgets/controls",
      "_view_module_version": "1.5.0",
      "_view_name": "ProgressView",
      "bar_style": "success",
      "description": "",
      "description_tooltip": null,
      "layout": "IPY_MODEL_81ea839071fa4af8a04ac5ed4b58c2ce",
      "max": 10,
      "min": 0,
      "orientation": "horizontal",
      "style": "IPY_MODEL_c838de2212fd49358c7f91086120b895",
      "value": 10
     }
    },
    "df5538e41f444af4bf82c149b8d3ff37": {
     "model_module": "@jupyter-widgets/controls",
     "model_module_version": "1.5.0",
     "model_name": "HTMLModel",
     "state": {
      "_dom_classes": [],
      "_model_module": "@jupyter-widgets/controls",
      "_model_module_version": "1.5.0",
      "_model_name": "HTMLModel",
      "_view_count": null,
      "_view_module": "@jupyter-widgets/controls",
      "_view_module_version": "1.5.0",
      "_view_name": "HTMLView",
      "description": "",
      "description_tooltip": null,
      "layout": "IPY_MODEL_5788b7e4507947ddb830760c1d21f40d",
      "placeholder": "​",
      "style": "IPY_MODEL_d7ae45d043ac4d6aa41ee3788d0f69bd",
      "value": "EPSFBuilder (10 maxiters): 100%"
     }
    },
    "ebb809c9e95446439f7233c8db401838": {
     "model_module": "@jupyter-widgets/base",
     "model_module_version": "1.2.0",
     "model_name": "LayoutModel",
     "state": {
      "_model_module": "@jupyter-widgets/base",
      "_model_module_version": "1.2.0",
      "_model_name": "LayoutModel",
      "_view_count": null,
      "_view_module": "@jupyter-widgets/base",
      "_view_module_version": "1.2.0",
      "_view_name": "LayoutView",
      "align_content": null,
      "align_items": null,
      "align_self": null,
      "border": null,
      "bottom": null,
      "display": null,
      "flex": null,
      "flex_flow": null,
      "grid_area": null,
      "grid_auto_columns": null,
      "grid_auto_flow": null,
      "grid_auto_rows": null,
      "grid_column": null,
      "grid_gap": null,
      "grid_row": null,
      "grid_template_areas": null,
      "grid_template_columns": null,
      "grid_template_rows": null,
      "height": null,
      "justify_content": null,
      "justify_items": null,
      "left": null,
      "margin": null,
      "max_height": null,
      "max_width": null,
      "min_height": null,
      "min_width": null,
      "object_fit": null,
      "object_position": null,
      "order": null,
      "overflow": null,
      "overflow_x": null,
      "overflow_y": null,
      "padding": null,
      "right": null,
      "top": null,
      "visibility": null,
      "width": null
     }
    },
    "eeffc3e2ac584546a154f20bc49ff14b": {
     "model_module": "@jupyter-widgets/controls",
     "model_module_version": "1.5.0",
     "model_name": "DescriptionStyleModel",
     "state": {
      "_model_module": "@jupyter-widgets/controls",
      "_model_module_version": "1.5.0",
      "_model_name": "DescriptionStyleModel",
      "_view_count": null,
      "_view_module": "@jupyter-widgets/base",
      "_view_module_version": "1.2.0",
      "_view_name": "StyleView",
      "description_width": ""
     }
    },
    "f0fc3ff79ae846f198462ea9c3d5296a": {
     "model_module": "@jupyter-widgets/controls",
     "model_module_version": "1.5.0",
     "model_name": "HTMLModel",
     "state": {
      "_dom_classes": [],
      "_model_module": "@jupyter-widgets/controls",
      "_model_module_version": "1.5.0",
      "_model_name": "HTMLModel",
      "_view_count": null,
      "_view_module": "@jupyter-widgets/controls",
      "_view_module_version": "1.5.0",
      "_view_name": "HTMLView",
      "description": "",
      "description_tooltip": null,
      "layout": "IPY_MODEL_748e1df56e174c389f52bd74f6a5405c",
      "placeholder": "​",
      "style": "IPY_MODEL_507c773eb820481b8e9ee0a68c2a0d30",
      "value": " 8091/8091 [00:38&lt;00:00, 202.16it/s]"
     }
    },
    "f901cd013f1d4b99908d5e5a08b82120": {
     "model_module": "@jupyter-widgets/controls",
     "model_module_version": "1.5.0",
     "model_name": "HBoxModel",
     "state": {
      "_dom_classes": [],
      "_model_module": "@jupyter-widgets/controls",
      "_model_module_version": "1.5.0",
      "_model_name": "HBoxModel",
      "_view_count": null,
      "_view_module": "@jupyter-widgets/controls",
      "_view_module_version": "1.5.0",
      "_view_name": "HBoxView",
      "box_style": "",
      "children": [
       "IPY_MODEL_6d0add1a132c46f18b94b896cc0bce46",
       "IPY_MODEL_873124f90fb94c09b2cb207c89f2084b",
       "IPY_MODEL_bb273de249be462997c23cd14f8866d8"
      ],
      "layout": "IPY_MODEL_ebb809c9e95446439f7233c8db401838"
     }
    },
    "fd08a38bf9e840df8db6a85d4b0dcddd": {
     "model_module": "@jupyter-widgets/base",
     "model_module_version": "1.2.0",
     "model_name": "LayoutModel",
     "state": {
      "_model_module": "@jupyter-widgets/base",
      "_model_module_version": "1.2.0",
      "_model_name": "LayoutModel",
      "_view_count": null,
      "_view_module": "@jupyter-widgets/base",
      "_view_module_version": "1.2.0",
      "_view_name": "LayoutView",
      "align_content": null,
      "align_items": null,
      "align_self": null,
      "border": null,
      "bottom": null,
      "display": null,
      "flex": null,
      "flex_flow": null,
      "grid_area": null,
      "grid_auto_columns": null,
      "grid_auto_flow": null,
      "grid_auto_rows": null,
      "grid_column": null,
      "grid_gap": null,
      "grid_row": null,
      "grid_template_areas": null,
      "grid_template_columns": null,
      "grid_template_rows": null,
      "height": null,
      "justify_content": null,
      "justify_items": null,
      "left": null,
      "margin": null,
      "max_height": null,
      "max_width": null,
      "min_height": null,
      "min_width": null,
      "object_fit": null,
      "object_position": null,
      "order": null,
      "overflow": null,
      "overflow_x": null,
      "overflow_y": null,
      "padding": null,
      "right": null,
      "top": null,
      "visibility": null,
      "width": null
     }
    },
    "fea47634700f45ceb714f2079f3e373d": {
     "model_module": "@jupyter-widgets/controls",
     "model_module_version": "1.5.0",
     "model_name": "DescriptionStyleModel",
     "state": {
      "_model_module": "@jupyter-widgets/controls",
      "_model_module_version": "1.5.0",
      "_model_name": "DescriptionStyleModel",
      "_view_count": null,
      "_view_module": "@jupyter-widgets/base",
      "_view_module_version": "1.2.0",
      "_view_name": "StyleView",
      "description_width": ""
     }
    },
    "fed16adbff21431fa52943f4877bd627": {
     "model_module": "@jupyter-widgets/base",
     "model_module_version": "1.2.0",
     "model_name": "LayoutModel",
     "state": {
      "_model_module": "@jupyter-widgets/base",
      "_model_module_version": "1.2.0",
      "_model_name": "LayoutModel",
      "_view_count": null,
      "_view_module": "@jupyter-widgets/base",
      "_view_module_version": "1.2.0",
      "_view_name": "LayoutView",
      "align_content": null,
      "align_items": null,
      "align_self": null,
      "border": null,
      "bottom": null,
      "display": null,
      "flex": null,
      "flex_flow": null,
      "grid_area": null,
      "grid_auto_columns": null,
      "grid_auto_flow": null,
      "grid_auto_rows": null,
      "grid_column": null,
      "grid_gap": null,
      "grid_row": null,
      "grid_template_areas": null,
      "grid_template_columns": null,
      "grid_template_rows": null,
      "height": null,
      "justify_content": null,
      "justify_items": null,
      "left": null,
      "margin": null,
      "max_height": null,
      "max_width": null,
      "min_height": null,
      "min_width": null,
      "object_fit": null,
      "object_position": null,
      "order": null,
      "overflow": null,
      "overflow_x": null,
      "overflow_y": null,
      "padding": null,
      "right": null,
      "top": null,
      "visibility": null,
      "width": null
     }
    }
   }
  }
 },
 "nbformat": 4,
 "nbformat_minor": 5
}
