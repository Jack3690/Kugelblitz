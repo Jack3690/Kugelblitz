{
  "cells": [
    {
      "cell_type": "markdown",
      "metadata": {
        "id": "view-in-github",
        "colab_type": "text"
      },
      "source": [
        "<a href=\"https://colab.research.google.com/github/Jack3690/Kugelblitz/blob/main/notebooks/Dusty_MaNGA.ipynb\" target=\"_parent\"><img src=\"https://colab.research.google.com/assets/colab-badge.svg\" alt=\"Open In Colab\"/></a>"
      ]
    },
    {
      "cell_type": "code",
      "source": [
        "!pip install packaging==21 --quiet"
      ],
      "metadata": {
        "id": "u1V_mYLkX_U5",
        "outputId": "3bb675f5-80e8-4a4f-cb12-5a7ff52bbe7d",
        "colab": {
          "base_uri": "https://localhost:8080/"
        }
      },
      "execution_count": 1,
      "outputs": [
        {
          "output_type": "stream",
          "name": "stdout",
          "text": [
            "\u001b[?25l     \u001b[90m━━━━━━━━━━━━━━━━━━━━━━━━━━━━━━━━━━━━━━━━\u001b[0m \u001b[32m0.0/40.4 kB\u001b[0m \u001b[31m?\u001b[0m eta \u001b[36m-:--:--\u001b[0m\r\u001b[2K     \u001b[90m━━━━━━━━━━━━━━━━━━━━━━━━━━━━━━━━━━━━━━━━\u001b[0m \u001b[32m40.4/40.4 kB\u001b[0m \u001b[31m4.1 MB/s\u001b[0m eta \u001b[36m0:00:00\u001b[0m\n",
            "\u001b[?25h\u001b[31mERROR: pip's dependency resolver does not currently take into account all the packages that are installed. This behaviour is the source of the following dependency conflicts.\n",
            "statsmodels 0.13.5 requires packaging>=21.3, but you have packaging 21.0 which is incompatible.\n",
            "xarray 2022.12.0 requires packaging>=21.3, but you have packaging 21.0 which is incompatible.\u001b[0m\u001b[31m\n",
            "\u001b[0m"
          ]
        }
      ]
    },
    {
      "cell_type": "code",
      "execution_count": 1,
      "metadata": {
        "id": "-WjvIk7PX8aQ",
        "outputId": "db6a7253-ae1c-43a7-f38d-4afca92254aa",
        "colab": {
          "base_uri": "https://localhost:8080/"
        }
      },
      "outputs": [
        {
          "output_type": "stream",
          "name": "stdout",
          "text": [
            "\u001b[2K     \u001b[90m━━━━━━━━━━━━━━━━━━━━━━━━━━━━━━━━━━━━━━\u001b[0m \u001b[32m416.7/416.7 kB\u001b[0m \u001b[31m16.4 MB/s\u001b[0m eta \u001b[36m0:00:00\u001b[0m\n",
            "\u001b[2K     \u001b[90m━━━━━━━━━━━━━━━━━━━━━━━━━━━━━━━━━━━━━━━━\u001b[0m \u001b[32m49.5/49.5 kB\u001b[0m \u001b[31m4.3 MB/s\u001b[0m eta \u001b[36m0:00:00\u001b[0m\n",
            "\u001b[2K     \u001b[90m━━━━━━━━━━━━━━━━━━━━━━━━━━━━━━━━━━━━━━\u001b[0m \u001b[32m284.3/284.3 kB\u001b[0m \u001b[31m13.7 MB/s\u001b[0m eta \u001b[36m0:00:00\u001b[0m\n",
            "\u001b[2K     \u001b[90m━━━━━━━━━━━━━━━━━━━━━━━━━━━━━━━━━━━━━━━━\u001b[0m \u001b[32m40.9/40.9 kB\u001b[0m \u001b[31m3.6 MB/s\u001b[0m eta \u001b[36m0:00:00\u001b[0m\n",
            "\u001b[?25h  Preparing metadata (setup.py) ... \u001b[?25l\u001b[?25hdone\n",
            "\u001b[2K     \u001b[90m━━━━━━━━━━━━━━━━━━━━━━━━━━━━━━━━━━━━━━\u001b[0m \u001b[32m289.2/289.2 kB\u001b[0m \u001b[31m23.2 MB/s\u001b[0m eta \u001b[36m0:00:00\u001b[0m\n",
            "\u001b[?25h  Preparing metadata (setup.py) ... \u001b[?25l\u001b[?25hdone\n",
            "\u001b[2K     \u001b[90m━━━━━━━━━━━━━━━━━━━━━━━━━━━━━━━━━━━━━━\u001b[0m \u001b[32m351.2/351.2 kB\u001b[0m \u001b[31m24.5 MB/s\u001b[0m eta \u001b[36m0:00:00\u001b[0m\n",
            "\u001b[?25h  Preparing metadata (setup.py) ... \u001b[?25l\u001b[?25hdone\n",
            "\u001b[2K     \u001b[90m━━━━━━━━━━━━━━━━━━━━━━━━━━━━━━━━━━━━━━━━\u001b[0m \u001b[32m49.6/49.6 kB\u001b[0m \u001b[31m5.6 MB/s\u001b[0m eta \u001b[36m0:00:00\u001b[0m\n",
            "\u001b[2K     \u001b[90m━━━━━━━━━━━━━━━━━━━━━━━━━━━━━━━━━━━━━━━━\u001b[0m \u001b[32m94.6/94.6 kB\u001b[0m \u001b[31m8.5 MB/s\u001b[0m eta \u001b[36m0:00:00\u001b[0m\n",
            "\u001b[2K     \u001b[90m━━━━━━━━━━━━━━━━━━━━━━━━━━━━━━━━━━━━━━\u001b[0m \u001b[32m525.6/525.6 kB\u001b[0m \u001b[31m35.5 MB/s\u001b[0m eta \u001b[36m0:00:00\u001b[0m\n",
            "\u001b[2K     \u001b[90m━━━━━━━━━━━━━━━━━━━━━━━━━━━━━━━━━━━━━━━━\u001b[0m \u001b[32m67.8/67.8 kB\u001b[0m \u001b[31m6.5 MB/s\u001b[0m eta \u001b[36m0:00:00\u001b[0m\n",
            "\u001b[2K     \u001b[90m━━━━━━━━━━━━━━━━━━━━━━━━━━━━━━━━━━━━━━━━\u001b[0m \u001b[32m6.4/6.4 MB\u001b[0m \u001b[31m34.9 MB/s\u001b[0m eta \u001b[36m0:00:00\u001b[0m\n",
            "\u001b[?25h  Preparing metadata (setup.py) ... \u001b[?25l\u001b[?25hdone\n",
            "\u001b[2K     \u001b[90m━━━━━━━━━━━━━━━━━━━━━━━━━━━━━━━━━━━━━━\u001b[0m \u001b[32m136.5/136.5 kB\u001b[0m \u001b[31m11.4 MB/s\u001b[0m eta \u001b[36m0:00:00\u001b[0m\n",
            "\u001b[2K     \u001b[90m━━━━━━━━━━━━━━━━━━━━━━━━━━━━━━━━━━━━━━━━\u001b[0m \u001b[32m92.6/92.6 kB\u001b[0m \u001b[31m10.1 MB/s\u001b[0m eta \u001b[36m0:00:00\u001b[0m\n",
            "\u001b[2K     \u001b[90m━━━━━━━━━━━━━━━━━━━━━━━━━━━━━━━━━━━━━━\u001b[0m \u001b[32m172.5/172.5 kB\u001b[0m \u001b[31m13.2 MB/s\u001b[0m eta \u001b[36m0:00:00\u001b[0m\n",
            "\u001b[2K     \u001b[90m━━━━━━━━━━━━━━━━━━━━━━━━━━━━━━━━━━━━━━━━\u001b[0m \u001b[32m3.1/3.1 MB\u001b[0m \u001b[31m84.1 MB/s\u001b[0m eta \u001b[36m0:00:00\u001b[0m\n",
            "\u001b[2K     \u001b[90m━━━━━━━━━━━━━━━━━━━━━━━━━━━━━━━━━━━━━━━━\u001b[0m \u001b[32m41.4/41.4 kB\u001b[0m \u001b[31m4.4 MB/s\u001b[0m eta \u001b[36m0:00:00\u001b[0m\n",
            "\u001b[?25h  Preparing metadata (setup.py) ... \u001b[?25l\u001b[?25hdone\n",
            "\u001b[2K     \u001b[90m━━━━━━━━━━━━━━━━━━━━━━━━━━━━━━━━━━━━━━\u001b[0m \u001b[32m216.4/216.4 kB\u001b[0m \u001b[31m22.2 MB/s\u001b[0m eta \u001b[36m0:00:00\u001b[0m\n",
            "\u001b[2K     \u001b[90m━━━━━━━━━━━━━━━━━━━━━━━━━━━━━━━━━━━━━━━━\u001b[0m \u001b[32m49.1/49.1 kB\u001b[0m \u001b[31m2.5 MB/s\u001b[0m eta \u001b[36m0:00:00\u001b[0m\n",
            "\u001b[2K     \u001b[90m━━━━━━━━━━━━━━━━━━━━━━━━━━━━━━━━━━━━━━━━\u001b[0m \u001b[32m94.6/94.6 kB\u001b[0m \u001b[31m10.0 MB/s\u001b[0m eta \u001b[36m0:00:00\u001b[0m\n",
            "\u001b[2K     \u001b[90m━━━━━━━━━━━━━━━━━━━━━━━━━━━━━━━━━━━━━━━━\u001b[0m \u001b[32m94.6/94.6 kB\u001b[0m \u001b[31m10.0 MB/s\u001b[0m eta \u001b[36m0:00:00\u001b[0m\n",
            "\u001b[2K     \u001b[90m━━━━━━━━━━━━━━━━━━━━━━━━━━━━━━━━━━━━━━━\u001b[0m \u001b[32m112.7/112.7 kB\u001b[0m \u001b[31m6.8 MB/s\u001b[0m eta \u001b[36m0:00:00\u001b[0m\n",
            "\u001b[?25h  Preparing metadata (setup.py) ... \u001b[?25l\u001b[?25hdone\n",
            "\u001b[2K     \u001b[90m━━━━━━━━━━━━━━━━━━━━━━━━━━━━━━━━━━━━━━\u001b[0m \u001b[32m283.7/283.7 kB\u001b[0m \u001b[31m22.4 MB/s\u001b[0m eta \u001b[36m0:00:00\u001b[0m\n",
            "\u001b[?25h  Preparing metadata (setup.py) ... \u001b[?25l\u001b[?25hdone\n",
            "  Building wheel for dogpile.cache (setup.py) ... \u001b[?25l\u001b[?25hdone\n",
            "  Building wheel for Flask-JWT-Extended (setup.py) ... \u001b[?25l\u001b[?25hdone\n",
            "  Building wheel for yamlordereddictloader (setup.py) ... \u001b[?25l\u001b[?25hdone\n",
            "  Building wheel for daemonocle (setup.py) ... \u001b[?25l\u001b[?25hdone\n",
            "  Building wheel for sqlalchemy (setup.py) ... \u001b[?25l\u001b[?25hdone\n",
            "  Building wheel for validators (setup.py) ... \u001b[?25l\u001b[?25hdone\n",
            "  Building wheel for infinity (setup.py) ... \u001b[?25l\u001b[?25hdone\n",
            "\u001b[31mERROR: pip's dependency resolver does not currently take into account all the packages that are installed. This behaviour is the source of the following dependency conflicts.\n",
            "statsmodels 0.13.5 requires packaging>=21.3, but you have packaging 20.9 which is incompatible.\n",
            "xarray 2022.12.0 requires packaging>=21.3, but you have packaging 20.9 which is incompatible.\u001b[0m\u001b[31m\n",
            "\u001b[2K     \u001b[90m━━━━━━━━━━━━━━━━━━━━━━━━━━━━━━━━━━━━━━\u001b[0m \u001b[32m857.0/857.0 kB\u001b[0m \u001b[31m43.3 MB/s\u001b[0m eta \u001b[36m0:00:00\u001b[0m\n",
            "\u001b[?25h  Preparing metadata (setup.py) ... \u001b[?25l\u001b[?25hdone\n",
            "  Preparing metadata (setup.py) ... \u001b[?25l\u001b[?25hdone\n",
            "  Building wheel for pafit (setup.py) ... \u001b[?25l\u001b[?25hdone\n",
            "  Building wheel for plotbin (setup.py) ... \u001b[?25l\u001b[?25hdone\n",
            "\u001b[2K     \u001b[90m━━━━━━━━━━━━━━━━━━━━━━━━━━━━━━━━━━━━━━━━\u001b[0m \u001b[32m95.2/95.2 kB\u001b[0m \u001b[31m8.1 MB/s\u001b[0m eta \u001b[36m0:00:00\u001b[0m\n",
            "\u001b[?25h\u001b[31mERROR: pip's dependency resolver does not currently take into account all the packages that are installed. This behaviour is the source of the following dependency conflicts.\n",
            "flask-jwt-extended 3.25.1 requires Flask<2.0,>=1.0, but you have flask 2.1.0 which is incompatible.\u001b[0m\u001b[31m\n",
            "\u001b[0m"
          ]
        }
      ],
      "source": [
        "!pip install sdss-marvin --quiet\n",
        "!pip install photutils --quiet\n",
        "!pip install pafit --quiet\n",
        "!pip install Flask==2.1.0 --quiet"
      ]
    },
    {
      "cell_type": "code",
      "execution_count": 2,
      "metadata": {
        "id": "E0f4YB5eNvSe"
      },
      "outputs": [],
      "source": [
        "import os\n",
        "import sys\n",
        "import requests\n",
        "import warnings\n",
        "import PIL\n",
        "import copy\n",
        "from astropy.io import fits\n",
        "if sys.version_info.major == 2:\n",
        "    from cStringIO import StringIO as stringio\n",
        "else:\n",
        "    from io import StringIO as stringio\n",
        "    from io import BytesIO as bytesio"
      ]
    },
    {
      "cell_type": "code",
      "execution_count": 3,
      "metadata": {
        "colab": {
          "base_uri": "https://localhost:8080/"
        },
        "id": "Yrs7jdvmIdle",
        "outputId": "ec45dceb-f3ad-4227-d12a-ec5bde44c3eb"
      },
      "outputs": [
        {
          "output_type": "stream",
          "name": "stderr",
          "text": [
            "DEBUG:sdss_access:SDSS_ACCESS> Using Tree(sas_base_dir=/root/sas, config=sdsswork, release=WORK)\n",
            "\u001b[1;33m[WARNING]: \u001b[0m\u001b[0;39mcannot initiate Sentry error reporting: [Errno 6] No such device or address.\u001b[0m \u001b[0;36m(UserWarning)\u001b[0m\n",
            "WARNING:py.warnings:/usr/local/lib/python3.10/dist-packages/marvin/core/exceptions.py:50: UserWarning: cannot initiate Sentry error reporting: [Errno 6] No such device or address.\n",
            "  warnings.warn('cannot initiate Sentry error reporting: {0}.'.format(str(ee)),\n",
            "\n",
            "\u001b[0;34m[INFO]: \u001b[0mNo release version set. Setting default to DR17\n",
            "INFO:marvin:No release version set. Setting default to DR17\n",
            "\u001b[1;33m[WARNING]: \u001b[0m\u001b[0;39mpath /root/sas/dr17/manga/spectro/redux/v3_1_1/drpall-v3_1_1.fits cannot be found. Setting drpall to None.\u001b[0m \u001b[0;36m(MarvinUserWarning)\u001b[0m\n",
            "WARNING:py.warnings:/usr/local/lib/python3.10/dist-packages/marvin/__init__.py:387: MarvinUserWarning: path /root/sas/dr17/manga/spectro/redux/v3_1_1/drpall-v3_1_1.fits cannot be found. Setting drpall to None.\n",
            "  warnings.warn('path {0} cannot be found. Setting drpall to None.'\n",
            "\n",
            "\u001b[1;33m[WARNING]: \u001b[0m\u001b[0;39mpath /root/sas/dr17/manga/spectro/analysis/v3_1_1/3.1.0/dapall-v3_1_1-3.1.0.fits cannot be found. Setting dapall to None.\u001b[0m \u001b[0;36m(MarvinUserWarning)\u001b[0m\n",
            "WARNING:py.warnings:/usr/local/lib/python3.10/dist-packages/marvin/__init__.py:400: MarvinUserWarning: path /root/sas/dr17/manga/spectro/analysis/v3_1_1/3.1.0/dapall-v3_1_1-3.1.0.fits cannot be found. Setting dapall to None.\n",
            "  warnings.warn('path {0} cannot be found. Setting dapall to None.'\n",
            "\n",
            "\u001b[1;33m[WARNING]: \u001b[0m\u001b[0;39mAPICoreClientInfoImportHook.find_spec() not found; falling back to find_module()\u001b[0m \u001b[0;36m(ImportWarning)\u001b[0m\n",
            "WARNING:py.warnings:<frozen importlib._bootstrap>:914: ImportWarning: APICoreClientInfoImportHook.find_spec() not found; falling back to find_module()\n",
            "\n",
            "\u001b[1;33m[WARNING]: \u001b[0m\u001b[0;39m_PyDriveImportHook.find_spec() not found; falling back to find_module()\u001b[0m \u001b[0;36m(ImportWarning)\u001b[0m\n",
            "WARNING:py.warnings:<frozen importlib._bootstrap>:914: ImportWarning: _PyDriveImportHook.find_spec() not found; falling back to find_module()\n",
            "\n",
            "\u001b[1;33m[WARNING]: \u001b[0m\u001b[0;39m_OpenCVImportHook.find_spec() not found; falling back to find_module()\u001b[0m \u001b[0;36m(ImportWarning)\u001b[0m\n",
            "WARNING:py.warnings:<frozen importlib._bootstrap>:914: ImportWarning: _OpenCVImportHook.find_spec() not found; falling back to find_module()\n",
            "\n",
            "\u001b[1;33m[WARNING]: \u001b[0m\u001b[0;39m_BokehImportHook.find_spec() not found; falling back to find_module()\u001b[0m \u001b[0;36m(ImportWarning)\u001b[0m\n",
            "WARNING:py.warnings:<frozen importlib._bootstrap>:914: ImportWarning: _BokehImportHook.find_spec() not found; falling back to find_module()\n",
            "\n",
            "\u001b[1;33m[WARNING]: \u001b[0m\u001b[0;39m_AltairImportHook.find_spec() not found; falling back to find_module()\u001b[0m \u001b[0;36m(ImportWarning)\u001b[0m\n",
            "WARNING:py.warnings:<frozen importlib._bootstrap>:914: ImportWarning: _AltairImportHook.find_spec() not found; falling back to find_module()\n",
            "\n",
            "\u001b[1;33m[WARNING]: \u001b[0m\u001b[0;39mAPICoreClientInfoImportHook.find_spec() not found; falling back to find_module()\u001b[0m \u001b[0;36m(ImportWarning)\u001b[0m\n",
            "WARNING:py.warnings:<frozen importlib._bootstrap>:914: ImportWarning: APICoreClientInfoImportHook.find_spec() not found; falling back to find_module()\n",
            "\n",
            "\u001b[1;33m[WARNING]: \u001b[0m\u001b[0;39m_PyDriveImportHook.find_spec() not found; falling back to find_module()\u001b[0m \u001b[0;36m(ImportWarning)\u001b[0m\n",
            "WARNING:py.warnings:<frozen importlib._bootstrap>:914: ImportWarning: _PyDriveImportHook.find_spec() not found; falling back to find_module()\n",
            "\n",
            "\u001b[1;33m[WARNING]: \u001b[0m\u001b[0;39m_OpenCVImportHook.find_spec() not found; falling back to find_module()\u001b[0m \u001b[0;36m(ImportWarning)\u001b[0m\n",
            "WARNING:py.warnings:<frozen importlib._bootstrap>:914: ImportWarning: _OpenCVImportHook.find_spec() not found; falling back to find_module()\n",
            "\n",
            "\u001b[1;33m[WARNING]: \u001b[0m\u001b[0;39m_BokehImportHook.find_spec() not found; falling back to find_module()\u001b[0m \u001b[0;36m(ImportWarning)\u001b[0m\n",
            "WARNING:py.warnings:<frozen importlib._bootstrap>:914: ImportWarning: _BokehImportHook.find_spec() not found; falling back to find_module()\n",
            "\n",
            "\u001b[1;33m[WARNING]: \u001b[0m\u001b[0;39m_AltairImportHook.find_spec() not found; falling back to find_module()\u001b[0m \u001b[0;36m(ImportWarning)\u001b[0m\n",
            "WARNING:py.warnings:<frozen importlib._bootstrap>:914: ImportWarning: _AltairImportHook.find_spec() not found; falling back to find_module()\n",
            "\n",
            "\u001b[1;33m[WARNING]: \u001b[0m\u001b[0;39mAPICoreClientInfoImportHook.find_spec() not found; falling back to find_module()\u001b[0m \u001b[0;36m(ImportWarning)\u001b[0m\n",
            "WARNING:py.warnings:<frozen importlib._bootstrap>:914: ImportWarning: APICoreClientInfoImportHook.find_spec() not found; falling back to find_module()\n",
            "\n",
            "\u001b[1;33m[WARNING]: \u001b[0m\u001b[0;39m_PyDriveImportHook.find_spec() not found; falling back to find_module()\u001b[0m \u001b[0;36m(ImportWarning)\u001b[0m\n",
            "WARNING:py.warnings:<frozen importlib._bootstrap>:914: ImportWarning: _PyDriveImportHook.find_spec() not found; falling back to find_module()\n",
            "\n",
            "\u001b[1;33m[WARNING]: \u001b[0m\u001b[0;39m_OpenCVImportHook.find_spec() not found; falling back to find_module()\u001b[0m \u001b[0;36m(ImportWarning)\u001b[0m\n",
            "WARNING:py.warnings:<frozen importlib._bootstrap>:914: ImportWarning: _OpenCVImportHook.find_spec() not found; falling back to find_module()\n",
            "\n",
            "\u001b[1;33m[WARNING]: \u001b[0m\u001b[0;39m_BokehImportHook.find_spec() not found; falling back to find_module()\u001b[0m \u001b[0;36m(ImportWarning)\u001b[0m\n",
            "WARNING:py.warnings:<frozen importlib._bootstrap>:914: ImportWarning: _BokehImportHook.find_spec() not found; falling back to find_module()\n",
            "\n",
            "\u001b[1;33m[WARNING]: \u001b[0m\u001b[0;39m_AltairImportHook.find_spec() not found; falling back to find_module()\u001b[0m \u001b[0;36m(ImportWarning)\u001b[0m\n",
            "WARNING:py.warnings:<frozen importlib._bootstrap>:914: ImportWarning: _AltairImportHook.find_spec() not found; falling back to find_module()\n",
            "\n",
            "\u001b[1;33m[WARNING]: \u001b[0m\u001b[0;39mAPICoreClientInfoImportHook.find_spec() not found; falling back to find_module()\u001b[0m \u001b[0;36m(ImportWarning)\u001b[0m\n",
            "WARNING:py.warnings:<frozen importlib._bootstrap>:914: ImportWarning: APICoreClientInfoImportHook.find_spec() not found; falling back to find_module()\n",
            "\n",
            "\u001b[1;33m[WARNING]: \u001b[0m\u001b[0;39m_PyDriveImportHook.find_spec() not found; falling back to find_module()\u001b[0m \u001b[0;36m(ImportWarning)\u001b[0m\n",
            "WARNING:py.warnings:<frozen importlib._bootstrap>:914: ImportWarning: _PyDriveImportHook.find_spec() not found; falling back to find_module()\n",
            "\n",
            "\u001b[1;33m[WARNING]: \u001b[0m\u001b[0;39m_OpenCVImportHook.find_spec() not found; falling back to find_module()\u001b[0m \u001b[0;36m(ImportWarning)\u001b[0m\n",
            "WARNING:py.warnings:<frozen importlib._bootstrap>:914: ImportWarning: _OpenCVImportHook.find_spec() not found; falling back to find_module()\n",
            "\n",
            "\u001b[1;33m[WARNING]: \u001b[0m\u001b[0;39m_BokehImportHook.find_spec() not found; falling back to find_module()\u001b[0m \u001b[0;36m(ImportWarning)\u001b[0m\n",
            "WARNING:py.warnings:<frozen importlib._bootstrap>:914: ImportWarning: _BokehImportHook.find_spec() not found; falling back to find_module()\n",
            "\n",
            "\u001b[1;33m[WARNING]: \u001b[0m\u001b[0;39m_AltairImportHook.find_spec() not found; falling back to find_module()\u001b[0m \u001b[0;36m(ImportWarning)\u001b[0m\n",
            "WARNING:py.warnings:<frozen importlib._bootstrap>:914: ImportWarning: _AltairImportHook.find_spec() not found; falling back to find_module()\n",
            "\n",
            "\u001b[1;33m[WARNING]: \u001b[0m\u001b[0;39mAPICoreClientInfoImportHook.find_spec() not found; falling back to find_module()\u001b[0m \u001b[0;36m(ImportWarning)\u001b[0m\n",
            "WARNING:py.warnings:<frozen importlib._bootstrap>:914: ImportWarning: APICoreClientInfoImportHook.find_spec() not found; falling back to find_module()\n",
            "\n",
            "\u001b[1;33m[WARNING]: \u001b[0m\u001b[0;39m_PyDriveImportHook.find_spec() not found; falling back to find_module()\u001b[0m \u001b[0;36m(ImportWarning)\u001b[0m\n",
            "WARNING:py.warnings:<frozen importlib._bootstrap>:914: ImportWarning: _PyDriveImportHook.find_spec() not found; falling back to find_module()\n",
            "\n",
            "\u001b[1;33m[WARNING]: \u001b[0m\u001b[0;39m_OpenCVImportHook.find_spec() not found; falling back to find_module()\u001b[0m \u001b[0;36m(ImportWarning)\u001b[0m\n",
            "WARNING:py.warnings:<frozen importlib._bootstrap>:914: ImportWarning: _OpenCVImportHook.find_spec() not found; falling back to find_module()\n",
            "\n",
            "\u001b[1;33m[WARNING]: \u001b[0m\u001b[0;39m_BokehImportHook.find_spec() not found; falling back to find_module()\u001b[0m \u001b[0;36m(ImportWarning)\u001b[0m\n",
            "WARNING:py.warnings:<frozen importlib._bootstrap>:914: ImportWarning: _BokehImportHook.find_spec() not found; falling back to find_module()\n",
            "\n",
            "\u001b[1;33m[WARNING]: \u001b[0m\u001b[0;39m_AltairImportHook.find_spec() not found; falling back to find_module()\u001b[0m \u001b[0;36m(ImportWarning)\u001b[0m\n",
            "WARNING:py.warnings:<frozen importlib._bootstrap>:914: ImportWarning: _AltairImportHook.find_spec() not found; falling back to find_module()\n",
            "\n",
            "\u001b[1;33m[WARNING]: \u001b[0m\u001b[0;39mAPICoreClientInfoImportHook.find_spec() not found; falling back to find_module()\u001b[0m \u001b[0;36m(ImportWarning)\u001b[0m\n",
            "WARNING:py.warnings:<frozen importlib._bootstrap>:914: ImportWarning: APICoreClientInfoImportHook.find_spec() not found; falling back to find_module()\n",
            "\n",
            "\u001b[1;33m[WARNING]: \u001b[0m\u001b[0;39m_PyDriveImportHook.find_spec() not found; falling back to find_module()\u001b[0m \u001b[0;36m(ImportWarning)\u001b[0m\n",
            "WARNING:py.warnings:<frozen importlib._bootstrap>:914: ImportWarning: _PyDriveImportHook.find_spec() not found; falling back to find_module()\n",
            "\n",
            "\u001b[1;33m[WARNING]: \u001b[0m\u001b[0;39m_OpenCVImportHook.find_spec() not found; falling back to find_module()\u001b[0m \u001b[0;36m(ImportWarning)\u001b[0m\n",
            "WARNING:py.warnings:<frozen importlib._bootstrap>:914: ImportWarning: _OpenCVImportHook.find_spec() not found; falling back to find_module()\n",
            "\n",
            "\u001b[1;33m[WARNING]: \u001b[0m\u001b[0;39m_BokehImportHook.find_spec() not found; falling back to find_module()\u001b[0m \u001b[0;36m(ImportWarning)\u001b[0m\n",
            "WARNING:py.warnings:<frozen importlib._bootstrap>:914: ImportWarning: _BokehImportHook.find_spec() not found; falling back to find_module()\n",
            "\n",
            "\u001b[1;33m[WARNING]: \u001b[0m\u001b[0;39m_AltairImportHook.find_spec() not found; falling back to find_module()\u001b[0m \u001b[0;36m(ImportWarning)\u001b[0m\n",
            "WARNING:py.warnings:<frozen importlib._bootstrap>:914: ImportWarning: _AltairImportHook.find_spec() not found; falling back to find_module()\n",
            "\n",
            "\u001b[1;33m[WARNING]: \u001b[0m\u001b[0;39mAPICoreClientInfoImportHook.find_spec() not found; falling back to find_module()\u001b[0m \u001b[0;36m(ImportWarning)\u001b[0m\n",
            "WARNING:py.warnings:<frozen importlib._bootstrap>:914: ImportWarning: APICoreClientInfoImportHook.find_spec() not found; falling back to find_module()\n",
            "\n",
            "\u001b[1;33m[WARNING]: \u001b[0m\u001b[0;39m_PyDriveImportHook.find_spec() not found; falling back to find_module()\u001b[0m \u001b[0;36m(ImportWarning)\u001b[0m\n",
            "WARNING:py.warnings:<frozen importlib._bootstrap>:914: ImportWarning: _PyDriveImportHook.find_spec() not found; falling back to find_module()\n",
            "\n",
            "\u001b[1;33m[WARNING]: \u001b[0m\u001b[0;39m_OpenCVImportHook.find_spec() not found; falling back to find_module()\u001b[0m \u001b[0;36m(ImportWarning)\u001b[0m\n",
            "WARNING:py.warnings:<frozen importlib._bootstrap>:914: ImportWarning: _OpenCVImportHook.find_spec() not found; falling back to find_module()\n",
            "\n",
            "\u001b[1;33m[WARNING]: \u001b[0m\u001b[0;39m_BokehImportHook.find_spec() not found; falling back to find_module()\u001b[0m \u001b[0;36m(ImportWarning)\u001b[0m\n",
            "WARNING:py.warnings:<frozen importlib._bootstrap>:914: ImportWarning: _BokehImportHook.find_spec() not found; falling back to find_module()\n",
            "\n",
            "\u001b[1;33m[WARNING]: \u001b[0m\u001b[0;39m_AltairImportHook.find_spec() not found; falling back to find_module()\u001b[0m \u001b[0;36m(ImportWarning)\u001b[0m\n",
            "WARNING:py.warnings:<frozen importlib._bootstrap>:914: ImportWarning: _AltairImportHook.find_spec() not found; falling back to find_module()\n",
            "\n",
            "\u001b[1;33m[WARNING]: \u001b[0m\u001b[0;39mAPICoreClientInfoImportHook.find_spec() not found; falling back to find_module()\u001b[0m \u001b[0;36m(ImportWarning)\u001b[0m\n",
            "WARNING:py.warnings:<frozen importlib._bootstrap>:914: ImportWarning: APICoreClientInfoImportHook.find_spec() not found; falling back to find_module()\n",
            "\n",
            "\u001b[1;33m[WARNING]: \u001b[0m\u001b[0;39m_PyDriveImportHook.find_spec() not found; falling back to find_module()\u001b[0m \u001b[0;36m(ImportWarning)\u001b[0m\n",
            "WARNING:py.warnings:<frozen importlib._bootstrap>:914: ImportWarning: _PyDriveImportHook.find_spec() not found; falling back to find_module()\n",
            "\n",
            "\u001b[1;33m[WARNING]: \u001b[0m\u001b[0;39m_OpenCVImportHook.find_spec() not found; falling back to find_module()\u001b[0m \u001b[0;36m(ImportWarning)\u001b[0m\n",
            "WARNING:py.warnings:<frozen importlib._bootstrap>:914: ImportWarning: _OpenCVImportHook.find_spec() not found; falling back to find_module()\n",
            "\n",
            "\u001b[1;33m[WARNING]: \u001b[0m\u001b[0;39m_BokehImportHook.find_spec() not found; falling back to find_module()\u001b[0m \u001b[0;36m(ImportWarning)\u001b[0m\n",
            "WARNING:py.warnings:<frozen importlib._bootstrap>:914: ImportWarning: _BokehImportHook.find_spec() not found; falling back to find_module()\n",
            "\n",
            "\u001b[1;33m[WARNING]: \u001b[0m\u001b[0;39m_AltairImportHook.find_spec() not found; falling back to find_module()\u001b[0m \u001b[0;36m(ImportWarning)\u001b[0m\n",
            "WARNING:py.warnings:<frozen importlib._bootstrap>:914: ImportWarning: _AltairImportHook.find_spec() not found; falling back to find_module()\n",
            "\n",
            "\u001b[1;33m[WARNING]: \u001b[0m\u001b[0;39mAPICoreClientInfoImportHook.find_spec() not found; falling back to find_module()\u001b[0m \u001b[0;36m(ImportWarning)\u001b[0m\n",
            "WARNING:py.warnings:<frozen importlib._bootstrap>:914: ImportWarning: APICoreClientInfoImportHook.find_spec() not found; falling back to find_module()\n",
            "\n",
            "\u001b[1;33m[WARNING]: \u001b[0m\u001b[0;39m_PyDriveImportHook.find_spec() not found; falling back to find_module()\u001b[0m \u001b[0;36m(ImportWarning)\u001b[0m\n",
            "WARNING:py.warnings:<frozen importlib._bootstrap>:914: ImportWarning: _PyDriveImportHook.find_spec() not found; falling back to find_module()\n",
            "\n",
            "\u001b[1;33m[WARNING]: \u001b[0m\u001b[0;39m_OpenCVImportHook.find_spec() not found; falling back to find_module()\u001b[0m \u001b[0;36m(ImportWarning)\u001b[0m\n",
            "WARNING:py.warnings:<frozen importlib._bootstrap>:914: ImportWarning: _OpenCVImportHook.find_spec() not found; falling back to find_module()\n",
            "\n",
            "\u001b[1;33m[WARNING]: \u001b[0m\u001b[0;39m_BokehImportHook.find_spec() not found; falling back to find_module()\u001b[0m \u001b[0;36m(ImportWarning)\u001b[0m\n",
            "WARNING:py.warnings:<frozen importlib._bootstrap>:914: ImportWarning: _BokehImportHook.find_spec() not found; falling back to find_module()\n",
            "\n",
            "\u001b[1;33m[WARNING]: \u001b[0m\u001b[0;39m_AltairImportHook.find_spec() not found; falling back to find_module()\u001b[0m \u001b[0;36m(ImportWarning)\u001b[0m\n",
            "WARNING:py.warnings:<frozen importlib._bootstrap>:914: ImportWarning: _AltairImportHook.find_spec() not found; falling back to find_module()\n",
            "\n",
            "\u001b[1;33m[WARNING]: \u001b[0m\u001b[0;39mAPICoreClientInfoImportHook.find_spec() not found; falling back to find_module()\u001b[0m \u001b[0;36m(ImportWarning)\u001b[0m\n",
            "WARNING:py.warnings:<frozen importlib._bootstrap>:914: ImportWarning: APICoreClientInfoImportHook.find_spec() not found; falling back to find_module()\n",
            "\n",
            "\u001b[1;33m[WARNING]: \u001b[0m\u001b[0;39m_PyDriveImportHook.find_spec() not found; falling back to find_module()\u001b[0m \u001b[0;36m(ImportWarning)\u001b[0m\n",
            "WARNING:py.warnings:<frozen importlib._bootstrap>:914: ImportWarning: _PyDriveImportHook.find_spec() not found; falling back to find_module()\n",
            "\n",
            "\u001b[1;33m[WARNING]: \u001b[0m\u001b[0;39m_OpenCVImportHook.find_spec() not found; falling back to find_module()\u001b[0m \u001b[0;36m(ImportWarning)\u001b[0m\n",
            "WARNING:py.warnings:<frozen importlib._bootstrap>:914: ImportWarning: _OpenCVImportHook.find_spec() not found; falling back to find_module()\n",
            "\n",
            "\u001b[1;33m[WARNING]: \u001b[0m\u001b[0;39m_BokehImportHook.find_spec() not found; falling back to find_module()\u001b[0m \u001b[0;36m(ImportWarning)\u001b[0m\n",
            "WARNING:py.warnings:<frozen importlib._bootstrap>:914: ImportWarning: _BokehImportHook.find_spec() not found; falling back to find_module()\n",
            "\n",
            "\u001b[1;33m[WARNING]: \u001b[0m\u001b[0;39m_AltairImportHook.find_spec() not found; falling back to find_module()\u001b[0m \u001b[0;36m(ImportWarning)\u001b[0m\n",
            "WARNING:py.warnings:<frozen importlib._bootstrap>:914: ImportWarning: _AltairImportHook.find_spec() not found; falling back to find_module()\n",
            "\n",
            "\u001b[1;33m[WARNING]: \u001b[0m\u001b[0;39mAPICoreClientInfoImportHook.find_spec() not found; falling back to find_module()\u001b[0m \u001b[0;36m(ImportWarning)\u001b[0m\n",
            "WARNING:py.warnings:<frozen importlib._bootstrap>:914: ImportWarning: APICoreClientInfoImportHook.find_spec() not found; falling back to find_module()\n",
            "\n",
            "\u001b[1;33m[WARNING]: \u001b[0m\u001b[0;39m_PyDriveImportHook.find_spec() not found; falling back to find_module()\u001b[0m \u001b[0;36m(ImportWarning)\u001b[0m\n",
            "WARNING:py.warnings:<frozen importlib._bootstrap>:914: ImportWarning: _PyDriveImportHook.find_spec() not found; falling back to find_module()\n",
            "\n",
            "\u001b[1;33m[WARNING]: \u001b[0m\u001b[0;39m_OpenCVImportHook.find_spec() not found; falling back to find_module()\u001b[0m \u001b[0;36m(ImportWarning)\u001b[0m\n",
            "WARNING:py.warnings:<frozen importlib._bootstrap>:914: ImportWarning: _OpenCVImportHook.find_spec() not found; falling back to find_module()\n",
            "\n",
            "\u001b[1;33m[WARNING]: \u001b[0m\u001b[0;39m_BokehImportHook.find_spec() not found; falling back to find_module()\u001b[0m \u001b[0;36m(ImportWarning)\u001b[0m\n",
            "WARNING:py.warnings:<frozen importlib._bootstrap>:914: ImportWarning: _BokehImportHook.find_spec() not found; falling back to find_module()\n",
            "\n",
            "\u001b[1;33m[WARNING]: \u001b[0m\u001b[0;39m_AltairImportHook.find_spec() not found; falling back to find_module()\u001b[0m \u001b[0;36m(ImportWarning)\u001b[0m\n",
            "WARNING:py.warnings:<frozen importlib._bootstrap>:914: ImportWarning: _AltairImportHook.find_spec() not found; falling back to find_module()\n",
            "\n",
            "\u001b[1;33m[WARNING]: \u001b[0m\u001b[0;39mAPICoreClientInfoImportHook.find_spec() not found; falling back to find_module()\u001b[0m \u001b[0;36m(ImportWarning)\u001b[0m\n",
            "WARNING:py.warnings:<frozen importlib._bootstrap>:914: ImportWarning: APICoreClientInfoImportHook.find_spec() not found; falling back to find_module()\n",
            "\n",
            "\u001b[1;33m[WARNING]: \u001b[0m\u001b[0;39m_PyDriveImportHook.find_spec() not found; falling back to find_module()\u001b[0m \u001b[0;36m(ImportWarning)\u001b[0m\n",
            "WARNING:py.warnings:<frozen importlib._bootstrap>:914: ImportWarning: _PyDriveImportHook.find_spec() not found; falling back to find_module()\n",
            "\n",
            "\u001b[1;33m[WARNING]: \u001b[0m\u001b[0;39m_OpenCVImportHook.find_spec() not found; falling back to find_module()\u001b[0m \u001b[0;36m(ImportWarning)\u001b[0m\n",
            "WARNING:py.warnings:<frozen importlib._bootstrap>:914: ImportWarning: _OpenCVImportHook.find_spec() not found; falling back to find_module()\n",
            "\n",
            "\u001b[1;33m[WARNING]: \u001b[0m\u001b[0;39m_BokehImportHook.find_spec() not found; falling back to find_module()\u001b[0m \u001b[0;36m(ImportWarning)\u001b[0m\n",
            "WARNING:py.warnings:<frozen importlib._bootstrap>:914: ImportWarning: _BokehImportHook.find_spec() not found; falling back to find_module()\n",
            "\n",
            "\u001b[1;33m[WARNING]: \u001b[0m\u001b[0;39m_AltairImportHook.find_spec() not found; falling back to find_module()\u001b[0m \u001b[0;36m(ImportWarning)\u001b[0m\n",
            "WARNING:py.warnings:<frozen importlib._bootstrap>:914: ImportWarning: _AltairImportHook.find_spec() not found; falling back to find_module()\n",
            "\n",
            "\u001b[1;33m[WARNING]: \u001b[0m\u001b[0;39m`photutils.Aperture` is a deprecated alias for `photutils.aperture.Aperture` and will be removed in the future. Instead, please use `from photutils.aperture import Aperture` to silence this warning.\u001b[0m \u001b[0;36m(DeprecationWarning)\u001b[0m\n",
            "WARNING:py.warnings:/usr/local/lib/python3.10/dist-packages/marvin/tools/mixins/aperture.py:26: DeprecationWarning: `photutils.Aperture` is a deprecated alias for `photutils.aperture.Aperture` and will be removed in the future. Instead, please use `from photutils.aperture import Aperture` to silence this warning.\n",
            "  class MarvinAperture(photutils.Aperture if photutils else object):\n",
            "\n",
            "\u001b[1;33m[WARNING]: \u001b[0m\u001b[0;39mAPICoreClientInfoImportHook.find_spec() not found; falling back to find_module()\u001b[0m \u001b[0;36m(ImportWarning)\u001b[0m\n",
            "WARNING:py.warnings:<frozen importlib._bootstrap>:914: ImportWarning: APICoreClientInfoImportHook.find_spec() not found; falling back to find_module()\n",
            "\n",
            "\u001b[1;33m[WARNING]: \u001b[0m\u001b[0;39m_PyDriveImportHook.find_spec() not found; falling back to find_module()\u001b[0m \u001b[0;36m(ImportWarning)\u001b[0m\n",
            "WARNING:py.warnings:<frozen importlib._bootstrap>:914: ImportWarning: _PyDriveImportHook.find_spec() not found; falling back to find_module()\n",
            "\n",
            "\u001b[1;33m[WARNING]: \u001b[0m\u001b[0;39m_OpenCVImportHook.find_spec() not found; falling back to find_module()\u001b[0m \u001b[0;36m(ImportWarning)\u001b[0m\n",
            "WARNING:py.warnings:<frozen importlib._bootstrap>:914: ImportWarning: _OpenCVImportHook.find_spec() not found; falling back to find_module()\n",
            "\n",
            "\u001b[1;33m[WARNING]: \u001b[0m\u001b[0;39m_BokehImportHook.find_spec() not found; falling back to find_module()\u001b[0m \u001b[0;36m(ImportWarning)\u001b[0m\n",
            "WARNING:py.warnings:<frozen importlib._bootstrap>:914: ImportWarning: _BokehImportHook.find_spec() not found; falling back to find_module()\n",
            "\n",
            "\u001b[1;33m[WARNING]: \u001b[0m\u001b[0;39m_AltairImportHook.find_spec() not found; falling back to find_module()\u001b[0m \u001b[0;36m(ImportWarning)\u001b[0m\n",
            "WARNING:py.warnings:<frozen importlib._bootstrap>:914: ImportWarning: _AltairImportHook.find_spec() not found; falling back to find_module()\n",
            "\n",
            "\u001b[1;33m[WARNING]: \u001b[0m\u001b[0;39mAPICoreClientInfoImportHook.find_spec() not found; falling back to find_module()\u001b[0m \u001b[0;36m(ImportWarning)\u001b[0m\n",
            "WARNING:py.warnings:<frozen importlib._bootstrap>:914: ImportWarning: APICoreClientInfoImportHook.find_spec() not found; falling back to find_module()\n",
            "\n",
            "\u001b[1;33m[WARNING]: \u001b[0m\u001b[0;39m_PyDriveImportHook.find_spec() not found; falling back to find_module()\u001b[0m \u001b[0;36m(ImportWarning)\u001b[0m\n",
            "WARNING:py.warnings:<frozen importlib._bootstrap>:914: ImportWarning: _PyDriveImportHook.find_spec() not found; falling back to find_module()\n",
            "\n",
            "\u001b[1;33m[WARNING]: \u001b[0m\u001b[0;39m_OpenCVImportHook.find_spec() not found; falling back to find_module()\u001b[0m \u001b[0;36m(ImportWarning)\u001b[0m\n",
            "WARNING:py.warnings:<frozen importlib._bootstrap>:914: ImportWarning: _OpenCVImportHook.find_spec() not found; falling back to find_module()\n",
            "\n",
            "\u001b[1;33m[WARNING]: \u001b[0m\u001b[0;39m_BokehImportHook.find_spec() not found; falling back to find_module()\u001b[0m \u001b[0;36m(ImportWarning)\u001b[0m\n",
            "WARNING:py.warnings:<frozen importlib._bootstrap>:914: ImportWarning: _BokehImportHook.find_spec() not found; falling back to find_module()\n",
            "\n",
            "\u001b[1;33m[WARNING]: \u001b[0m\u001b[0;39m_AltairImportHook.find_spec() not found; falling back to find_module()\u001b[0m \u001b[0;36m(ImportWarning)\u001b[0m\n",
            "WARNING:py.warnings:<frozen importlib._bootstrap>:914: ImportWarning: _AltairImportHook.find_spec() not found; falling back to find_module()\n",
            "\n",
            "\u001b[1;33m[WARNING]: \u001b[0m\u001b[0;39mAPICoreClientInfoImportHook.find_spec() not found; falling back to find_module()\u001b[0m \u001b[0;36m(ImportWarning)\u001b[0m\n",
            "WARNING:py.warnings:<frozen importlib._bootstrap>:914: ImportWarning: APICoreClientInfoImportHook.find_spec() not found; falling back to find_module()\n",
            "\n",
            "\u001b[1;33m[WARNING]: \u001b[0m\u001b[0;39m_PyDriveImportHook.find_spec() not found; falling back to find_module()\u001b[0m \u001b[0;36m(ImportWarning)\u001b[0m\n",
            "WARNING:py.warnings:<frozen importlib._bootstrap>:914: ImportWarning: _PyDriveImportHook.find_spec() not found; falling back to find_module()\n",
            "\n",
            "\u001b[1;33m[WARNING]: \u001b[0m\u001b[0;39m_OpenCVImportHook.find_spec() not found; falling back to find_module()\u001b[0m \u001b[0;36m(ImportWarning)\u001b[0m\n",
            "WARNING:py.warnings:<frozen importlib._bootstrap>:914: ImportWarning: _OpenCVImportHook.find_spec() not found; falling back to find_module()\n",
            "\n",
            "\u001b[1;33m[WARNING]: \u001b[0m\u001b[0;39m_BokehImportHook.find_spec() not found; falling back to find_module()\u001b[0m \u001b[0;36m(ImportWarning)\u001b[0m\n",
            "WARNING:py.warnings:<frozen importlib._bootstrap>:914: ImportWarning: _BokehImportHook.find_spec() not found; falling back to find_module()\n",
            "\n",
            "\u001b[1;33m[WARNING]: \u001b[0m\u001b[0;39m_AltairImportHook.find_spec() not found; falling back to find_module()\u001b[0m \u001b[0;36m(ImportWarning)\u001b[0m\n",
            "WARNING:py.warnings:<frozen importlib._bootstrap>:914: ImportWarning: _AltairImportHook.find_spec() not found; falling back to find_module()\n",
            "\n",
            "\u001b[1;33m[WARNING]: \u001b[0m\u001b[0;39mAPICoreClientInfoImportHook.find_spec() not found; falling back to find_module()\u001b[0m \u001b[0;36m(ImportWarning)\u001b[0m\n",
            "WARNING:py.warnings:<frozen importlib._bootstrap>:914: ImportWarning: APICoreClientInfoImportHook.find_spec() not found; falling back to find_module()\n",
            "\n",
            "\u001b[1;33m[WARNING]: \u001b[0m\u001b[0;39m_PyDriveImportHook.find_spec() not found; falling back to find_module()\u001b[0m \u001b[0;36m(ImportWarning)\u001b[0m\n",
            "WARNING:py.warnings:<frozen importlib._bootstrap>:914: ImportWarning: _PyDriveImportHook.find_spec() not found; falling back to find_module()\n",
            "\n",
            "\u001b[1;33m[WARNING]: \u001b[0m\u001b[0;39m_OpenCVImportHook.find_spec() not found; falling back to find_module()\u001b[0m \u001b[0;36m(ImportWarning)\u001b[0m\n",
            "WARNING:py.warnings:<frozen importlib._bootstrap>:914: ImportWarning: _OpenCVImportHook.find_spec() not found; falling back to find_module()\n",
            "\n",
            "\u001b[1;33m[WARNING]: \u001b[0m\u001b[0;39m_BokehImportHook.find_spec() not found; falling back to find_module()\u001b[0m \u001b[0;36m(ImportWarning)\u001b[0m\n",
            "WARNING:py.warnings:<frozen importlib._bootstrap>:914: ImportWarning: _BokehImportHook.find_spec() not found; falling back to find_module()\n",
            "\n",
            "\u001b[1;33m[WARNING]: \u001b[0m\u001b[0;39m_AltairImportHook.find_spec() not found; falling back to find_module()\u001b[0m \u001b[0;36m(ImportWarning)\u001b[0m\n",
            "WARNING:py.warnings:<frozen importlib._bootstrap>:914: ImportWarning: _AltairImportHook.find_spec() not found; falling back to find_module()\n",
            "\n",
            "\u001b[1;33m[WARNING]: \u001b[0m\u001b[0;39mAPICoreClientInfoImportHook.find_spec() not found; falling back to find_module()\u001b[0m \u001b[0;36m(ImportWarning)\u001b[0m\n",
            "WARNING:py.warnings:<frozen importlib._bootstrap>:914: ImportWarning: APICoreClientInfoImportHook.find_spec() not found; falling back to find_module()\n",
            "\n",
            "\u001b[1;33m[WARNING]: \u001b[0m\u001b[0;39m_PyDriveImportHook.find_spec() not found; falling back to find_module()\u001b[0m \u001b[0;36m(ImportWarning)\u001b[0m\n",
            "WARNING:py.warnings:<frozen importlib._bootstrap>:914: ImportWarning: _PyDriveImportHook.find_spec() not found; falling back to find_module()\n",
            "\n",
            "\u001b[1;33m[WARNING]: \u001b[0m\u001b[0;39m_OpenCVImportHook.find_spec() not found; falling back to find_module()\u001b[0m \u001b[0;36m(ImportWarning)\u001b[0m\n",
            "WARNING:py.warnings:<frozen importlib._bootstrap>:914: ImportWarning: _OpenCVImportHook.find_spec() not found; falling back to find_module()\n",
            "\n",
            "\u001b[1;33m[WARNING]: \u001b[0m\u001b[0;39m_BokehImportHook.find_spec() not found; falling back to find_module()\u001b[0m \u001b[0;36m(ImportWarning)\u001b[0m\n",
            "WARNING:py.warnings:<frozen importlib._bootstrap>:914: ImportWarning: _BokehImportHook.find_spec() not found; falling back to find_module()\n",
            "\n",
            "\u001b[1;33m[WARNING]: \u001b[0m\u001b[0;39m_AltairImportHook.find_spec() not found; falling back to find_module()\u001b[0m \u001b[0;36m(ImportWarning)\u001b[0m\n",
            "WARNING:py.warnings:<frozen importlib._bootstrap>:914: ImportWarning: _AltairImportHook.find_spec() not found; falling back to find_module()\n",
            "\n",
            "\u001b[1;33m[WARNING]: \u001b[0m\u001b[0;39mAPICoreClientInfoImportHook.find_spec() not found; falling back to find_module()\u001b[0m \u001b[0;36m(ImportWarning)\u001b[0m\n",
            "WARNING:py.warnings:<frozen importlib._bootstrap>:914: ImportWarning: APICoreClientInfoImportHook.find_spec() not found; falling back to find_module()\n",
            "\n",
            "\u001b[1;33m[WARNING]: \u001b[0m\u001b[0;39m_PyDriveImportHook.find_spec() not found; falling back to find_module()\u001b[0m \u001b[0;36m(ImportWarning)\u001b[0m\n",
            "WARNING:py.warnings:<frozen importlib._bootstrap>:914: ImportWarning: _PyDriveImportHook.find_spec() not found; falling back to find_module()\n",
            "\n",
            "\u001b[1;33m[WARNING]: \u001b[0m\u001b[0;39m_OpenCVImportHook.find_spec() not found; falling back to find_module()\u001b[0m \u001b[0;36m(ImportWarning)\u001b[0m\n",
            "WARNING:py.warnings:<frozen importlib._bootstrap>:914: ImportWarning: _OpenCVImportHook.find_spec() not found; falling back to find_module()\n",
            "\n",
            "\u001b[1;33m[WARNING]: \u001b[0m\u001b[0;39m_BokehImportHook.find_spec() not found; falling back to find_module()\u001b[0m \u001b[0;36m(ImportWarning)\u001b[0m\n",
            "WARNING:py.warnings:<frozen importlib._bootstrap>:914: ImportWarning: _BokehImportHook.find_spec() not found; falling back to find_module()\n",
            "\n",
            "\u001b[1;33m[WARNING]: \u001b[0m\u001b[0;39m_AltairImportHook.find_spec() not found; falling back to find_module()\u001b[0m \u001b[0;36m(ImportWarning)\u001b[0m\n",
            "WARNING:py.warnings:<frozen importlib._bootstrap>:914: ImportWarning: _AltairImportHook.find_spec() not found; falling back to find_module()\n",
            "\n",
            "\u001b[1;33m[WARNING]: \u001b[0m\u001b[0;39mAPICoreClientInfoImportHook.find_spec() not found; falling back to find_module()\u001b[0m \u001b[0;36m(ImportWarning)\u001b[0m\n",
            "WARNING:py.warnings:<frozen importlib._bootstrap>:914: ImportWarning: APICoreClientInfoImportHook.find_spec() not found; falling back to find_module()\n",
            "\n",
            "\u001b[1;33m[WARNING]: \u001b[0m\u001b[0;39m_PyDriveImportHook.find_spec() not found; falling back to find_module()\u001b[0m \u001b[0;36m(ImportWarning)\u001b[0m\n",
            "WARNING:py.warnings:<frozen importlib._bootstrap>:914: ImportWarning: _PyDriveImportHook.find_spec() not found; falling back to find_module()\n",
            "\n",
            "\u001b[1;33m[WARNING]: \u001b[0m\u001b[0;39m_OpenCVImportHook.find_spec() not found; falling back to find_module()\u001b[0m \u001b[0;36m(ImportWarning)\u001b[0m\n",
            "WARNING:py.warnings:<frozen importlib._bootstrap>:914: ImportWarning: _OpenCVImportHook.find_spec() not found; falling back to find_module()\n",
            "\n",
            "\u001b[1;33m[WARNING]: \u001b[0m\u001b[0;39m_BokehImportHook.find_spec() not found; falling back to find_module()\u001b[0m \u001b[0;36m(ImportWarning)\u001b[0m\n",
            "WARNING:py.warnings:<frozen importlib._bootstrap>:914: ImportWarning: _BokehImportHook.find_spec() not found; falling back to find_module()\n",
            "\n",
            "\u001b[1;33m[WARNING]: \u001b[0m\u001b[0;39m_AltairImportHook.find_spec() not found; falling back to find_module()\u001b[0m \u001b[0;36m(ImportWarning)\u001b[0m\n",
            "WARNING:py.warnings:<frozen importlib._bootstrap>:914: ImportWarning: _AltairImportHook.find_spec() not found; falling back to find_module()\n",
            "\n"
          ]
        }
      ],
      "source": [
        "from matplotlib import pyplot as plt\n",
        "from matplotlib import colors\n",
        "import seaborn as sb\n",
        "import matplotlib\n",
        "import numpy as np\n",
        "from matplotlib import gridspec\n",
        "import pandas as pd\n",
        "import marvin.utils.plot.colorbar as colorbar\n",
        "from matplotlib.colors import ListedColormap\n",
        "from IPython.display import clear_output\n",
        "import photutils as phot\n",
        "from photutils import isophote as iso\n",
        "import os\n",
        "import json\n",
        "\n",
        "\n",
        "from marvin.tools.maps import Maps\n",
        "import marvin.utils.plot.map as mapplot\n",
        "from astropy.table import Table, join\n",
        "import astropy.units as u\n",
        "from astropy.io import ascii\n",
        "from astropy.modeling import models,fitting\n",
        "from scipy.interpolate import griddata\n",
        "from astropy.cosmology import WMAP9 as cosmo\n",
        "from astropy.cosmology import Planck15\n",
        "from photutils import aperture as aper\n",
        "from astropy.coordinates import SkyCoord\n",
        "\n",
        "from matplotlib.ticker import (MultipleLocator, AutoMinorLocator)\n",
        "from astropy.wcs import WCS\n",
        "\n",
        "import photutils as phot\n",
        "from photutils.segmentation import SourceCatalog, deblend_sources, detect_sources\n",
        "\n",
        "from pafit import fit_kinematic_pa as paf\n",
        "\n",
        "matplotlib.rcParams['figure.figsize']=(10,10)\n",
        "matplotlib.rcParams['font.size']= 20\n",
        "\n",
        "sb.set_style('white')"
      ]
    },
    {
      "cell_type": "code",
      "execution_count": 4,
      "metadata": {
        "colab": {
          "base_uri": "https://localhost:8080/"
        },
        "id": "u1O-xtzxDiCi",
        "outputId": "95bdff34-a1ec-4873-b40c-6a5da0628d86"
      },
      "outputs": [
        {
          "output_type": "stream",
          "name": "stderr",
          "text": [
            "\u001b[1;33m[WARNING]: \u001b[0m\u001b[0;39mpath /root/sas/dr17/manga/spectro/redux/v3_1_1/drpall-v3_1_1.fits cannot be found. Setting drpall to None.\u001b[0m \u001b[0;36m(MarvinUserWarning)\u001b[0m\n",
            "WARNING:py.warnings:/usr/local/lib/python3.10/dist-packages/marvin/__init__.py:387: MarvinUserWarning: path /root/sas/dr17/manga/spectro/redux/v3_1_1/drpall-v3_1_1.fits cannot be found. Setting drpall to None.\n",
            "  warnings.warn('path {0} cannot be found. Setting drpall to None.'\n",
            "\n",
            "\u001b[1;33m[WARNING]: \u001b[0m\u001b[0;39mpath /root/sas/dr17/manga/spectro/analysis/v3_1_1/3.1.0/dapall-v3_1_1-3.1.0.fits cannot be found. Setting dapall to None.\u001b[0m \u001b[0;36m(MarvinUserWarning)\u001b[0m\n",
            "WARNING:py.warnings:/usr/local/lib/python3.10/dist-packages/marvin/__init__.py:400: MarvinUserWarning: path /root/sas/dr17/manga/spectro/analysis/v3_1_1/3.1.0/dapall-v3_1_1-3.1.0.fits cannot be found. Setting dapall to None.\n",
            "  warnings.warn('path {0} cannot be found. Setting dapall to None.'\n",
            "\n"
          ]
        }
      ],
      "source": [
        "from marvin import config\n",
        "# set the release\n",
        "config.setRelease(\"DR17\")"
      ]
    },
    {
      "cell_type": "code",
      "execution_count": 5,
      "metadata": {
        "id": "aKPCOABb_7_7"
      },
      "outputs": [],
      "source": [
        "class Cutout_L(object):\n",
        "    \"\"\" A Generic SDSS Cutout Image\n",
        "\n",
        "    Tool which allows to generate an image using the SDSS Skyserver\n",
        "    Image Cutout service.  See http://skyserver.sdss.org/public/en/help/docs/api.aspx#imgcutout\n",
        "    for details.\n",
        "\n",
        "    Parameters:\n",
        "        ra (float):\n",
        "            The central Right Ascension of the cutout\n",
        "        dec (float):\n",
        "            The central Declination of the cutout\n",
        "        width (int):\n",
        "           width of cutout in arcsec\n",
        "        height (int):\n",
        "            height in cutout in arcsec\n",
        "        scale (float):\n",
        "            pixel scale in arcsec/pixel.  Default is 0.262 \"/pix.\n",
        "\n",
        "    Attributes:\n",
        "        rawurl (str):\n",
        "            The raw url of the cutout\n",
        "        wcs (WCS):\n",
        "            The WCS of the generated image\n",
        "        image (PIL.Image):\n",
        "            The cutout image object\n",
        "        size (int):\n",
        "            The image size in arcsec\n",
        "        size_pix (int):\n",
        "            The image size in pixels\n",
        "        center (tuple):\n",
        "            The image center RA, Dec\n",
        "\n",
        "    \"\"\"\n",
        "\n",
        "    def __init__(self, ra, dec, width, height, layers=None, scale=None, **kwargs):\n",
        "        self.rawurl = (\"https://www.legacysurvey.org/viewer/jpeg-cutout?ra={ra}&dec={dec}&pixscale={scale}&width={width_pix}&height={height_pix}&layer={layers}&bands=grz\")\n",
        "        self.ra = ra\n",
        "        self.dec = dec\n",
        "        self.scale = scale or 0.27  # default arcsec/pixel\n",
        "        self.image = None\n",
        "        self.layers = 'dr8-resid' if layers=='residual' else 'dr8'\n",
        "        self.center = np.array([ra, dec])\n",
        "        self.size   = np.array([width, height], dtype=int)\n",
        "        self.coords = {'ra': ra, 'dec': dec,\n",
        "                       'width': width, 'height': height,\n",
        "                       'scale': self.scale\n",
        "                      ,'layers':self.layers}\n",
        "        self._get_pix_size()\n",
        "        if np.max(self.size_pix) >= 2048:\n",
        "            raise MarvinError('Requested image size is too large. '\n",
        "                              'The Skyserver image cutout can only return a size up to 2048 pixels')\n",
        "\n",
        "        self._define_wcs()\n",
        "        self._get_cutout(**kwargs)\n",
        "\n",
        "    def __repr__(self):\n",
        "        return ('<Cutout (ra={0}, dec={1}, scale={2}, height={3}, '\n",
        "                'width={4})>,layers={5}'.format(self.ra, self.dec, self.scale, *self.size_pix,self.layers))\n",
        "\n",
        "    def _get_pix_size(self):\n",
        "        \"\"\"height,width converted from arcsec->pixels\"\"\"\n",
        "        self.coords['height_pix'] = int(round(self.coords['height'] / self.scale))\n",
        "        self.coords['width_pix'] = int(round(self.coords['width'] / self.scale))\n",
        "        self.size_pix = np.array((self.coords['height_pix'], self.coords['width_pix']))\n",
        "\n",
        "    def _define_wcs(self):\n",
        "        \"\"\"\n",
        "        Given what we know about the scale of the image,\n",
        "        define a nearly-correct world coordinate system to use with it.\n",
        "        \"\"\"\n",
        "        w = WCS(naxis=2)\n",
        "        w.wcs.crpix = self.size_pix / 2\n",
        "        w.wcs.crval = self.center\n",
        "        w.wcs.cd = np.array([[-1, 0], [0, 1]]) * self.scale / 3600.\n",
        "        w.wcs.ctype = ['RA---TAN', 'DEC--TAN']\n",
        "        w.wcs.cunit = ['deg', 'deg']\n",
        "        w.wcs.radesys = 'ICRS'\n",
        "        w.wcs.equinox = 2000.0\n",
        "        self.wcs = w\n",
        "\n",
        "    def _wcs_to_dict(self):\n",
        "        ''' Convert and return the WCS as a dictionary'''\n",
        "        wcshdr = None\n",
        "        if self.wcs:\n",
        "            wcshdr = self.wcs.to_header()\n",
        "            wcshdr = dict(wcshdr)\n",
        "            wcshdr = {key: str(val) for key, val in wcshdr.items()}\n",
        "        return wcshdr\n",
        "\n",
        "    def _make_metadata(self, filetype=None):\n",
        "        ''' Make the meta data for the image '''\n",
        "\n",
        "        if 'png' in filetype:\n",
        "            meta = PIL.PngImagePlugin.PngInfo()\n",
        "        else:\n",
        "            meta = None\n",
        "            warnings.warn('Can only save WCS metadata with PNG filetype', MarvinUserWarning)\n",
        "\n",
        "        if meta:\n",
        "            info = {key: str(val) for key, val in self.image.info.items()}\n",
        "            for row in info:\n",
        "                meta.add_text(row, info[row])\n",
        "\n",
        "        return meta\n",
        "\n",
        "    def _update_info(self):\n",
        "        ''' Update the image info dictionary '''\n",
        "\n",
        "        for key, value in self.image.info.items():\n",
        "            if isinstance(value, tuple):\n",
        "                self.image.info[key] = value[0]\n",
        "\n",
        "        wcsdict = self._wcs_to_dict()\n",
        "        self.image.info = wcsdict\n",
        "        self.image.info.update(self.coords)\n",
        "        self.image.info['wdthpix'] = self.image.info.pop('width_pix')\n",
        "        self.image.info['hghtpix'] = self.image.info.pop('height_pix')\n",
        "\n",
        "    def _add_options(self, **kwargs):\n",
        "\n",
        "        allowed = {'grid': 'G', 'label': 'L', 'photo': 'P', 'spectra': 'S',\n",
        "                   'target': 'T', 'outline': 'O', 'bound': 'B', 'fields': 'F',\n",
        "                   'masks': 'M', 'plates': 'Q', 'invert': 'I'}\n",
        "\n",
        "        opts = []\n",
        "        for key, value in kwargs.items():\n",
        "            assert key in allowed.keys(), 'Cutout keyword must be one of: {0}'.format(allowed.keys())\n",
        "            assert isinstance(value, (bool, type(None))), 'Cutout value can only be a Boolean'\n",
        "            if value:\n",
        "                opts.append(allowed[key])\n",
        "\n",
        "        self.coords['opts'] = ''.join(opts)\n",
        "\n",
        "    def _get_cutout(self, **kwargs):\n",
        "        \"\"\" Gets an image cutout\n",
        "\n",
        "        Get a cutout around a point, centered at some RA, Dec (in decimal\n",
        "        degrees), and spanning width,height (in arcseconds) in size.\n",
        "\n",
        "        Parameters:\n",
        "            kwargs:\n",
        "                Allowed keywords into the SDSS Skyserver Image Cutout\n",
        "\n",
        "        \"\"\"\n",
        "        # add options\n",
        "        self._add_options(**kwargs)\n",
        "        # retrieve the image\n",
        "        url = self.rawurl.format(**self.coords)\n",
        "        response = requests.get(url)\n",
        "        if not response.ok:\n",
        "            print(f\"\\nImage not found for ra = {self.ra}, dec = {self.dec}\\n\" )\n",
        "        else:\n",
        "            base_image = response.content\n",
        "            ioop = stringio if sys.version_info.major == 2 else bytesio\n",
        "            self.image = PIL.Image.open(ioop(base_image))\n",
        "            self._update_info()\n",
        "\n",
        "    def save(self, filename, filetype='png'):\n",
        "        ''' Save the image cutout to a file\n",
        "\n",
        "        If the filetype is PNG, it will also save the WCS and coordinate\n",
        "        information as metadata in the image.\n",
        "\n",
        "        Parameters:\n",
        "            filename (str):\n",
        "                The output filename\n",
        "            filetype (str):\n",
        "                The output file extension\n",
        "        '''\n",
        "\n",
        "        filename, fileext = os.path.splitext(filename)\n",
        "        extlist = ['.png', '.bmp', '.jpg', '.jpeg', '.tiff', '.gif', '.ppm']\n",
        "        assert fileext.lower() in extlist, 'Specified filename not of allowed image type: png, gif, tiff, jpeg, bmp'\n",
        "\n",
        "        meta = self._make_metadata(filetype=filetype)\n",
        "        self.image.save(filename, filetype, pnginfo=meta)\n",
        "\n",
        "    def show(self):\n",
        "        ''' Show the image cutout '''\n",
        "        if self.image:\n",
        "            self.image.show()"
      ]
    },
    {
      "cell_type": "code",
      "execution_count": 8,
      "metadata": {
        "id": "wOd16R9HBNKm"
      },
      "outputs": [],
      "source": [
        "!git clone https://github.com/Jack3690/Kugelblitz/ --quiet"
      ]
    },
    {
      "cell_type": "code",
      "source": [
        "cd /content/Kugelblitz"
      ],
      "metadata": {
        "id": "LLx1VkfmYgD7",
        "outputId": "f0e84dd0-125b-4287-8b0d-4039423fd630",
        "colab": {
          "base_uri": "https://localhost:8080/"
        }
      },
      "execution_count": 9,
      "outputs": [
        {
          "output_type": "stream",
          "name": "stdout",
          "text": [
            "/content/Kugelblitz\n"
          ]
        }
      ]
    },
    {
      "cell_type": "markdown",
      "metadata": {
        "heading_collapsed": "true",
        "id": "VwCtcTgHIdl2",
        "tags": []
      },
      "source": [
        "# **Data: Dusty Galaxies**"
      ]
    },
    {
      "cell_type": "code",
      "execution_count": null,
      "metadata": {
        "tags": [],
        "id": "metyMcvRX8as"
      },
      "outputs": [],
      "source": [
        "df = pd.read_csv('data/dusty_manga_DR17.csv')"
      ]
    },
    {
      "cell_type": "code",
      "source": [
        "for i, row in df.iterrows():\n",
        "  if row['M_halo'] < 0:\n",
        "    row['M_halo'] = '-'\n",
        "  print(f\"{row['MANGAID']} & {row['Z']} & {row['VC_orien']} & {row['VC_morph']} & {row['M_halo']} & {row['Sigma']}\", end=' \\\\\\\\')\n",
        "  print()"
      ],
      "metadata": {
        "id": "LTT_vk4zgJZg",
        "outputId": "2680044c-ed22-4e79-df68-92c61fd37b71",
        "colab": {
          "base_uri": "https://localhost:8080/"
        }
      },
      "execution_count": 21,
      "outputs": [
        {
          "output_type": "stream",
          "name": "stdout",
          "text": [
            "1-44479 & 0.0436444 & 4 & 3 & 12.4648 & 0.24103 \\\\\n",
            "1-604937 & 0.0313725 & 1 & 2 & 12.2916 & 0.256 \\\\\n",
            "1-22876 & 0.0304933 & 3 & 2 & - & 0.02477 \\\\\n",
            "1-24425 & 0.0292576 & 1 & 2 & 11.7473 & 0.85227 \\\\\n",
            "1-612698 & 0.031147812 & 3 & 2 & 12.7257 & 0.35325 \\\\\n",
            "1-77060 & 0.0281608 & 1 & 2 & 11.6979 & 0.02146 \\\\\n",
            "1-122400 & 0.06788276 & 1 & 3 & 13.0648 & 0.56816 \\\\\n",
            "1-93793 & 0.03134 & 1 & 3 & 13.8873 & 1.4774 \\\\\n",
            "1-180028 & 0.0182092 & 1 & 2 & 11.4649 & -999.0 \\\\\n",
            "1-36878 & 0.0231851 & 1 & 2 & 13.003 & 0.87852 \\\\\n",
            "1-37727 & 0.0282047 & 1 & 3 & 11.7752 & 0.17723 \\\\\n",
            "1-36420 & 0.0543646 & 1 & 2 & 13.1389 & 0.52142 \\\\\n",
            "1-35876 & 0.0416338 & 1 & 2 & - & 0.91092 \\\\\n",
            "1-137844 & 0.0323374 & 1 & 2 & 13.4854 & 0.57957 \\\\\n",
            "1-138034 & 0.027267 & 1 & 3 & 12.1615 & 0.16787 \\\\\n",
            "1-149621 & 0.0270052 & 1 & 2 & 11.7876 & 0.36989 \\\\\n",
            "1-164052 & 0.0273569 & 1 & 2 & 11.9298 & 0.54284 \\\\\n",
            "1-164077 & 0.0461951 & 1 & 2 & 12.9418 & 0.21533 \\\\\n",
            "1-233983 & 0.057054013 & 3 & 3 & 12.7343 & 0.29901 \\\\\n",
            "1-236144 & 0.0282139 & 1 & 2 & 11.7158 & 0.06421 \\\\\n",
            "1-196497 & 0.064474896 & 1 & 2 & 13.6564 & 0.52469 \\\\\n",
            "1-197264 & 0.0654124 & 1 & 2 & 12.3381 & 0.04386 \\\\\n",
            "1-249083 & 0.03189577 & 3 & 2 & 12.5469 & 1.31518 \\\\\n",
            "1-247861 & 0.036696 & 1 & 3 & 12.7027 & 1.00867 \\\\\n",
            "1-247661 & 0.0396729 & 1 & 3 & 12.1264 & 0.23788 \\\\\n",
            "1-211690 & 0.067390576 & 1 & 3 & 13.0384 & 0.3136 \\\\\n",
            "1-217732 & 0.045241 & 1 & 2 & 12.641 & 0.40976 \\\\\n",
            "1-249049 & 0.031855337 & 3 & 2 & 12.1853 & 0.76677 \\\\\n",
            "1-296457 & 0.0321971 & 1 & 3 & - & 0.59917 \\\\\n",
            "1-633775 & 0.0313743 & 1 & 3 & - & 0.41429 \\\\\n",
            "1-315626 & 0.0601403 & 1 & 2 & 12.5317 & 0.34708 \\\\\n",
            "1-318146 & 0.0418389 & 1 & 1 & - & 0.81159 \\\\\n",
            "1-392649 & 0.0536754 & 1 & 3 & - & 0.3876 \\\\\n",
            "1-401058 & 0.03240522 & 1 & 3 & - & 0.25438 \\\\\n",
            "1-457424 & 0.059427 & 1 & 2 & - & 0.76877 \\\\\n",
            "1-458105 & 0.0368414 & 1 & 3 & - & 0.12679 \\\\\n",
            "1-546819 & 0.0362362 & 3 & 3 & - & -999.0 \\\\\n",
            "1-47136 & 0.0304809 & 1 & 3 & 11.7055 & 0.10545 \\\\\n",
            "1-77933 & 0.022990607 & 4 & 2 & 11.8107 & 0.07784 \\\\\n",
            "1-149454 & 0.0483296 & 1 & 2 & 12.9686 & 0.1881 \\\\\n",
            "1-37440 & 0.0136253 & 1 & 2 & 11.9368 & 0.0 \\\\\n",
            "1-38521 & 0.03707 & 1 & 2 & 12.8183 & 0.02855 \\\\\n",
            "1-38167 & 0.0241663 & 3 & 3 & 12.6788 & 0.00226 \\\\\n",
            "1-300699 & 0.0193122 & 3 & 2 & 11.5834 & 0.0183 \\\\\n",
            "1-252522 & 0.0289716 & 1 & 3 & 12.4202 & 0.62091 \\\\\n",
            "1-313054 & 0.0546177 & 1 & 3 & 12.031 & 0.06024 \\\\\n",
            "1-273092 & 0.033734854 & 4 & 2 & 14.3081 & 0.19472 \\\\\n"
          ]
        }
      ]
    },
    {
      "cell_type": "code",
      "source": [
        "df.keys()"
      ],
      "metadata": {
        "id": "mII4CzY1ZLl3",
        "outputId": "1cce8afa-9741-4c14-965c-0628b3faf1dc",
        "colab": {
          "base_uri": "https://localhost:8080/"
        }
      },
      "execution_count": 15,
      "outputs": [
        {
          "output_type": "execute_result",
          "data": {
            "text/plain": [
              "Index(['VC_orien', 'VC_morph', 'M_halo', 'Sigma', 'PLATEIFU', 'MANGAID',\n",
              "       'OBJRA', 'OBJDEC', 'MNGTARG1', 'MNGTARG3', 'Z', 'NSA_SERSIC_N',\n",
              "       'STELLAR_VEL_LO', 'STELLAR_VEL_HI', 'STELLAR_VEL_LO_CLIP',\n",
              "       'STELLAR_VEL_HI_CLIP', 'HA_Z', 'HA_GVEL_LO', 'HA_GVEL_HI',\n",
              "       'HA_GVEL_LO_CLIP', 'HA_GVEL_HI_CLIP', 'HA_GSIGMA_1RE', 'HA_GSIGMA_HI',\n",
              "       'HA_GSIGMA_HI_CLIP', 'SFR_1RE', 'SFR_TOT'],\n",
              "      dtype='object')"
            ]
          },
          "metadata": {},
          "execution_count": 15
        }
      ]
    },
    {
      "cell_type": "code",
      "source": [],
      "metadata": {
        "id": "01Iu2MbrZLt3"
      },
      "execution_count": null,
      "outputs": []
    },
    {
      "cell_type": "markdown",
      "metadata": {
        "id": "gZoVjMD3IdmM"
      },
      "source": [
        "# **Maps with Matplotlib**"
      ]
    },
    {
      "cell_type": "markdown",
      "metadata": {
        "id": "4EM0MQJVsdaK",
        "jp-MarkdownHeadingCollapsed": true,
        "tags": []
      },
      "source": [
        "## **Utils**"
      ]
    },
    {
      "cell_type": "code",
      "execution_count": null,
      "metadata": {
        "id": "0xVhtH8xIdmM"
      },
      "outputs": [],
      "source": [
        "use_masks = ['NOCOV', 'UNRELIABLE', 'DONOTUSE']\n",
        "def goodspax(dapmap, SNR = 1.0,type=None):\n",
        "    if type==None:\n",
        "        bad_data = dapmap.pixmask.get_mask(use_masks,dtype = bool)\n",
        "        low_snr = dapmap.snr <= SNR\n",
        "        mask = np.logical_or.reduce((bad_data, low_snr))\n",
        "        mask = np.where(mask==True,np.nan,1)\n",
        "\n",
        "    elif type=='vel':\n",
        "\n",
        "        low_snr = dapmap.snr<=SNR\n",
        "        bad_data = dapmap.pixmask.get_mask(use_masks,dtype = bool)\n",
        "        mask = np.logical_or.reduce((bad_data, low_snr))\n",
        "        mask = np.where(mask==True,1e-32,1)\n",
        "\n",
        "    return dapmap.value*mask"
      ]
    },
    {
      "cell_type": "code",
      "execution_count": null,
      "metadata": {
        "id": "aFVgha9AscKM"
      },
      "outputs": [],
      "source": [
        "def aperture_gen(models,angle_scale,len_scale, origin = 'center' , a_offset = 0):\n",
        "    apertures = {}\n",
        "    for i,model in enumerate(models):\n",
        "\n",
        "        X_c = model[f'{i+1}_XC'].split('+')[0]\n",
        "        if '*' in X_c:\n",
        "          print('Error in X_c')\n",
        "          X_c = float(X_c[1:-2])\n",
        "        else:\n",
        "          X_c = float(X_c)\n",
        "        if origin == 'center':\n",
        "          X_c-=64\n",
        "        X_c*=(len_scale/128)\n",
        "\n",
        "        Y_c = model[f'{i+1}_YC'].split('+')[0]\n",
        "        if '*' in Y_c:\n",
        "          print('Error in Y_c')\n",
        "          Y_c = float(Y_c[1:-2])\n",
        "        else:\n",
        "          Y_c = float(Y_c)\n",
        "\n",
        "        if origin == 'center':\n",
        "          Y_c-=64\n",
        "        Y_c*=(len_scale/128)\n",
        "\n",
        "        PA = model[f'{i+1}_PA'].split('+')[0]\n",
        "        if '*' in PA:\n",
        "          print('Error in PA')\n",
        "          PA = float(PA[1:-2])\n",
        "        else:\n",
        "          PA = float(PA)\n",
        "\n",
        "        AR = model[f'{i+1}_AR'].split('+')[0]\n",
        "        if '*' in AR:\n",
        "          print('Error in AR')\n",
        "          AR = float(AR[1:-2])\n",
        "        else:\n",
        "          AR = float(AR)\n",
        "\n",
        "\n",
        "        keys = [i.split('_')[-1] for i in model.keys()]\n",
        "        if'RE' in keys:\n",
        "            RE = model[f'{i+1}_RE'].split('+')[0]\n",
        "            if '*' in RE:\n",
        "                print('Error in X_c')\n",
        "                RE = float(RE[1:-2])\n",
        "            else:\n",
        "                RE = float(RE)\n",
        "\n",
        "        else:\n",
        "            RE = model[f'{i+1}_RS'].split('+')[0]\n",
        "            if '*' in RE:\n",
        "                print('Error in RS')\n",
        "                RE = float(RE[1:-2])\n",
        "            else:\n",
        "                RE = float(RE)\n",
        "\n",
        "        RE*=(0.394) # RE in arcseconds\n",
        "        RE*angle_scale\n",
        "        a = 2*RE\n",
        "        b = AR*a\n",
        "        print(a)\n",
        "        aperture = aper.EllipticalAperture((X_c,Y_c), a,b,\n",
        "                                           theta = np.pi/2 +(PA + a_offset)*np.pi/180)\n",
        "        apertures[f'aper_{i+1}'] = aperture\n",
        "    return apertures"
      ]
    },
    {
      "cell_type": "code",
      "execution_count": null,
      "metadata": {
        "id": "CDqbieHIpjqj"
      },
      "outputs": [],
      "source": [
        "def get_whan(maps):\n",
        "\n",
        "    nii=maps.emli40ne_gflux_nii_6585\n",
        "    ha =maps.emline_gflux_ha_6564\n",
        "    niiha = nii/ha\n",
        "    ewha = maps['emline_sew_ha_6564']\n",
        "    ewnii = maps['emline_sew_nii_6585']\n",
        "    # take the log of the NII/Ha ratio\n",
        "    logniiha = np.log10(niiha.value)\n",
        "\n",
        "    # create the WHAN categories\n",
        "    psf  = (logniiha < -0.4)  & (ewha.value > 3)\n",
        "    sagn = (logniiha > -0.4)  & (ewha.value > 6)\n",
        "    wagn = (logniiha > -0.4)  & ((ewha.value > 3) & (ewha.value < 6))\n",
        "    rg   = ewha.value < 3\n",
        "    pg   = (ewha.value < 0.5) & (ewnii.value < 0.5)\n",
        "\n",
        "    # create a custom array for a WHAN categories (we copy the EW Ha array just to get a 2d-array of the original size)\n",
        "    value = ewha.value.copy()\n",
        "    value[psf]  = 1     # pure star-forming\n",
        "    value[sagn] = 2     # strong agn\n",
        "    value[wagn] = 3     # weak agn\n",
        "    value[rg]   = 4     # retired galaxies\n",
        "    value[pg]   = 5     # passive galaxies\n",
        "\n",
        "    # Set ivar to 0 where the SNR < 1\n",
        "    niiha_low_snr = mapplot.mask_low_snr(niiha.value, niiha.ivar, snr_min=1)\n",
        "    ewha_low_snr = mapplot.mask_low_snr(ewha.value, ewha.ivar, snr_min=1)\n",
        "    ewnii_low_snr = mapplot.mask_low_snr(ewnii.value, ewnii.ivar, snr_min=1)\n",
        "    low_snr = np.logical_or(niiha_low_snr, ewha_low_snr, ewnii_low_snr)\n",
        "\n",
        "    ivar = ewha.value.copy()\n",
        "    ivar[low_snr] = 0\n",
        "    value[low_snr] = np.nan\n",
        "\n",
        "    return value"
      ]
    },
    {
      "cell_type": "markdown",
      "metadata": {
        "id": "1WxDpxW8NnSO",
        "tags": []
      },
      "source": [
        "## **Map Sets 1**"
      ]
    },
    {
      "cell_type": "code",
      "execution_count": null,
      "metadata": {
        "tags": [],
        "id": "-upgyso-X8a7"
      },
      "outputs": [],
      "source": [
        "matplotlib.rcParams['axes.linewidth'] = 3\n",
        "matplotlib.rcParams['font.size'] = 20"
      ]
    },
    {
      "cell_type": "code",
      "execution_count": null,
      "metadata": {
        "tags": [],
        "id": "OXEmRH5xX8a8",
        "outputId": "537aeafd-152d-4153-9d19-d954954897e4"
      },
      "outputs": [
        {
          "data": {
            "text/plain": [
              "[array([False, False, False, False, False, False, False, False, False,\n",
              "        False,  True, False, False, False, False, False, False, False,\n",
              "        False, False, False, False, False, False, False, False, False,\n",
              "        False, False, False, False, False, False, False, False, False,\n",
              "        False, False, False, False, False, False, False, False, False,\n",
              "        False, False])]"
            ]
          },
          "execution_count": 59,
          "metadata": {},
          "output_type": "execute_result"
        }
      ],
      "source": [
        "[df['MANGAID'].values==mangaid]"
      ]
    },
    {
      "cell_type": "code",
      "execution_count": null,
      "metadata": {
        "id": "BVylU-SZONWo",
        "outputId": "02a0cbb3-3d61-41a0-b202-537edb3b1ff8"
      },
      "outputs": [
        {
          "name": "stdout",
          "output_type": "stream",
          "text": [
            "1-44479\n",
            "1-604937\n",
            "1-22876\n",
            "1-24425\n",
            "1-612698\n",
            "1-77060\n",
            "1-122400\n",
            "1-93793\n",
            "1-180028\n",
            "1-36878\n",
            "1-37727\n",
            "1-36420\n",
            "1-35876\n",
            "1-137844\n",
            "1-138034\n",
            "1-149621\n",
            "1-164052\n",
            "1-164077\n",
            "1-233983\n",
            "1-236144\n",
            "1-196497\n",
            "1-197264\n",
            "1-249083\n",
            "1-247861\n",
            "1-247661\n",
            "1-211690\n",
            "1-217732\n",
            "1-249049\n",
            "1-296457\n",
            "1-633775\n",
            "1-315626\n",
            "1-318146\n",
            "1-392649\n",
            "1-401058\n",
            "1-457424\n",
            "1-458105\n"
          ]
        }
      ],
      "source": [
        "for mangaid in df['MANGAID']:\n",
        "    plateifu = df[df['MANGAID']==mangaid]['PLATEIFU'].values[0]\n",
        "    maps = Maps(plateifu=plateifu,mode='remote')\n",
        "    mangaid = maps.mangaid\n",
        "\n",
        "    gs = gridspec.GridSpec(ncols=4, nrows=3, width_ratios = [0.8,1,1,1], wspace=0.0001,hspace=0.1)\n",
        "    fig = plt.figure(figsize = (70,45))\n",
        "\n",
        "    # Set the size of image cutout\n",
        "    scale = maps.wcs.to_header()['PC2_2']*3600\n",
        "    size = 2*maps.wcs.to_header()['CRPIX1']*scale\n",
        "\n",
        "    # Get SDSS Image\n",
        "    optical=maps.getImage()\n",
        "\n",
        "    ax = fig.add_subplot(gs[0,0], projection = optical.wcs)\n",
        "    ax.imshow(optical.data, extent = [-1,1,-1,1])\n",
        "    ax.set_title('SDSS')\n",
        "    ax.annotate(f'{mangaid}', (0.5,0.85), color = 'White', fontsize = 50)\n",
        "    ax.axis('Off')\n",
        "\n",
        "    # Crop Image to match IFU size\n",
        "\n",
        "    optical.get_new_cutout(size,size,size/512)\n",
        "    filter_r=np.rot90(np.array(optical.data)[:,:,0].T )\n",
        "    levels=[60.,  90., 120., 150., 180., 210., 240.]\n",
        "    scale_s = optical.wcs.to_header()['PC2_2']*3600\n",
        "    size_s  = 2*optical.wcs.to_header()['CRPIX1']*scale_s\n",
        "\n",
        "    # Decals\n",
        "    img = Cutout_L(ra = optical.ra, dec = optical.dec, width = size_s, height=size_s, scale = size_s/512 )\n",
        "\n",
        "    ax1 = fig.add_subplot(gs[1,0], projection = img.wcs)\n",
        "    ax1.grid(False)\n",
        "    ax1.imshow(img.image)\n",
        "    optical.overlay_hexagon(ax1, linewidth = 5)\n",
        "    ax1.set_title('DeCals')\n",
        "    ax1.axis('Off')\n",
        "    ax1.grid(False)\n",
        "\n",
        "    # H alpha\n",
        "\n",
        "    ax = fig.add_subplot(gs[0,1], projection=maps.wcs,slices=('x','y',0))\n",
        "    ha = maps.emline_gflux_ha_6564\n",
        "\n",
        "    ax.grid(False)\n",
        "    cbr = mapplot.plot(dapmap=np.log10(ha),return_cbrange=True)\n",
        "\n",
        "    img = ax.imshow((goodspax(ha,SNR = 3)),cmap='plasma')\n",
        "    ax.grid(False)\n",
        "    ax.set_autoscale_on(False)\n",
        "    ax.contour(filter_r, transform=ax.get_transform(optical.wcs), colors='black',levels=levels,zorder=11,\n",
        "              linewidths = 3)\n",
        "    ax.tick_params(which='both', length=15, width = 2,direction=\"in\", labelsize = 1)\n",
        "\n",
        "    ax.set_title(r'$H_{\\alpha}$ Guassian Flux')\n",
        "    ax.set_xlabel(' ')\n",
        "    ax.set_ylabel(' ')\n",
        "\n",
        "    cb=plt.colorbar(img,ax=ax, shrink=1, anchor = (-0.1,0.5))\n",
        "    cb.set_label(r'$1\\times10^{-17}erg.cm^{-2}.s^{-1}$', labelpad = 5, fontsize = 30)\n",
        "    cb.ax.tick_params(labelsize=40)\n",
        "\n",
        "    # BPT\n",
        "    ax4 = fig.add_subplot(gs[0,2],projection=maps.wcs,slices=('x','y',0))\n",
        "    m, f ,a = maps.get_bpt(show_plot=False)\n",
        "\n",
        "    SF   = m['sf']['global'].astype('float64')*5\n",
        "    COMP = m['comp']['global'].astype('float64')*4\n",
        "    LIN  = m['liner']['global'].astype('float64')*3\n",
        "    SEY  = m['seyfert']['global'].astype('float64')*2\n",
        "    AMB  = m['ambiguous']['global'].astype('float64')*1\n",
        "\n",
        "    bpt = SF + COMP + LIN + SEY + AMB\n",
        "\n",
        "    cmap = colors.ListedColormap(['grey','red', 'purple', 'green', 'cyan'])\n",
        "\n",
        "    bpt[bpt==0]=np.nan\n",
        "    img = ax4.imshow(bpt,cmap=cmap,vmin=0.5,vmax=5.5)\n",
        "    ax4.set_autoscale_on(False)\n",
        "    ax4.contour(filter_r, transform=ax4.get_transform(optical.wcs), colors='black',levels=levels,zorder=11,\n",
        "               linewidths = 3)\n",
        "    ax4.tick_params(which='both', length=15, width = 2,direction=\"in\", labelsize = 1)\n",
        "    #ax4.set_title('BPT')\n",
        "    ax4.set_xlabel(' ')\n",
        "    ax4.set_ylabel(' ')\n",
        "\n",
        "    cb=plt.colorbar(img, ax=ax4, shrink=1, anchor = (-0.1,0.5))\n",
        "    cb.set_ticks([1.3, 2.3, 3.3, 4.2, 5])\n",
        "    cb.set_ticklabels(['Unclear','Seyfert','LINER','Comp', 'SF'], rotation = 90,fontsize = 30)\n",
        "    cb.ax.tick_params(labelsize=40)\n",
        "\n",
        "    # WHAN\n",
        "\n",
        "    ax4 = fig.add_subplot(gs[0,3],projection=maps.wcs,slices=('x','y',0))\n",
        "    # WHAN Map\n",
        "\n",
        "    # grab the NII/Ha flux ratio, Ha and NII equivalent width arrays\n",
        "    nii=maps.emli40ne_gflux_nii_6585\n",
        "    ha =maps.emline_gflux_ha_6564\n",
        "    niiha = nii/ha\n",
        "    ewha = maps['emline_sew_ha_6564']\n",
        "    ewnii = maps['emline_sew_nii_6585']\n",
        "    # take the log of the NII/Ha ratio\n",
        "    logniiha = np.log10(niiha.value)\n",
        "\n",
        "    # create the WHAN categories\n",
        "    psf  = (logniiha < -0.4)  & (ewha.value > 3)\n",
        "    sagn = (logniiha > -0.4)  & (ewha.value > 6)\n",
        "    wagn = (logniiha > -0.4)  & ((ewha.value > 3) & (ewha.value < 6))\n",
        "    rg   = ewha.value < 3\n",
        "    pg   = (ewha.value < 0.5) & (ewnii.value < 0.5)\n",
        "\n",
        "    # create a custom array for a WHAN categories (we copy the EW Ha array just to get a 2d-array of the original size)\n",
        "    value = ewha.value.copy()\n",
        "    value[psf]  = 1     # pure star-forming\n",
        "    value[sagn] = 2     # strong agn\n",
        "    value[wagn] = 3     # weak agn\n",
        "    value[rg]   = 4     # retired galaxies\n",
        "    value[pg]   = 5     # passive galaxies\n",
        "\n",
        "    # Set ivar to 0 where the SNR < 1\n",
        "    niiha_low_snr = mapplot.mask_low_snr(niiha.value, niiha.ivar, snr_min=3)\n",
        "    ewha_low_snr = mapplot.mask_low_snr(ewha.value, ewha.ivar, snr_min=3)\n",
        "    ewnii_low_snr = mapplot.mask_low_snr(ewnii.value, ewnii.ivar, snr_min=3)\n",
        "    low_snr = np.logical_or(niiha_low_snr, ewha_low_snr, ewnii_low_snr)\n",
        "\n",
        "    ivar = ewha.value.copy()\n",
        "    ivar[low_snr] = 0\n",
        "    value[low_snr] = np.nan\n",
        "\n",
        "\n",
        "    # WHAN IFU\n",
        "    cmap = colors.ListedColormap(['red', 'blue', 'goldenrod', 'green', 'purple'])\n",
        "    nocov = ewha.pixmask.get_mask('NOCOV',dtype=bool)\n",
        "    mask = np.where(nocov==True,np.nan,1)\n",
        "    img = ax4.imshow(value,cmap=cmap,vmin=0.5,vmax=5.5)\n",
        "    ax4.set_autoscale_on(False)\n",
        "    ax4.contour(filter_r, transform=ax4.get_transform(optical.wcs), colors='black',levels=levels,zorder=11,\n",
        "               linewidths = 3)\n",
        "\n",
        "    ax4.tick_params(which='both', length=15, width = 2,direction=\"in\", labelsize = 1)\n",
        "    #ax4.set_title('WHAN')\n",
        "    ax4.set_xlabel(' ')\n",
        "    ax4.set_ylabel(' ')\n",
        "\n",
        "    cb=plt.colorbar(img,ax=ax4, shrink=1, anchor = (-0.1,0.5))\n",
        "    cb.set_ticks([1, 2, 3, 4, 5])\n",
        "    cb.set_ticklabels(['PSF', 'SAGN', 'WAGN', 'RG', 'PG'], rotation = 90, fontsize=40)\n",
        "    cb.ax.tick_params(labelsize=40)\n",
        "\n",
        "\n",
        "    # Stellar Velocity\n",
        "    vel_sigma = maps.stellar_sigma\n",
        "\n",
        "    ax4 = fig.add_subplot(gs[1,1],projection=maps.wcs,slices=('x','y',0))\n",
        "    ax4.grid(False)\n",
        "    img = ax4.imshow(goodspax(vel_sigma,3) ,cmap='RdBu_r')\n",
        "    ax4.grid(False)\n",
        "    ax4.set_autoscale_on(False)\n",
        "    ax4.contour(filter_r, transform=ax4.get_transform(optical.wcs),\n",
        "                colors='black',levels=levels,zorder=11,\n",
        "                linewidths = 3)\n",
        "\n",
        "    ax4.tick_params(which='both', length=15, width = 2,direction=\"in\", labelsize = 1)\n",
        "    ax4.set_title('Stellar Velocity')\n",
        "    ax4.set_xlabel(' ')\n",
        "    ax4.set_ylabel(' ')\n",
        "\n",
        "    cb=plt.colorbar(img,ax=ax4, shrink=1, anchor = (-0.1,0.5))\n",
        "    cb.ax.tick_params(labelsize=40)\n",
        "\n",
        "     # H alpha Velocity\n",
        "    havel = maps['emline_gvel_ha_6564']\n",
        "\n",
        "    ax4 = fig.add_subplot(gs[1,2],projection=maps.wcs,slices=('x','y',0))\n",
        "    ax4.grid(False)\n",
        "    img = ax4.imshow(goodspax(havel,3) ,cmap='RdBu_r')\n",
        "    ax4.grid(False)\n",
        "    ax4.set_autoscale_on(False)\n",
        "    ax4.contour(filter_r, transform=ax4.get_transform(optical.wcs),\n",
        "                colors='black',levels=levels,zorder=11,\n",
        "                linewidths = 3)\n",
        "\n",
        "    ax4.tick_params(which='both', length=15, width = 2,direction=\"in\", labelsize = 1)\n",
        "    ax4.set_title(r'$H_{\\alpha}$ Velocity')\n",
        "    ax4.set_xlabel(' ')\n",
        "    ax4.set_ylabel(' ')\n",
        "\n",
        "    cb=plt.colorbar(img,ax=ax4, shrink=1, anchor = (-0.1,0.5))\n",
        "    cb.ax.tick_params(labelsize=40)\n",
        "\n",
        "    # [OI] velocity\n",
        "\n",
        "    ovel = maps['emline_gvel_oi_5007']\n",
        "\n",
        "    ax4 = fig.add_subplot(gs[1,3],projection=maps.wcs,slices=('x','y',0))\n",
        "    ax4.grid(False)\n",
        "    img = ax4.imshow(goodspax(ovel,3) ,cmap='RdBu_r')\n",
        "    ax4.grid(False)\n",
        "    ax4.set_autoscale_on(False)\n",
        "    ax4.contour(filter_r, transform=ax4.get_transform(optical.wcs),\n",
        "                colors='black',levels=levels,zorder=11,\n",
        "                linewidths = 3)\n",
        "\n",
        "    ax4.tick_params(which='both', length=15, width = 2,direction=\"in\", labelsize = 1)\n",
        "    ax4.set_title(r'$[OI]$ Velocity')\n",
        "    ax4.set_xlabel(' ')\n",
        "    ax4.set_ylabel(' ')\n",
        "\n",
        "    cb=plt.colorbar(img,ax=ax4, shrink=1, anchor = (-0.1,0.5))\n",
        "    cb.ax.tick_params(labelsize=40)\n",
        "\n",
        "\n",
        "     # OI/ha\n",
        "\n",
        "    oi = maps.emline_gflux_oi_5007\n",
        "\n",
        "    oi_ha = oi/ha\n",
        "    ax4 = fig.add_subplot(gs[2,0],projection=maps.wcs,slices=('x','y',0))\n",
        "    ax4.grid(False)\n",
        "    img = ax4.imshow(goodspax(oi_ha,3) ,cmap='inferno')\n",
        "    ax4.grid(False)\n",
        "    ax4.set_autoscale_on(False)\n",
        "    ax4.contour(filter_r, transform=ax4.get_transform(optical.wcs),\n",
        "                colors='red',levels=levels,zorder=11,\n",
        "                linewidths = 3)\n",
        "\n",
        "    ax4.tick_params(which='both', length=15, width = 2,direction=\"in\", labelsize = 1)\n",
        "    ax4.set_title(r'$[OI]/H_{\\alpha}$')\n",
        "    ax4.set_xlabel(' ')\n",
        "    ax4.set_ylabel(' ')\n",
        "\n",
        "    cb=plt.colorbar(img,ax=ax4, shrink=0.8, anchor = (-0.1,0.5))\n",
        "    cb.ax.tick_params(labelsize=40)\n",
        "\n",
        "    # Stellar Dispersion\n",
        "\n",
        "    vel_sigma = maps.stellar_sigma\n",
        "\n",
        "    ax4 = fig.add_subplot(gs[2,1],projection=maps.wcs,slices=('x','y',0))\n",
        "    ax4.grid(False)\n",
        "    img = ax4.imshow(goodspax(vel_sigma,3) ,cmap='jet')\n",
        "    ax4.grid(False)\n",
        "    ax4.set_autoscale_on(False)\n",
        "    #ax4.contour(filter_r, transform=ax4.get_transform(optical.wcs),\n",
        "    #            colors='black',levels=levels,zorder=11,\n",
        "     #           linewidths = 3)\n",
        "\n",
        "    ax4.tick_params(which='both', length=15, width = 2,direction=\"in\", labelsize = 1)\n",
        "    ax4.set_title(r'Stellar Velocity Dispersion')\n",
        "    ax4.set_xlabel(' ')\n",
        "    ax4.set_ylabel(' ')\n",
        "\n",
        "    cb=plt.colorbar(img,ax=ax4, shrink=1, anchor = (-0.1,0.5))\n",
        "    cb.ax.tick_params(labelsize=40)\n",
        "\n",
        "     # Ha Velcoity Dispersion\n",
        "\n",
        "    ha_sigma = maps.emline_gsigma_ha_6564\n",
        "\n",
        "    ax4 = fig.add_subplot(gs[2,2],projection=maps.wcs,slices=('x','y',0))\n",
        "    ax4.grid(False)\n",
        "    img = ax4.imshow(goodspax(ha_sigma,3) ,cmap='jet')\n",
        "    ax4.grid(False)\n",
        "    ax4.set_autoscale_on(False)\n",
        "    #ax4.contour(filter_r, transform=ax4.get_transform(optical.wcs),\n",
        "   #             colors='black',levels=levels,zorder=11,\n",
        "   #             linewidths = 3)\n",
        "\n",
        "    ax4.tick_params(which='both', length=15, width = 2,direction=\"in\", labelsize = 1)\n",
        "    ax4.set_title(r'$H_{\\alpha}$ Velocity Dispersion')\n",
        "    ax4.set_xlabel(' ')\n",
        "    ax4.set_ylabel(' ')\n",
        "\n",
        "    cb=plt.colorbar(img,ax=ax4, shrink=1, anchor = (-0.1,0.5))\n",
        "    cb.ax.tick_params(labelsize=40)\n",
        "\n",
        "     # Ha Velcoity Dispersion\n",
        "\n",
        "    oi_sigma = maps.emline_gsigma_oi_5007\n",
        "\n",
        "    ax4 = fig.add_subplot(gs[2,3],projection=maps.wcs,slices=('x','y',0))\n",
        "    ax4.grid(False)\n",
        "    img = ax4.imshow(goodspax(oi_sigma,3) ,cmap='jet')\n",
        "    ax4.grid(False)\n",
        "    ax4.set_autoscale_on(False)\n",
        "    #ax4.contour(filter_r, transform=ax4.get_transform(optical.wcs),\n",
        "     #           colors='black',levels=levels,zorder=11,\n",
        "      #          linewidths = 3)\n",
        "\n",
        "    ax4.tick_params(which='both', length=15, width = 2,direction=\"in\", labelsize = 1)\n",
        "    ax4.set_title(r'$[OI]$ Velocity Dispersion')\n",
        "    ax4.set_xlabel(' ')\n",
        "    ax4.set_ylabel(' ')\n",
        "\n",
        "    cb=plt.colorbar(img,ax=ax4, shrink=1, anchor = (-0.1,0.5))\n",
        "    cb.ax.tick_params(labelsize=40)\n",
        "    fig.savefig(f'Dusty/{mangaid}_{plateifu}.png',bbox_inches='tight');\n",
        "    print(mangaid)"
      ]
    },
    {
      "cell_type": "code",
      "execution_count": null,
      "metadata": {
        "tags": [],
        "id": "7RNHv1G7X8bC"
      },
      "outputs": [],
      "source": [
        "f = oi_flux/ha_flux"
      ]
    },
    {
      "cell_type": "markdown",
      "metadata": {
        "tags": [],
        "id": "drrlf5U4X8bD"
      },
      "source": [
        "## **Maps Set 2**"
      ]
    },
    {
      "cell_type": "code",
      "execution_count": null,
      "metadata": {
        "tags": [],
        "id": "TTEGpLcLX8bD",
        "outputId": "ce869221-88bb-4fa8-abbe-e5e7188930b3"
      },
      "outputs": [
        {
          "name": "stdout",
          "output_type": "stream",
          "text": [
            "1-42274\n",
            "1-78688\n",
            "1-120103\n",
            "1-119212\n"
          ]
        }
      ],
      "source": [
        "for mangaid in ids_[15:]:\n",
        "    plateifu = tab_HI_def_M[tab_HI_def_M['mangaid']==mangaid]['plateifu'].value[0]\n",
        "    gassid   = tab_HI_def_M[tab_HI_def_M['mangaid']==mangaid]['GASS'].value[0]\n",
        "    maps = Maps(plateifu=plateifu,mode='remote')\n",
        "    mangaid = maps.mangaid\n",
        "\n",
        "    gs = gridspec.GridSpec(ncols=4, nrows=1, width_ratios = [0.8,0.8,1,1], wspace=0.0001,hspace=0.1)\n",
        "    fig = plt.figure(figsize = (70,15))\n",
        "\n",
        "    # Set the size of image cutout\n",
        "    scale = maps.wcs.to_header()['PC2_2']*3600\n",
        "    size = 2*maps.wcs.to_header()['CRPIX1']*scale\n",
        "\n",
        "    # Get SDSS Image\n",
        "    optical=maps.getImage()\n",
        "\n",
        "    ax = fig.add_subplot(gs[0], projection = optical.wcs)\n",
        "    ax.imshow(optical.data, extent = [-1,1,-1,1])\n",
        "    #ax.set_title('SDSS')\n",
        "    ax.annotate(f'{gassid}', (0.5,0.85), color = 'White', fontsize = 50)\n",
        "    ax.axis('Off')\n",
        "\n",
        "    # Crop Image to match IFU size\n",
        "\n",
        "    optical.get_new_cutout(size,size,size/512)\n",
        "    filter_r=np.rot90(np.array(optical.data)[:,:,0].T )\n",
        "    levels=[60.,  90., 120., 150., 180., 210., 240.]\n",
        "    scale_s = optical.wcs.to_header()['PC2_2']*3600\n",
        "    size_s  = 2*optical.wcs.to_header()['CRPIX1']*scale_s\n",
        "\n",
        "    # Decals\n",
        "    img = Cutout_L(ra = optical.ra, dec = optical.dec, width = size_s, height=size_s, scale = size_s/512 )\n",
        "\n",
        "    ax1 = fig.add_subplot(gs[1], projection = img.wcs)\n",
        "    ax1.grid(False)\n",
        "    ax1.imshow(img.image)\n",
        "    optical.overlay_hexagon(ax1, linewidth = 5)\n",
        "    #ax1.set_title('DeCals')\n",
        "    ax1.axis('Off')\n",
        "    ax1.grid(False)\n",
        "\n",
        "    # BPT\n",
        "    ax4 = fig.add_subplot(gs[2],projection=maps.wcs,slices=('x','y',0))\n",
        "    m, f ,a = maps.get_bpt(show_plot=False)\n",
        "\n",
        "    SF   = m['sf']['global'].astype('float64')*5\n",
        "    COMP = m['comp']['global'].astype('float64')*4\n",
        "    LIN  = m['liner']['global'].astype('float64')*3\n",
        "    SEY  = m['seyfert']['global'].astype('float64')*2\n",
        "    AMB  = m['ambiguous']['global'].astype('float64')*1\n",
        "\n",
        "    bpt = SF + COMP + LIN + SEY + AMB\n",
        "\n",
        "    cmap = colors.ListedColormap(['grey','red', 'purple', 'green', 'cyan'])\n",
        "\n",
        "    bpt[bpt==0]=np.nan\n",
        "    img = ax4.imshow(bpt,cmap=cmap,vmin=0.5,vmax=5.5)\n",
        "    ax4.set_autoscale_on(False)\n",
        "    ax4.contour(filter_r, transform=ax4.get_transform(optical.wcs), colors='black',levels=levels,zorder=11,\n",
        "               linewidths = 3)\n",
        "    ax4.tick_params(which='both', length=15, width = 2,direction=\"in\", labelsize = 1)\n",
        "    #ax4.set_title('BPT')\n",
        "    ax4.set_xlabel(' ')\n",
        "    ax4.set_ylabel(' ')\n",
        "\n",
        "    cb=plt.colorbar(img, ax=ax4, shrink=1, anchor = (-0.1,0.5))\n",
        "    cb.set_ticks([1.3, 2.3, 3.3, 4.2, 5])\n",
        "    cb.set_ticklabels(['Unclear','Seyfert','LINER','Comp', 'SF'], rotation = 90,fontsize = 30)\n",
        "    cb.ax.tick_params(labelsize=40)\n",
        "\n",
        "    # WHAN\n",
        "\n",
        "    ax4 = fig.add_subplot(gs[3],projection=maps.wcs,slices=('x','y',0))\n",
        "    # WHAN Map\n",
        "\n",
        "    # grab the NII/Ha flux ratio, Ha and NII equivalent width arrays\n",
        "    nii=maps.emli40ne_gflux_nii_6585\n",
        "    ha =maps.emline_gflux_ha_6564\n",
        "    niiha = nii/ha\n",
        "    ewha = maps['emline_sew_ha_6564']\n",
        "    ewnii = maps['emline_sew_nii_6585']\n",
        "    # take the log of the NII/Ha ratio\n",
        "    logniiha = np.log10(niiha.value)\n",
        "\n",
        "    # create the WHAN categories\n",
        "    psf  = (logniiha < -0.4)  & (ewha.value > 3)\n",
        "    sagn = (logniiha > -0.4)  & (ewha.value > 6)\n",
        "    wagn = (logniiha > -0.4)  & ((ewha.value > 3) & (ewha.value < 6))\n",
        "    rg   = ewha.value < 3\n",
        "    pg   = (ewha.value < 0.5) & (ewnii.value < 0.5)\n",
        "\n",
        "    # create a custom array for a WHAN categories (we copy the EW Ha array just to get a 2d-array of the original size)\n",
        "    value = ewha.value.copy()\n",
        "    value[psf]  = 1     # pure star-forming\n",
        "    value[sagn] = 2     # strong agn\n",
        "    value[wagn] = 3     # weak agn\n",
        "    value[rg]   = 4     # retired galaxies\n",
        "    value[pg]   = 5     # passive galaxies\n",
        "\n",
        "    # Set ivar to 0 where the SNR < 1\n",
        "    niiha_low_snr = mapplot.mask_low_snr(niiha.value, niiha.ivar, snr_min=3)\n",
        "    ewha_low_snr = mapplot.mask_low_snr(ewha.value, ewha.ivar, snr_min=3)\n",
        "    ewnii_low_snr = mapplot.mask_low_snr(ewnii.value, ewnii.ivar, snr_min=3)\n",
        "    low_snr = np.logical_or(niiha_low_snr, ewha_low_snr, ewnii_low_snr)\n",
        "\n",
        "    ivar = ewha.value.copy()\n",
        "    ivar[low_snr] = 0\n",
        "    value[low_snr] = np.nan\n",
        "\n",
        "\n",
        "    # WHAN IFU\n",
        "    cmap = colors.ListedColormap(['red', 'blue', 'goldenrod', 'green', 'purple'])\n",
        "    nocov = ewha.pixmask.get_mask('NOCOV',dtype=bool)\n",
        "    mask = np.where(nocov==True,np.nan,1)\n",
        "    img = ax4.imshow(value,cmap=cmap,vmin=0.5,vmax=5.5)\n",
        "    ax4.set_autoscale_on(False)\n",
        "    ax4.contour(filter_r, transform=ax4.get_transform(optical.wcs), colors='black',levels=levels,zorder=11,\n",
        "               linewidths = 3)\n",
        "\n",
        "    ax4.tick_params(which='both', length=15, width = 2,direction=\"in\", labelsize = 1)\n",
        "    #ax4.set_title('WHAN')\n",
        "    ax4.set_xlabel(' ')\n",
        "    ax4.set_ylabel(' ')\n",
        "\n",
        "    cb=plt.colorbar(img,ax=ax4, shrink=1, anchor = (-0.1,0.5))\n",
        "    cb.set_ticks([1, 2, 3, 4, 5])\n",
        "    cb.set_ticklabels(['PSF', 'SAGN', 'WAGN', 'RG', 'PG'], rotation = 90, fontsize=40)\n",
        "    cb.ax.tick_params(labelsize=40)\n",
        "\n",
        "    fig.savefig(f'Q/{mangaid}_{plateifu}.png',bbox_inches='tight');\n",
        "\n",
        "    print(mangaid)"
      ]
    },
    {
      "cell_type": "markdown",
      "metadata": {
        "id": "8NgR-MqKcPVX",
        "jp-MarkdownHeadingCollapsed": true,
        "tags": []
      },
      "source": [
        "## **DeCALS**"
      ]
    },
    {
      "cell_type": "code",
      "execution_count": null,
      "metadata": {
        "id": "ZmapSiB-FMgY"
      },
      "outputs": [],
      "source": [
        "fig = plt.figure(figsize = (30,90))\n",
        "gs  = gridspec.GridSpec(ncols=1, nrows=9,)\n",
        "\n",
        "for i, plateifu in enumerate(df_SF[6:].plateifu):\n",
        "\n",
        "    maps = Maps(plateifu=plateifu,mode='remote')\n",
        "    mangaid = maps.mangaid\n",
        "\n",
        "    # Set the size of image cutout\n",
        "    scale = maps.wcs.to_header()['PC2_2']*3600\n",
        "    size = 2*maps.wcs.to_header()['CRPIX1']*scale\n",
        "\n",
        "    # Get SDSS Image\n",
        "    optical=maps.getImage()\n",
        "\n",
        "    # Crop Image to match IFU size\n",
        "\n",
        "    optical.get_new_cutout(size,size,size/512)\n",
        "    filter_r=np.rot90(np.array(optical.data)[:,:,0].T )\n",
        "    levels=[60.,  90., 120., 150., 180., 210., 240.]\n",
        "    ax1 = fig.add_subplot(gs[i])\n",
        "    scale_s = optical.wcs.to_header()['PC2_2']*3600\n",
        "    size_s  = 2*optical.wcs.to_header()['CRPIX1']*scale_s\n",
        "    img = Cutout_L(ra = optical.ra, dec = optical.dec, width = size_s, height=size_s, scale = size_s/512 )\n",
        "\n",
        "    ax1.grid(False)\n",
        "    ax1.imshow(img.image)\n",
        "    ax1.grid(False)\n",
        "    title = ax1.set_title(f'{mangaid}', rotation = 90,weight='bold',family='serif'\n",
        "    ,color = 'black', fontsize = 30, y = 0.5)\n",
        "\n",
        "    title.set_position((-0.03,0.4))\n",
        "    ax1.axis('off')\n",
        "\n",
        "plt.subplots_adjust(hspace = 0.01)"
      ]
    },
    {
      "cell_type": "markdown",
      "metadata": {
        "id": "M5mLopBFcSFP",
        "jp-MarkdownHeadingCollapsed": true,
        "tags": []
      },
      "source": [
        "## **SDSS**"
      ]
    },
    {
      "cell_type": "code",
      "execution_count": null,
      "metadata": {
        "id": "ih4S3BG1PLm7"
      },
      "outputs": [],
      "source": [
        "fig = plt.figure(figsize = (30,90))\n",
        "gs  = gridspec.GridSpec(ncols=1, nrows=9,)\n",
        "for i, plateifu in enumerate(df_SF[6:].plateifu):\n",
        "\n",
        "    maps = Maps(plateifu=plateifu,mode='remote')\n",
        "    mangaid = maps.mangaid\n",
        "\n",
        "    # Set the size of image cutout\n",
        "    scale = maps.wcs.to_header()['PC2_2']*3600\n",
        "    size = 2*maps.wcs.to_header()['CRPIX1']*scale\n",
        "\n",
        "    # Get SDSS Image\n",
        "    optical=maps.getImage()\n",
        "\n",
        "    # Crop Image to match IFU size\n",
        "\n",
        "    optical.get_new_cutout(size,size,size/512)\n",
        "    filter_r=np.rot90(np.array(optical.data)[:,:,0].T )\n",
        "    levels=[60.,  90., 120., 150., 180., 210., 240.]\n",
        "    ax1 = fig.add_subplot(gs[i],projection=optical.wcs)\n",
        "    ax1.grid(False)\n",
        "    ax1.imshow(optical.data)\n",
        "    ax1.grid(False)\n",
        "    optical.overlay_hexagon(ax1)\n",
        "    ax1.axis('off')\n",
        "\n",
        "plt.subplots_adjust(hspace = 0.01)"
      ]
    },
    {
      "cell_type": "markdown",
      "metadata": {
        "id": "5ih4Op3wf8hB",
        "jp-MarkdownHeadingCollapsed": true,
        "tags": []
      },
      "source": [
        "## **H-alpha**"
      ]
    },
    {
      "cell_type": "code",
      "execution_count": null,
      "metadata": {
        "id": "z25ia187L0p7"
      },
      "outputs": [],
      "source": [
        "import astropy.units as u"
      ]
    },
    {
      "cell_type": "code",
      "execution_count": null,
      "metadata": {
        "id": "RWDFpy47Frq4"
      },
      "outputs": [],
      "source": [
        "fig = plt.figure(figsize = (30,90))\n",
        "gs  = gridspec.GridSpec(ncols=1, nrows=9,)\n",
        "ax_l = []\n",
        "for i, plateifu in enumerate(df_SF[6:].plateifu):\n",
        "\n",
        "    maps = Maps(plateifu=plateifu,mode='remote')\n",
        "    mangaid = maps.mangaid\n",
        "\n",
        "    # Set the size of image cutout\n",
        "    scale = maps.wcs.to_header()['PC2_2']*3600\n",
        "    size = 2*maps.wcs.to_header()['CRPIX1']*scale\n",
        "\n",
        "    # Get SDSS Image\n",
        "    optical=maps.getImage()\n",
        "\n",
        "    # Crop Image to match IFU size\n",
        "\n",
        "    optical.get_new_cutout(size,size,size/512)\n",
        "    filter_r=np.rot90(np.array(optical.data)[:,:,0].T )\n",
        "    levels=[60.,  90., 120., 150., 180., 210., 240.]\n",
        "    ax = fig.add_subplot(gs[i], projection=maps.wcs,slices=('x','y',0))\n",
        "    ha = maps.emline_gflux_ha_6564\n",
        "\n",
        "    ax.grid(False)\n",
        "    cbr = mapplot.plot(dapmap=np.log10(ha),return_cbrange=True)\n",
        "\n",
        "    img = ax.imshow((goodspax(ha,SNR = 3)),cmap='plasma')\n",
        "    ax.grid(False)\n",
        "    ax.set_autoscale_on(False)\n",
        "    ax.contour(filter_r, transform=ax.get_transform(optical.wcs), colors='black',levels=levels,zorder=11)\n",
        "    ax.tick_params(which='both', length=10, width = 2,direction=\"in\", labelsize = 1)\n",
        "    ax.set_xlabel(' ')\n",
        "    ax.set_ylabel(' ')\n",
        "    ax_l.append(ax)\n",
        "\n",
        "cb=plt.colorbar(img,ax=ax_l,location = 'top', shrink=0.328, anchor = (0.5,1.09))\n",
        "cb.set_label(r'$1\\times10^{-17}erg.cm^{-2}.s^{-1}$', labelpad = 15)\n",
        "plt.subplots_adjust(hspace = 0.01)"
      ]
    },
    {
      "cell_type": "markdown",
      "metadata": {
        "id": "dITegeslqexs",
        "jp-MarkdownHeadingCollapsed": true,
        "tags": []
      },
      "source": [
        "## **BPT**"
      ]
    },
    {
      "cell_type": "code",
      "execution_count": null,
      "metadata": {
        "id": "Bb-A9tBsHmmq"
      },
      "outputs": [],
      "source": [
        "fig = plt.figure(figsize = (30,90))\n",
        "gs  = gridspec.GridSpec(ncols=1, nrows=9,)\n",
        "ax_l = []\n",
        "for i, plateifu in enumerate(df_SF[6:].plateifu):\n",
        "\n",
        "    maps = Maps(plateifu=plateifu,mode='remote')\n",
        "    mangaid = maps.mangaid\n",
        "\n",
        "    # Set the size of image cutout\n",
        "    scale = maps.wcs.to_header()['PC2_2']*3600\n",
        "    size = 2*maps.wcs.to_header()['CRPIX1']*scale\n",
        "\n",
        "    # Get SDSS Image\n",
        "    optical=maps.getImage()\n",
        "\n",
        "    # Crop Image to match IFU size\n",
        "\n",
        "    optical.get_new_cutout(size,size,size/512)\n",
        "    filter_r=np.rot90(np.array(optical.data)[:,:,0].T )\n",
        "    levels=[60.,  90., 120., 150., 180., 210., 240.]\n",
        "    ax4 = fig.add_subplot(gs[i],projection=maps.wcs,slices=('x','y',0))\n",
        "    m, f ,a = maps.get_bpt(show_plot=False)\n",
        "\n",
        "    SF   = m['sf']['global'].astype('float64')*5\n",
        "    COMP = m['comp']['global'].astype('float64')*4\n",
        "    LIN  = m['liner']['global'].astype('float64')*3\n",
        "    SEY  = m['seyfert']['global'].astype('float64')*2\n",
        "    AMB  = m['ambiguous']['global'].astype('float64')*1\n",
        "\n",
        "    bpt = SF + COMP + LIN + SEY + AMB\n",
        "\n",
        "    cmap = colors.ListedColormap(['grey','red', 'purple', 'green', 'cyan'])\n",
        "\n",
        "    bpt[bpt==0]=np.nan\n",
        "    img = ax4.imshow(bpt,cmap=cmap,vmin=0.5,vmax=5.5)\n",
        "    ax4.set_autoscale_on(False)\n",
        "    ax4.contour(filter_r, transform=ax4.get_transform(optical.wcs), colors='black',levels=levels,zorder=11)\n",
        "    ax4.tick_params(which='both', length=10, width = 2,direction=\"in\", labelsize = 1)\n",
        "    ax4.set_xlabel(' ')\n",
        "    ax4.set_ylabel(' ')\n",
        "    ax_l.append(ax4)\n",
        "\n",
        "cb = plt.colorbar(img,ax=ax_l,location = 'top', shrink=0.328, anchor = (0.5,1.09))\n",
        "cb.set_ticks([1, 2, 3, 4, 5])\n",
        "cb.set_ticklabels(['Unclear','Seyfert','LINER','Comp', 'SF'])\n",
        "plt.subplots_adjust(hspace = 0.01)"
      ]
    },
    {
      "cell_type": "markdown",
      "metadata": {
        "id": "mhUxvZCoqhkM",
        "jp-MarkdownHeadingCollapsed": true,
        "tags": []
      },
      "source": [
        "## **WHAN**"
      ]
    },
    {
      "cell_type": "code",
      "execution_count": null,
      "metadata": {
        "id": "0ZUiM-IK2-vQ"
      },
      "outputs": [],
      "source": [
        "fig = plt.figure(figsize = (30,90))\n",
        "gs  = gridspec.GridSpec(ncols=1, nrows=9,)\n",
        "ax_l = []\n",
        "for i, plateifu in enumerate(df_SF[6:].plateifu):\n",
        "\n",
        "    maps = Maps(plateifu=plateifu,mode='remote')\n",
        "    mangaid = maps.mangaid\n",
        "\n",
        "    # Set the size of image cutout\n",
        "    scale = maps.wcs.to_header()['PC2_2']*3600\n",
        "    size = 2*maps.wcs.to_header()['CRPIX1']*scale\n",
        "\n",
        "    # Get SDSS Image\n",
        "    optical=maps.getImage()\n",
        "\n",
        "    # Crop Image to match IFU size\n",
        "\n",
        "    optical.get_new_cutout(size,size,size/512)\n",
        "    filter_r=np.rot90(np.array(optical.data)[:,:,0].T )\n",
        "    levels=[60.,  90., 120., 150., 180., 210., 240.]\n",
        "    ax4 = fig.add_subplot(gs[i],projection=maps.wcs,slices=('x','y',0))\n",
        "    # WHAN Map\n",
        "\n",
        "    # grab the NII/Ha flux ratio, Ha and NII equivalent width arrays\n",
        "    nii=maps.emli40ne_gflux_nii_6585\n",
        "    ha =maps.emline_gflux_ha_6564\n",
        "    niiha = nii/ha\n",
        "    ewha = maps['emline_sew_ha_6564']\n",
        "    ewnii = maps['emline_sew_nii_6585']\n",
        "    # take the log of the NII/Ha ratio\n",
        "    logniiha = np.log10(niiha.value)\n",
        "\n",
        "    # create the WHAN categories\n",
        "    psf  = (logniiha < -0.4)  & (ewha.value > 3)\n",
        "    sagn = (logniiha > -0.4)  & (ewha.value > 6)\n",
        "    wagn = (logniiha > -0.4)  & ((ewha.value > 3) & (ewha.value < 6))\n",
        "    rg   = ewha.value < 3\n",
        "    pg   = (ewha.value < 0.5) & (ewnii.value < 0.5)\n",
        "\n",
        "    # create a custom array for a WHAN categories (we copy the EW Ha array just to get a 2d-array of the original size)\n",
        "    value = ewha.value.copy()\n",
        "    value[psf]  = 1     # pure star-forming\n",
        "    value[sagn] = 2     # strong agn\n",
        "    value[wagn] = 3     # weak agn\n",
        "    value[rg]   = 4     # retired galaxies\n",
        "    value[pg]   = 5     # passive galaxies\n",
        "\n",
        "    # Set ivar to 0 where the SNR < 1\n",
        "    niiha_low_snr = mapplot.mask_low_snr(niiha.value, niiha.ivar, snr_min=3)\n",
        "    ewha_low_snr = mapplot.mask_low_snr(ewha.value, ewha.ivar, snr_min=3)\n",
        "    ewnii_low_snr = mapplot.mask_low_snr(ewnii.value, ewnii.ivar, snr_min=3)\n",
        "    low_snr = np.logical_or(niiha_low_snr, ewha_low_snr, ewnii_low_snr)\n",
        "\n",
        "    ivar = ewha.value.copy()\n",
        "    ivar[low_snr] = 0\n",
        "    value[low_snr] = np.nan\n",
        "\n",
        "    # Set the size of image cutout\n",
        "    scale = maps.wcs.to_header()['PC2_2']*3600\n",
        "    size = 2*maps.wcs.to_header()['CRPIX1']*scale\n",
        "\n",
        "    # WHAN IFU\n",
        "    cmap = colors.ListedColormap(['red', 'blue', 'goldenrod', 'green', 'purple'])\n",
        "    nocov = ewha.pixmask.get_mask('NOCOV',dtype=bool)\n",
        "    mask = np.where(nocov==True,np.nan,1)\n",
        "    img = ax4.imshow(value,cmap=cmap,vmin=0.5,vmax=5.5)\n",
        "    ax4.set_autoscale_on(False)\n",
        "    ax4.contour(filter_r, transform=ax4.get_transform(optical.wcs), colors='black',levels=levels,zorder=11)\n",
        "\n",
        "    ax4.tick_params(which='both', length=10, width = 2,direction=\"in\", labelsize = 1)\n",
        "    ax4.set_xlabel(' ')\n",
        "    ax4.set_ylabel(' ')\n",
        "\n",
        "    ax_l.append(ax4)\n",
        "\n",
        "cb=plt.colorbar(img,ax=ax_l,location = 'top', shrink=0.328, anchor = (0.5,1.09))\n",
        "cb.set_ticks([1, 2, 3, 4, 5])\n",
        "cb.set_ticklabels(['PSF', 'SAGN', 'WAGN', 'RG', 'PG'])\n",
        "plt.subplots_adjust(hspace = 0.01)\n"
      ]
    },
    {
      "cell_type": "markdown",
      "metadata": {
        "id": "CSy8ni_Iqq_z",
        "jp-MarkdownHeadingCollapsed": true,
        "tags": []
      },
      "source": [
        "## **eW H-alpha**"
      ]
    },
    {
      "cell_type": "code",
      "execution_count": null,
      "metadata": {
        "id": "cGfUiILvQl-u"
      },
      "outputs": [],
      "source": [
        "fig = plt.figure(figsize = (30,80))\n",
        "gs  = gridspec.GridSpec(ncols=1, nrows=8)\n",
        "ax_l =[]\n",
        "for i,mangaid in enumerate(ids_[16:]):\n",
        "  maps = Maps(mangaid=mangaid,mode='remote')\n",
        "  plateifu = maps.plateifu\n",
        "\n",
        "  # Set the size of image cutout\n",
        "  scale = maps.wcs.to_header()['PC2_2']*3600\n",
        "  size = 2*maps.wcs.to_header()['CRPIX1']*scale\n",
        "\n",
        "  # Get SDSS Image\n",
        "  optical=maps.getImage()\n",
        "\n",
        "  # Crop Image to match IFU size\n",
        "\n",
        "  optical.get_new_cutout(size,size,size/512)\n",
        "  filter_r=np.rot90(np.array(optical.data)[:,:,0].T )\n",
        "  levels=[60.,  90., 120., 150., 180., 210., 240.]\n",
        "  ewha = maps['emline_sew_ha_6564']\n",
        "\n",
        "  ax2 = fig.add_subplot(gs[i],projection=maps.wcs,slices=('x','y',0))\n",
        "\n",
        "  ax2.grid(False)\n",
        "  img = ax2.imshow((goodspax(ewha)),cmap = 'jet', vmin = 0)\n",
        "  ax2.grid(False)\n",
        "  ax2.set_autoscale_on(False)\n",
        "  ax2.contour(filter_r, transform=ax2.get_transform(optical.wcs), colors='black',levels=levels,zorder=11)\n",
        "  ax2.coords[0].set_ticks([]*u.degree)\n",
        "  ax2.coords[1].set_ticks([]*u.degree)\n",
        "  ax_l.append(ax2)\n",
        "cb=plt.colorbar(img,ax=ax_l,location = 'top', shrink=0.321, anchor = (0.5,1.05))\n",
        "cb.set_label(r'$\\AA$')\n",
        "plt.subplots_adjust(hspace = 0.01)"
      ]
    },
    {
      "cell_type": "markdown",
      "metadata": {
        "id": "3B96T7y8qv-P",
        "jp-MarkdownHeadingCollapsed": true,
        "tags": []
      },
      "source": [
        "## **H-delta**"
      ]
    },
    {
      "cell_type": "code",
      "execution_count": null,
      "metadata": {
        "id": "2XwZp-SxQmIz"
      },
      "outputs": [],
      "source": [
        "fig = plt.figure(figsize = (30,80))\n",
        "gs  = gridspec.GridSpec(ncols=1, nrows=8)\n",
        "ax_l =[]\n",
        "for i,mangaid in enumerate(ids[:5]):\n",
        "  maps = Maps(mangaid=mangaid,mode='remote')\n",
        "  plateifu = maps.plateifu\n",
        "\n",
        "  # Set the size of image cutout\n",
        "  scale = maps.wcs.to_header()['PC2_2']*3600\n",
        "  size = 2*maps.wcs.to_header()['CRPIX1']*scale\n",
        "\n",
        "  # Get SDSS Image\n",
        "  optical=maps.getImage()\n",
        "\n",
        "  # Crop Image to match IFU size\n",
        "\n",
        "  optical.get_new_cutout(size,size,size/512)\n",
        "  filter_r=np.rot90(np.array(optical.data)[:,:,0].T )\n",
        "  levels=[60.,  90., 120., 150., 180., 210., 240.]\n",
        "  ax3 = fig.add_subplot(gs[i], projection=maps.wcs,slices=('x','y',0))\n",
        "  hd = maps.emline_gflux_hdel_4102\n",
        "\n",
        "  ax3.grid(False)\n",
        "  img = ax3.imshow(np.log10(goodspax(hd)),cmap='plasma')\n",
        "  ax3.grid(False)\n",
        "  ax3.set_autoscale_on(False)\n",
        "  ax3.contour(filter_r, transform=ax3.get_transform(optical.wcs), colors='black',levels=levels,zorder=11)\n",
        "\n",
        "  ax3.coords[0].set_ticks([]*u.degree)\n",
        "  ax3.coords[1].set_ticks([]*u.degree)\n",
        "  ax_l.append(ax3)\n",
        "\n",
        "\n",
        "cb=plt.colorbar(img,ax=ax_l,location = 'top', shrink=0.321, anchor = (0.5,1.07))\n",
        "\n",
        "cb.set_label(r'$Log_{10}(1\\times10^{-17}ergcm^{-2}s^{-1})$')\n",
        "plt.subplots_adjust(hspace = 0.01)\n"
      ]
    },
    {
      "cell_type": "markdown",
      "metadata": {
        "id": "3W3ebQq3q0KG",
        "jp-MarkdownHeadingCollapsed": true,
        "tags": []
      },
      "source": [
        "## **Dn4000**"
      ]
    },
    {
      "cell_type": "code",
      "execution_count": null,
      "metadata": {
        "id": "uzNlDmBkQmUI"
      },
      "outputs": [],
      "source": [
        "fig  = plt.figure(figsize = (30,190))\n",
        "gs   = gridspec.GridSpec(ncols=1, nrows=19)\n",
        "ax_l = []\n",
        "t    = []\n",
        "cmap = colors.ListedColormap(['red','steelblue', 'limegreen', 'blueviolet', 'coral'])\n",
        "\n",
        "for i, mangaid in enumerate(ids):\n",
        "    plateifu = tab_HI_def_M[tab_HI_def_M['mangaid']==mangaid]['plateifu'].value[0]\n",
        "    maps = Maps(plateifu=plateifu,mode='remote')\n",
        "    mangaid = maps.mangaid\n",
        "\n",
        "    # Set the size of image cutout\n",
        "    scale = maps.wcs.to_header()['PC2_2']*3600\n",
        "    size = 2*maps.wcs.to_header()['CRPIX1']*scale\n",
        "\n",
        "    # Get SDSS Image\n",
        "    #optical=maps.getImage()\n",
        "\n",
        "    # Crop Image to match IFU size\n",
        "\n",
        "    #optical.get_new_cutout(size,size,size/512)\n",
        "    #filter_r=np.rot90(np.array(optical.data)[:,:,0].T )\n",
        "    levels=[60.,  90., 120., 150., 180., 210., 240.]\n",
        "    ax4 = fig.add_subplot(gs[i], projection=maps.wcs,slices=('x','y',0))\n",
        "    dn=maps.specindex_dn4000\n",
        "\n",
        "    m, f ,a = maps.get_bpt(show_plot=False)\n",
        "    sf = m['sf']['global'].astype('float64')\n",
        "\n",
        "    segm      = detect_sources(sf, 0, npixels = 5)\n",
        "    flag = 0\n",
        "    if not isinstance(segm,type(None)):\n",
        "        cat = SourceCatalog(sf, segm).to_table()\n",
        "        if cat['area'].value.max()<=10:\n",
        "            flag = 1\n",
        "    else:\n",
        "        flag = 1\n",
        "\n",
        "    if flag:\n",
        "        value = get_whan(maps);\n",
        "        sf = np.where(value ==1, 1, np.nan)\n",
        "        segm      = detect_sources(sf, 0, npixels = 5)\n",
        "        if not isinstance(segm,type(None)):\n",
        "            cat = SourceCatalog(sf, segm).to_table()\n",
        "            area = cat['area'].value.max()\n",
        "        else:\n",
        "            area = 0\n",
        "    else:\n",
        "        sf = np.where(sf ==1, 1, np.nan)\n",
        "        area  = cat['area'].value.max()\n",
        "\n",
        "    dn = dn*sf\n",
        "\n",
        "    data = goodspax(dn,3)\n",
        "    ind = np.where(np.isnan(data),False,True)\n",
        "    print(mangaid, np.median(data[ind]))\n",
        "\n",
        "    ax4.grid(False)\n",
        "    img = ax4.imshow(goodspax(dn,3) ,cmap=cmap, vmin = 1, vmax = 2)\n",
        "    ax4.grid(False)\n",
        "    ax4.set_autoscale_on(False)\n",
        "    #ax4.contour(filter_r, transform=ax4.get_transform(optical.wcs), colors='black',levels=levels,zorder=11)\n",
        "    ax4.coords[0].set_ticks([]*u.degree)\n",
        "    ax4.coords[1].set_ticks([]*u.degree)\n",
        "    ax_l.append(ax4)\n",
        "\n",
        "cb = plt.colorbar(img,ax=ax_l,location = 'top', shrink=0.328, anchor = (0.5,1.09))\n",
        "cb.set_ticks(np.round(np.arange(1.2, 1.8,0.2),2))\n",
        "plt.subplots_adjust(hspace = 0.01)"
      ]
    },
    {
      "cell_type": "markdown",
      "metadata": {
        "id": "Qwq6Oyxr915U",
        "jp-MarkdownHeadingCollapsed": true,
        "tags": []
      },
      "source": [
        "## **NaD**"
      ]
    },
    {
      "cell_type": "code",
      "execution_count": null,
      "metadata": {
        "id": "pHqAU0IlEe4P"
      },
      "outputs": [],
      "source": [
        "fig = plt.figure(figsize = (30,80))\n",
        "gs  = gridspec.GridSpec(ncols=1, nrows=8)\n",
        "ax_l =[]\n",
        "for i,mangaid in enumerate(ids_[16:]):\n",
        "\n",
        "  maps = Maps(mangaid=mangaid,mode='remote')\n",
        "  plateifu = maps.plateifu\n",
        "\n",
        "  # Set the size of image cutout\n",
        "  scale = maps.wcs.to_header()['PC2_2']*3600\n",
        "  size = 2*maps.wcs.to_header()['CRPIX1']*scale\n",
        "\n",
        "  # Get SDSS Image\n",
        "  optical=maps.getImage()\n",
        "\n",
        "  # Crop Image to match IFU size\n",
        "\n",
        "  optical.get_new_cutout(size,size,size/512)\n",
        "  filter_r=np.rot90(np.array(optical.data)[:,:,0].T )\n",
        "  levels=[60.,  90., 120., 150., 180., 210., 240.]\n",
        "  ax4 = fig.add_subplot(gs[i], projection=maps.wcs,slices=('x','y',0))\n",
        "  dn=maps.specindex_nad\n",
        "\n",
        "  ax4.grid(False)\n",
        "  img = ax4.imshow(goodspax(dn) ,cmap='jet')\n",
        "  ax4.grid(False)\n",
        "  ax4.set_autoscale_on(False)\n",
        "  ax4.contour(filter_r, transform=ax4.get_transform(optical.wcs), colors='red',levels=levels,zorder=11)\n",
        "  ax4.coords[0].set_ticks([]*u.degree)\n",
        "  ax4.coords[1].set_ticks([]*u.degree)\n",
        "  ax_l.append(ax4)\n",
        "\n",
        "cb=plt.colorbar(img,ax=ax_l,location = 'top', shrink=0.321, anchor = (0.5,1.1))\n",
        "plt.subplots_adjust(hspace = 0.01)"
      ]
    },
    {
      "cell_type": "markdown",
      "metadata": {
        "id": "0GJrYnOp95Z5",
        "jp-MarkdownHeadingCollapsed": true,
        "tags": []
      },
      "source": [
        "## **Metallicity**"
      ]
    },
    {
      "cell_type": "code",
      "execution_count": null,
      "metadata": {
        "id": "1n9k_413QmaO"
      },
      "outputs": [],
      "source": [
        "fig = plt.figure(figsize = (30,190))\n",
        "gs  = gridspec.GridSpec(ncols=1, nrows=19)\n",
        "ax_l =[]\n",
        "t = []\n",
        "logohs = []\n",
        "for i, mangaid in enumerate(ids_[-4:-3]):\n",
        "    plateifu = tab_HI_def_M[tab_HI_def_M['mangaid']==mangaid]['plateifu'].value[0]\n",
        "    maps = Maps(plateifu=plateifu,mode='remote')\n",
        "    mangaid = maps.mangaid\n",
        "\n",
        "    # Set the size of image cutout\n",
        "    scale = maps.wcs.to_header()['PC2_2']*3600\n",
        "    size = 2*maps.wcs.to_header()['CRPIX1']*scale\n",
        "\n",
        "    # Get SDSS Image\n",
        "   # optical=maps.getImage()\n",
        "\n",
        "    # Crop Image to match IFU size\n",
        "\n",
        "    #optical.get_new_cutout(size,size,size/512)\n",
        "    #filter_r=np.rot90(np.array(optical.data)[:,:,0].T )\n",
        "    levels=[60.,  90., 120., 150., 180., 210., 240.]\n",
        "    ax3 = fig.add_subplot(gs[i], projection=maps.wcs,slices=('x','y',0))\n",
        "    nii = maps.emline_gflux_nii_6585\n",
        "    ha = maps.emline_gflux_ha_6564\n",
        "    n2 = nii/ ha\n",
        "    logn2 = np.log10(n2)\n",
        "    logoh = 8.90 + 0.57 * logn2\n",
        "\n",
        "\n",
        "    m, f ,a = maps.get_bpt(show_plot=False)\n",
        "    sf = m['sf']['global'].astype('float64')\n",
        "\n",
        "    segm = detect_sources(sf, 0, npixels = 5)\n",
        "\n",
        "    flag = 0\n",
        "    if not isinstance(segm,type(None)):\n",
        "        cat = SourceCatalog(sf, segm).to_table()\n",
        "        if cat['area'].value.max()<=10:\n",
        "            flag = 1\n",
        "    else:\n",
        "        flag = 1\n",
        "\n",
        "    if flag:\n",
        "        value = get_whan(maps);\n",
        "        sf = np.where(value ==1, 1, np.nan)\n",
        "        segm      = detect_sources(sf, 0, npixels = 5)\n",
        "        if not isinstance(segm,type(None)):\n",
        "            cat = SourceCatalog(sf, segm).to_table()\n",
        "            area = cat['area'].value.max()\n",
        "        else:\n",
        "            area = 0\n",
        "    else:\n",
        "        sf = np.where(sf ==1, 1, np.nan)\n",
        "        area  = cat['area'].value.max()\n",
        "\n",
        "    mask_bad_data = n2.pixmask.get_mask(['NOCOV', 'UNRELIABLE', 'DONOTUSE'])\n",
        "    min_snr = 3.\n",
        "    mask_nii_low_snr = (np.abs(nii.value * np.sqrt(nii.ivar)) <= min_snr)\n",
        "    mask_ha_low_snr = (np.abs(ha.value * np.sqrt(ha.ivar)) <= min_snr)\n",
        "\n",
        "    mask = (mask_bad_data | mask_nii_low_snr | mask_ha_low_snr).astype(bool)\n",
        "    ax3.grid(False)\n",
        "    cbr = mapplot.plot(dapmap=logoh,mask=mask,return_cbrange=True)\n",
        "    mask = np.where(mask==True,np.nan,1)\n",
        "\n",
        "    data = logoh.value*mask\n",
        "    ind = np.where(np.isnan(data),False,True)\n",
        "    print(mangaid, np.median(data[ind]))\n",
        "\n",
        "    img = ax3.imshow(logoh.value*mask,vmin = 8, vmax = 8.9, cmap = 'Set1')\n",
        "    ax3.grid(False)\n",
        "    ax3.set_autoscale_on(False)\n",
        "    #ax3.contour(filter_r, transform=ax3.get_transform(optical.wcs), colors='black',\n",
        "    #             levels=levels,zorder=11)\n",
        "\n",
        "    ax3.coords[0].set_ticks([]*u.degree)\n",
        "    ax3.coords[1].set_ticks([]*u.degree)\n",
        "\n",
        "    ax_l.append(ax3)\n",
        "\n",
        "cb=plt.colorbar(img,ax=ax_l,location = 'top', shrink=0.328, anchor = (0.5,1.09))\n",
        "cb.set_label(r'12+log(O/H)', labelpad = 15)\n",
        "plt.subplots_adjust(hspace = 0.01)"
      ]
    },
    {
      "cell_type": "markdown",
      "metadata": {
        "jp-MarkdownHeadingCollapsed": true,
        "tags": [],
        "id": "Kcs3XjN4X8bb"
      },
      "source": [
        "## **sSFR**"
      ]
    },
    {
      "cell_type": "code",
      "execution_count": null,
      "metadata": {
        "id": "De2jhZ1586Kk"
      },
      "outputs": [],
      "source": [
        "fig = plt.figure(figsize = (30,150))\n",
        "gs = gridspec.GridSpec(ncols=1, nrows=15)\n",
        "ax_l = []\n",
        "SFR_s = []\n",
        "M_s   = []\n",
        "sSFR_s = []\n",
        "x_s = []\n",
        "y_s = []\n",
        "\n",
        "for i, plateifu in enumerate(df_SF.plateifu):\n",
        "\n",
        "    maps = Maps(plateifu=plateifu,mode='remote')\n",
        "    mangaid = maps.mangaid\n",
        "\n",
        "\n",
        "    # Set the size of image cutout\n",
        "    scale = maps.wcs.to_header()['PC2_2']*3600\n",
        "    size = 2*maps.wcs.to_header()['CRPIX1']*scale\n",
        "\n",
        "    # Get SDSS Image\n",
        "    #optical=maps.getImage()\n",
        "\n",
        "    # Crop Image to match IFU size\n",
        "\n",
        "   # optical.get_new_cutout(size,size,size/512)\n",
        "   # filter_r=np.rot90(np.array(optical.data)[:,:,0].T )\n",
        "    #levels=[60.,  90., 120., 150., 180., 210., 240.]\n",
        "\n",
        "    ha = maps.emline_gflux_ha_6564\n",
        "    hb = maps.emline_gflux_hb_4862\n",
        "    ha_hb = maps.getMapRatio('emline_gflux','ha_6564','hb_4862')\n",
        "\n",
        "    m, f ,a = maps.get_bpt(show_plot=False)\n",
        "    sf = m['sf']['global'].astype('float64')\n",
        "\n",
        "    segm      = detect_sources(sf, 0, npixels = 5)\n",
        "    flag = 0\n",
        "    if not isinstance(segm,type(None)):\n",
        "        cat = SourceCatalog(sf, segm).to_table()\n",
        "        if cat['area'].value.max()<=10:\n",
        "            flag = 1\n",
        "    else:\n",
        "        flag = 1\n",
        "\n",
        "    if flag:\n",
        "        value = get_whan(maps);\n",
        "        sf = np.where(value ==1, 1, np.nan)\n",
        "        segm      = detect_sources(sf, 0, npixels = 5)\n",
        "        if not isinstance(segm,type(None)):\n",
        "            cat = SourceCatalog(sf, segm).to_table()\n",
        "            area = cat['area'].value.max()\n",
        "        else:\n",
        "            area = 0\n",
        "    else:\n",
        "        sf = np.where(sf ==1, 1, np.nan)\n",
        "        area  = cat['area'].value.max()\n",
        "\n",
        "    ha_sf    = goodspax(ha,3)*sf\n",
        "    hb_sf    = goodspax(hb,3)*sf\n",
        "    ha_hb_sf = goodspax(ha_hb,3)*sf\n",
        "\n",
        "    z = maps.dapall['z']\n",
        "\n",
        "    fa = ha_sf*1e-17*pow(10,2.468*0.934*np.log(ha_hb_sf/2.86))\n",
        "    D_L = cosmo.luminosity_distance(z).to(u.cm)\n",
        "    Lha =  (fa*4*np.pi*D_L*D_L)*(u.erg/u.second)\n",
        "    SFR = pow(10,-41.1)*Lha\n",
        "    SFR = SFR*(u.solMass/u.year)\n",
        "\n",
        "    cube = maps.getCube()\n",
        "\n",
        "    M = cube.vacs.firefly['mastar']._make_map('stellar_mass')\n",
        "    M = 10**np.where(M>-10,M,0)\n",
        "\n",
        "    M_s.append(M.sum())\n",
        "\n",
        "    M = M*u.solMass\n",
        "\n",
        "    sSFR = SFR/M\n",
        "\n",
        "    data = SFR.value\n",
        "    ind = np.where(np.isnan(data),False,True)\n",
        "\n",
        "    SFR_s.append(np.median(data[ind]))\n",
        "\n",
        "    data = sSFR.value\n",
        "    ind = np.where(np.isnan(data),False,True)\n",
        "    sSFR_s.append(np.median(data[ind]))\n",
        "\n",
        "    ax4 = fig.add_subplot(gs[i],projection=maps.wcs,slices=('x','y',0))\n",
        "    ax4.grid(False)\n",
        "\n",
        "    img = ax4.imshow(np.log10(sSFR.value), cmap = 'jet')\n",
        "    ax4.grid(False)\n",
        "    ax4.set_autoscale_on(False)\n",
        "    #.contour(filter_r, transform=ax4.get_transform(optical.wcs), colors='black',levels=levels,zorder=11)\n",
        "    ax4.coords[0].set_ticks([]*u.degree)\n",
        "    ax4.coords[1].set_ticks([]*u.degree)\n",
        "    ax_l.append(ax4)\n",
        "\n",
        "cb=plt.colorbar(img,ax=ax_l,location = 'top', shrink=0.328, anchor = (0.5,1.09))\n",
        "cb.set_label('Log (sSFR)' + r' $[yr^{-1}]$', labelpad = 15)\n",
        "plt.subplots_adjust(hspace = 0.01)"
      ]
    },
    {
      "cell_type": "code",
      "execution_count": null,
      "metadata": {
        "tags": [],
        "id": "EL0RHK33X8be"
      },
      "outputs": [],
      "source": [
        "sSFR_s = np.log10(np.array(sSFR_s))"
      ]
    },
    {
      "cell_type": "code",
      "execution_count": null,
      "metadata": {
        "tags": [],
        "id": "8KfLOuD3X8bf"
      },
      "outputs": [],
      "source": [
        "M_s = np.log10(np.array(M_s))"
      ]
    },
    {
      "cell_type": "code",
      "execution_count": null,
      "metadata": {
        "tags": [],
        "id": "NeotG_FNX8bg"
      },
      "outputs": [],
      "source": [
        "M_s"
      ]
    },
    {
      "cell_type": "markdown",
      "metadata": {
        "id": "1gYaSJQkc4B5",
        "jp-MarkdownHeadingCollapsed": true,
        "tags": []
      },
      "source": [
        "## **SFRD**"
      ]
    },
    {
      "cell_type": "code",
      "execution_count": null,
      "metadata": {
        "id": "7c8inQ0wIM1z"
      },
      "outputs": [],
      "source": [
        "fig = plt.figure(figsize = (30,120))\n",
        "gs  = gridspec.GridSpec(ncols=1, nrows=12)\n",
        "ax_l =[]\n",
        "SFR_s = []\n",
        "x_s = []\n",
        "y_s = []\n",
        "for i, plateifu in enumerate(df_SF[:5].plateifu):\n",
        "\n",
        "    maps = Maps(plateifu=plateifu,mode='remote')\n",
        "    mangaid = maps.mangaid\n",
        "\n",
        "\n",
        "    # Set the size of image cutout\n",
        "    scale = maps.wcs.to_header()['PC2_2']*3600\n",
        "    size = 2*maps.wcs.to_header()['CRPIX1']*scale\n",
        "\n",
        "    # Get SDSS Image\n",
        "    optical=maps.getImage()\n",
        "\n",
        "    # Crop Image to match IFU size\n",
        "\n",
        "    optical.get_new_cutout(size,size,size/512)\n",
        "    filter_r=np.rot90(np.array(optical.data)[:,:,0].T )\n",
        "    levels=[60.,  90., 120., 150., 180., 210., 240.]\n",
        "\n",
        "    ha = maps.emline_gflux_ha_6564\n",
        "    hb = maps.emline_gflux_hb_4862\n",
        "    ha_hb = maps.getMapRatio('emline_gflux','ha_6564','hb_4862')\n",
        "\n",
        "    m, f ,a  = maps.get_bpt(show_plot=False)\n",
        "    sf       = m['sf']['global'].astype('float64')\n",
        "\n",
        "    if sf.max()==0.0:\n",
        "        value = get_whan(maps);\n",
        "        sf = np.where(value ==1, 1, 0)\n",
        "\n",
        "    ha_sf    = ha*sf\n",
        "    hb_sf    = hb*sf\n",
        "    ha_hb_sf = ha_hb*sf\n",
        "\n",
        "    z = maps.dapall['z']\n",
        "\n",
        "    fa = ha_sf*1e-17*pow(10,2.468*0.934*np.log(ha_hb_sf.value/2.86))\n",
        "    D_L = cosmo.luminosity_distance(z).to(u.cm)\n",
        "    Lha =  (fa.value*4*np.pi*D_L*D_L)*(u.erg/u.second)\n",
        "    SFR = 5.5e-42*Lha\n",
        "    SFR = SFR.value*(u.solMass/u.year)\n",
        "    SFR_s.append(SFR)\n",
        "\n",
        "    ang_dist = Planck15.kpc_proper_per_arcmin(z).to(u.kpc/u.arcsec)\n",
        "    area = (ang_dist.value**2*maps.bin_area.value)\n",
        "    area = area*(u.kpc**2)\n",
        "    SFRD = SFR/area\n",
        "\n",
        "\n",
        "    ax4 = fig.add_subplot(gs[i],projection=maps.wcs,slices=('x','y',0))\n",
        "    ax4.grid(False)\n",
        "\n",
        "    img = ax4.imshow(np.log10(SFRD.value), cmap = 'hsv')\n",
        "    ax4.grid(False)\n",
        "    ax4.set_autoscale_on(False)\n",
        "    ax4.contour(filter_r, transform=ax4.get_transform(optical.wcs), colors='black',levels=levels,zorder=11)\n",
        "    ax4.coords[0].set_ticks([]*u.degree)\n",
        "    ax4.coords[1].set_ticks([]*u.degree)\n",
        "    ax_l.append(ax4)\n",
        "\n",
        "cb=plt.colorbar(img,ax=ax_l,location = 'top', shrink=0.328, anchor = (0.5,1.09))\n",
        "cb.set_label('Log (SFRD)' + r' $[M_{\\odot}kpc^{-2}yr^{-1}]$')\n",
        "plt.subplots_adjust(hspace = 0.01)"
      ]
    },
    {
      "cell_type": "code",
      "execution_count": null,
      "metadata": {
        "id": "hlUojXlU9fb-"
      },
      "outputs": [],
      "source": [
        "t = SFR_s\n",
        "\n",
        "SFRS = []\n",
        "for i in t:\n",
        "  m = (i.value[(np.isnan(i.value)==False) & (np.isinf(i.value)==False) &(i.value>0)])\n",
        "  print(np.median(m))\n",
        "  SFRS.append(np.median(m))"
      ]
    },
    {
      "cell_type": "code",
      "execution_count": null,
      "metadata": {
        "id": "fKz6bOyE1YzW"
      },
      "outputs": [],
      "source": [
        "df_noSF['SFR_m'] = SFRS"
      ]
    },
    {
      "cell_type": "code",
      "execution_count": null,
      "metadata": {
        "id": "Kri1VceSYO20"
      },
      "outputs": [],
      "source": [
        "for x,y in zip(x_s,SFR_s):\n",
        "  plt.scatter(x,y)\n",
        "  plt.yscale('log')\n",
        "  plt.ylim(1e-8,1e1)\n",
        "  plt.show()"
      ]
    },
    {
      "cell_type": "code",
      "execution_count": null,
      "metadata": {
        "id": "GfS8Imw76xgz"
      },
      "outputs": [],
      "source": [
        "S = []\n",
        "for i in SFR_s:\n",
        "  S.append(np.where(np.isnan(i),0,i).mean().value)"
      ]
    },
    {
      "cell_type": "code",
      "execution_count": null,
      "metadata": {
        "id": "VtcejO7iZwJr"
      },
      "outputs": [],
      "source": []
    },
    {
      "cell_type": "code",
      "execution_count": null,
      "metadata": {
        "id": "tggI0Cy47x_J"
      },
      "outputs": [],
      "source": [
        "t = df_SF['lgMHI'] - np.log10(S)"
      ]
    },
    {
      "cell_type": "code",
      "execution_count": null,
      "metadata": {
        "id": "xaElJpYhkWdg"
      },
      "outputs": [],
      "source": [
        "\n",
        "  ang_dist = Planck15.kpc_proper_per_arcmin(z).to(u.kpc/u.arcsec)\n",
        "  area = (ang_dist.value**2*maps.bin_area.value)\n",
        "  area = area*(u.kpc**2)\n",
        "  SFRD = SFR/area\n",
        "\n",
        "  R   = maps.spx_ellcoo_elliptical_radius.value\n",
        "  R_e = float(maps.header['reff'])\n",
        "\n",
        "  x = (R/R_e)\n",
        "  y = SFRD\n",
        "\n",
        "  fig = plt.figure(figsize = (10,10))\n",
        "  ax = fig.add_subplot()\n",
        "  ax.scatter(x,y)\n",
        "  ax.set_xlabel(r'$R/R_e$')\n",
        "  ax.set_ylabel('SFRD ' + r'$M_{\\odot}kpc^{-2}yr^{-1}$')\n",
        "\n",
        "  ax.xaxis.set_minor_locator(AutoMinorLocator())\n",
        "  ax.yaxis.set_minor_locator(AutoMinorLocator())\n",
        "\n",
        "  ax.tick_params(which='both', width=2,direction=\"in\")\n",
        "  ax.tick_params(which='major', length=7,direction=\"in\")\n",
        "  ax.tick_params(which='minor', length=4, color='black',direction=\"in\")"
      ]
    },
    {
      "cell_type": "code",
      "execution_count": null,
      "metadata": {
        "id": "cGqOh2se66m1"
      },
      "outputs": [],
      "source": []
    },
    {
      "cell_type": "markdown",
      "metadata": {
        "id": "nuA1uVg966xP"
      },
      "source": [
        "#### **H-alpha Velocity**"
      ]
    },
    {
      "cell_type": "code",
      "execution_count": null,
      "metadata": {
        "id": "VILIdo-m66xP"
      },
      "outputs": [],
      "source": [
        "fig = plt.figure(figsize = (30,80))\n",
        "gs  = gridspec.GridSpec(ncols=1, nrows=8)\n",
        "ax_l = []\n",
        "for i,mangaid in enumerate(ids_[16:]):\n",
        "\n",
        "  maps = Maps(mangaid = mangaid ,mode='remote')\n",
        "  plateifu = maps.plateifu\n",
        "\n",
        "  # Set the size of image cutout\n",
        "  scale = maps.wcs.to_header()['PC2_2']*3600\n",
        "  size = 2*maps.wcs.to_header()['CRPIX1']*scale\n",
        "\n",
        "  # Get SDSS Image\n",
        "  optical=maps.getImage()\n",
        "\n",
        "  # Crop Image to match IFU size\n",
        "\n",
        "  optical.get_new_cutout(size,size,size/512)\n",
        "  filter_r=np.rot90(np.array(optical.data)[:,:,0].T )\n",
        "  levels=[60.,  90., 120., 150., 180., 210., 240.]\n",
        "\n",
        "  havel = maps['emline_gvel_ha_6564']\n",
        "  data = havel\n",
        "\n",
        "  ax = fig.add_subplot(gs[i],projection=maps.wcs,slices=('x','y',0))\n",
        "  img = ax.imshow(goodspax(data,type = 'vel', SNR = 0),\n",
        "                  cmap = 'RdBu',\n",
        "                  vmin = -150,vmax = 150)\n",
        "\n",
        "\n",
        "  ax.grid(False)\n",
        "  ax.set_autoscale_on(False)\n",
        "  ax.contour(filter_r, transform=ax.get_transform(optical.wcs), colors='black',levels=levels,zorder=11)\n",
        "  ax.axis('off')\n",
        "  ax_l.append(ax)\n",
        "\n",
        "cb=plt.colorbar(img,ax=ax_l,location = 'top', shrink=0.321, anchor = (0.5,1.07))\n",
        "cb.set_label('km/s')\n",
        "plt.subplots_adjust(hspace = 0.01)"
      ]
    },
    {
      "cell_type": "code",
      "execution_count": null,
      "metadata": {
        "id": "BxQuABbB66xQ"
      },
      "outputs": [],
      "source": [
        "havel.plot()"
      ]
    },
    {
      "cell_type": "markdown",
      "metadata": {
        "id": "AU-S3ER466xQ"
      },
      "source": [
        "### **Stellar velocity**"
      ]
    },
    {
      "cell_type": "code",
      "execution_count": null,
      "metadata": {
        "id": "2Ba_Y5AD66xQ"
      },
      "outputs": [],
      "source": [
        "fig = plt.figure(figsize = (30,80))\n",
        "gs  = gridspec.GridSpec(ncols=1, nrows=8)\n",
        "ax_l = []\n",
        "for i,mangaid in enumerate(ids_[16:]):\n",
        "\n",
        "  maps = Maps(mangaid = mangaid ,mode='remote')\n",
        "  plateifu = maps.plateifu\n",
        "\n",
        "  # Set the size of image cutout\n",
        "  scale = maps.wcs.to_header()['PC2_2']*3600\n",
        "  size = 2*maps.wcs.to_header()['CRPIX1']*scale\n",
        "\n",
        "  # Get SDSS Image\n",
        "  optical=maps.getImage()\n",
        "\n",
        "  # Crop Image to match IFU size\n",
        "\n",
        "  optical.get_new_cutout(size,size,size/512)\n",
        "  filter_r=np.rot90(np.array(optical.data)[:,:,0].T )\n",
        "  levels=[60.,  90., 120., 150., 180., 210., 240.]\n",
        "\n",
        "  stvel= maps['stellar_vel']\n",
        "  data = stvel\n",
        "\n",
        "  ax = fig.add_subplot(gs[i],projection=maps.wcs,slices=('x','y',0))\n",
        "  img = ax.imshow(goodspax(data,type = 'vel', SNR = 0), cmap = 'RdBu',\n",
        "                  vmin = -100,vmax = 100)\n",
        "\n",
        "\n",
        "  ax.grid(False)\n",
        "  ax.set_autoscale_on(False)\n",
        "  ax.contour(filter_r, transform=ax.get_transform(optical.wcs), colors='black',levels=levels,zorder=11)\n",
        "  ax.axis('off')\n",
        "  ax_l.append(ax)\n",
        "\n",
        "cb=plt.colorbar(img,ax=ax_l,location = 'top', shrink=0.321, anchor = (0.5,1.07))\n",
        "cb.set_label('km/s')\n",
        "plt.subplots_adjust(hspace = 0.01)"
      ]
    },
    {
      "cell_type": "code",
      "execution_count": null,
      "metadata": {
        "id": "3JBSeFRp66xQ"
      },
      "outputs": [],
      "source": [
        "stvel.plot()"
      ]
    },
    {
      "cell_type": "code",
      "execution_count": null,
      "metadata": {
        "id": "VY5yBgIb66xQ"
      },
      "outputs": [],
      "source": [
        "# SDSS\n",
        "fig = plt.figure()\n",
        "ax1 = fig.add_subplot()\n",
        "ax1.grid(False)\n",
        "ax1.imshow(optical.data, extent = (-r,r,-r,r))\n",
        "ax1.grid(False)\n",
        "apertures = aperture_gen(mods[:-1],0.5*dist_scale,r,\n",
        "                         origin = 'center', a_offset = 20)\n",
        "for k, aperture in enumerate(apertures):\n",
        "  apertures[aperture].plot(ax1,color = colors_[k], label = models[k])\n",
        "ax1.legend()\n",
        "ax1.set_xlabel('kpc')\n",
        "ax1.set_ylabel('kpc')"
      ]
    },
    {
      "cell_type": "code",
      "execution_count": null,
      "metadata": {
        "id": "DGVyLemffFLt"
      },
      "outputs": [],
      "source": [
        "sb.color_palette()"
      ]
    },
    {
      "cell_type": "markdown",
      "metadata": {
        "id": "jwuGfb6_Q2-u",
        "tags": []
      },
      "source": [
        "# **Position Angle**"
      ]
    },
    {
      "cell_type": "markdown",
      "metadata": {
        "id": "65LU7pWTlDs1"
      },
      "source": [
        "#### **H-alpha Velocity**"
      ]
    },
    {
      "cell_type": "code",
      "execution_count": null,
      "metadata": {
        "id": "oJZG0qeH8Qnf"
      },
      "outputs": [],
      "source": [
        "fig = plt.figure(figsize = (30,220))\n",
        "gs  = gridspec.GridSpec(ncols=1, nrows=22)\n",
        "ax_l = []\n",
        "flag_Re  = [0,0,0,0,0,0,0,1,0,1,0,0,         1,0,1,1,0,0,0,0,1,1]\n",
        "flag_SNR = [1,1,1,1,1,1,1,1,1,1,1,1,         1,1,1,1,1,1,1,1,1,1]\n",
        "offset   = [180,0,0,0,0,180,0,180,180,0,180,0, 0,180,0,180,0,180,0,0,180,0]\n",
        "for i, plateifu in enumerate(df_SF.plateifu[:1]):\n",
        "\n",
        "    maps = Maps(plateifu = plateifu ,mode='remote')\n",
        "    mangaid = maps.mangaid\n",
        "\n",
        "    # Set the size of image cutout\n",
        "    scale = maps.wcs.to_header()['PC2_2']*3600\n",
        "    size = 2*maps.wcs.to_header()['CRPIX1']*scale\n",
        "\n",
        "    # Get SDSS Image\n",
        "    optical=maps.getImage()\n",
        "\n",
        "    # Crop Image to match IFU size\n",
        "\n",
        "    optical.get_new_cutout(size,size,size/512)\n",
        "    filter_r=np.rot90(np.array(optical.data)[:,:,0].T )\n",
        "    levels=[60.,  90., 120., 150., 180., 210., 240.]\n",
        "\n",
        "    havel = maps['emline_gvel_ha_6564']\n",
        "    data = havel\n",
        "\n",
        "    ax = fig.add_subplot(gs[i])\n",
        "\n",
        "    R   = maps.spx_ellcoo_elliptical_radius.value/float(maps.header['reff'])\n",
        "\n",
        "    if flag_Re[i]:\n",
        "        mask = R > 1\n",
        "    else:\n",
        "        mask = R > 3\n",
        "\n",
        "    if flag_SNR[i]:\n",
        "        SNR = 3\n",
        "    else:\n",
        "        SNR = 0\n",
        "    mask  = np.where(mask==True,1e-32,1)\n",
        "\n",
        "    img = ax.imshow(goodspax(data,type = 'vel', SNR = SNR)*mask, extent = [-1,1,-1,1],\n",
        "                  cmap = 'RdBu_r', origin = 'lower',vmin = -100,vmax = 100)\n",
        "\n",
        "\n",
        "    size = data.value.shape[0]//2\n",
        "    x,y  = np.mgrid[-size:size, -size:size]//2\n",
        "\n",
        "\n",
        "    out1  = paf.fit_kinematic_pa(x,y,goodspax(data*mask,type = 'vel', SNR = SNR).T, plot = False)\n",
        "    out1 = (out1[0] + offset[i], out1[1], out1[2])\n",
        "    ax.set_title(r'$H_{\\alpha}$ Velocity | ' + f'Position Angle {out1[0]}')\n",
        "\n",
        "    ax.set_ylim(-1,1)\n",
        "\n",
        "    x    = np.linspace(-0.7,0.7,10)\n",
        "    y    = np.tan(np.pi/180*out1[0])*x\n",
        "    ax.plot(x,y, '--',color = 'black', linewidth =2)\n",
        "\n",
        "    x   = np.linspace(-1,1,10)\n",
        "    y    = 0.*x + 0\n",
        "    ax.plot(x,y, '-',color = 'black', linewidth = 2)\n",
        "\n",
        "    angles = np.linspace(0,out1[0]*np.pi/180,20)\n",
        "    x_arc  = 0.3*np.cos(angles)\n",
        "    y_arc  = 0.3*np.sin(angles)\n",
        "    ax.annotate(r'$0^{\\circ}$',(1,-0.03))\n",
        "    ax.plot(x_arc, y_arc, color = 'black')\n",
        "    ax.axis('off')\n",
        "    ax_l.append(ax)\n",
        "cb=plt.colorbar(img,ax=ax_l,location = 'bottom', shrink=0.321, anchor = (0.5,0))\n",
        "cb.set_label('km/s')\n",
        "plt.subplots_adjust(hspace = 0.05)"
      ]
    },
    {
      "cell_type": "code",
      "execution_count": null,
      "metadata": {
        "id": "rsuvQKYMGQHf"
      },
      "outputs": [],
      "source": [
        "344 -1"
      ]
    },
    {
      "cell_type": "code",
      "execution_count": null,
      "metadata": {
        "tags": [],
        "id": "cEVZA6jxX8bu"
      },
      "outputs": [],
      "source": [
        "data = fits.open('kinImage.fits')[1].data"
      ]
    },
    {
      "cell_type": "code",
      "execution_count": null,
      "metadata": {
        "tags": [],
        "id": "aq35n-doX8bv"
      },
      "outputs": [],
      "source": [
        "data = data[100:200,100:200]"
      ]
    },
    {
      "cell_type": "code",
      "execution_count": null,
      "metadata": {
        "tags": [],
        "id": "eWzaGk8MX8bv"
      },
      "outputs": [],
      "source": [
        "stvel = np.where(np.isnan(data), 1e-32, data)"
      ]
    },
    {
      "cell_type": "code",
      "execution_count": null,
      "metadata": {
        "tags": [],
        "id": "TfdT2b_NX8bw"
      },
      "outputs": [],
      "source": [
        "size_x = stvel.shape[0]//2\n",
        "size_y = stvel.shape[1]//2\n",
        "\n",
        "y,x = np.mgrid[-size_x:size_x, -size_y:size_y]"
      ]
    },
    {
      "cell_type": "code",
      "execution_count": null,
      "metadata": {
        "tags": [],
        "id": "Ncg3B_dRX8bw"
      },
      "outputs": [],
      "source": [
        "x.shape, y.shape, stvel.shape"
      ]
    },
    {
      "cell_type": "code",
      "execution_count": null,
      "metadata": {
        "tags": [],
        "id": "aWGIC-JnX8bx"
      },
      "outputs": [],
      "source": [
        "plt.imshow(data, cmap = 'jet')"
      ]
    },
    {
      "cell_type": "code",
      "execution_count": null,
      "metadata": {
        "tags": [],
        "id": "j53-IocrX8bx"
      },
      "outputs": [],
      "source": [
        "out1  = paf.fit_kinematic_pa(x,y, stvel.T, plot = True)"
      ]
    },
    {
      "cell_type": "code",
      "execution_count": null,
      "metadata": {
        "id": "ur9LHSBeX8bx"
      },
      "outputs": [],
      "source": []
    },
    {
      "cell_type": "markdown",
      "metadata": {
        "id": "ZBT89z6wlTmC"
      },
      "source": [
        "### **Stellar velocity**"
      ]
    },
    {
      "cell_type": "code",
      "execution_count": null,
      "metadata": {
        "id": "Ez8HlInCX8by"
      },
      "outputs": [],
      "source": []
    },
    {
      "cell_type": "code",
      "execution_count": null,
      "metadata": {
        "id": "dPG0FSVZjtuP"
      },
      "outputs": [],
      "source": [
        "fig = plt.figure(figsize = (30,220))\n",
        "gs  = gridspec.GridSpec(ncols=1, nrows=22,)\n",
        "ax_l = []\n",
        "flag_Re  = [0,0,0,0,0,0,0,0,0,0,0,0,         0,0,0,0,0,0,0,0,0,0]\n",
        "flag_SNR = [1,1,1,1,1,1,1,1,1,1,1,1,         1,1,1,1,1,1,1,1,1,1]\n",
        "offset   = [0,0,180,0,0,180,180,180,180,0,180,0, 0,180,0,180,0,180,0,0,180,0]\n",
        "for i,mangaid in enumerate(ids_):\n",
        "\n",
        "  maps = Maps(mangaid = mangaid ,mode='remote')\n",
        "  plateifu = maps.plateifu\n",
        "\n",
        "  stvel = maps['stellar_vel']\n",
        "  data = stvel\n",
        "\n",
        "  ax = fig.add_subplot(gs[i])\n",
        "\n",
        "  R   = maps.spx_ellcoo_elliptical_radius.value/float(maps.header['reff'])\n",
        "\n",
        "  if flag_Re[i]:\n",
        "    mask = R > 1\n",
        "  else:\n",
        "    mask = R > 3\n",
        "\n",
        "  if flag_SNR[i]:\n",
        "    SNR = 3\n",
        "  else:\n",
        "    SNR = 0\n",
        "\n",
        "  mask  = np.where(mask==True,1e-32,1)\n",
        "  data= data*mask\n",
        "\n",
        "  img = ax.imshow(goodspax(data,type = 'vel',SNR = SNR), cmap = 'RdBu_r',\n",
        "                  extent =[-1,1,-1,1], origin = 'lower', vmin =-100, vmax = 100)\n",
        "  size = data.value.shape[0]//2\n",
        "  x,y  = np.mgrid[-size:size, -size:size]//2\n",
        "  out2  = paf.fit_kinematic_pa(x,y,goodspax(data,type = 'vel', SNR = SNR).T, plot = False)\n",
        "  out2 = (out2[0]+offset[i], out2[1], out2[2])\n",
        "  ax.set_title(f'Stellar Velocity | Position Angle {out2[0]}')\n",
        "  x    = np.linspace(-1,1,10)\n",
        "  y    = np.tan(np.pi/180*out2[0])*x\n",
        "  ax.plot(x,y, '--',color = 'black', linewidth = 2)\n",
        "  x    = np.linspace(-1,1,10)\n",
        "  y    = 0.*x + 0\n",
        "  ax.plot(x,y, '-',color = 'black', linewidth = 2)\n",
        "\n",
        "  angles = np.linspace(0,out2[0]*np.pi/180,20)\n",
        "  x_arc  = 0.3*np.cos(angles)\n",
        "  y_arc  = 0.3*np.sin(angles)\n",
        "  ax.plot(x_arc, y_arc, color = 'black')\n",
        "\n",
        "  ax.annotate(r'$0^{\\circ}$',(1,-0.03))\n",
        "  ax.set_ylim(-1,1)\n",
        "  ax.axis('off')\n",
        "  ax_l.append(ax)\n",
        "\n",
        "cb=plt.colorbar(img,ax=ax_l,location = 'bottom', shrink=0.321, anchor = (0.5,0))\n",
        "cb.set_label('km/s')\n",
        "plt.subplots_adjust(hspace = 0.01)"
      ]
    },
    {
      "cell_type": "code",
      "execution_count": null,
      "metadata": {
        "id": "Yl7mDYv8HdFY"
      },
      "outputs": [],
      "source": [
        "289  - 302.5"
      ]
    },
    {
      "cell_type": "code",
      "execution_count": null,
      "metadata": {
        "id": "VdFm_ZRwFaWo"
      },
      "outputs": [],
      "source": [
        "239.0 -180"
      ]
    },
    {
      "cell_type": "code",
      "execution_count": null,
      "metadata": {
        "id": "D3mkKAQhHH7f"
      },
      "outputs": [],
      "source": [
        "stvel.plot()"
      ]
    },
    {
      "cell_type": "code",
      "execution_count": null,
      "metadata": {
        "id": "_sqxjPScWnbq"
      },
      "outputs": [],
      "source": [
        "mangaid"
      ]
    },
    {
      "cell_type": "code",
      "execution_count": null,
      "metadata": {
        "id": "SihpCGbWlzEV"
      },
      "outputs": [],
      "source": [
        "# SDSS\n",
        "fig = plt.figure()\n",
        "ax1 = fig.add_subplot()\n",
        "ax1.grid(False)\n",
        "ax1.imshow(optical.data, extent = (-r,r,-r,r))\n",
        "ax1.grid(False)\n",
        "apertures = aperture_gen(mods[:-1],0.5*dist_scale,r,\n",
        "                         origin = 'center', a_offset = 20)\n",
        "for k, aperture in enumerate(apertures):\n",
        "  apertures[aperture].plot(ax1,color = colors_[k], label = models[k])\n",
        "ax1.legend()\n",
        "ax1.set_xlabel('kpc')\n",
        "ax1.set_ylabel('kpc')"
      ]
    },
    {
      "cell_type": "markdown",
      "metadata": {
        "id": "Zer2SYupEuOk",
        "tags": []
      },
      "source": [
        "# **MaNGA Cube animation**"
      ]
    },
    {
      "cell_type": "code",
      "execution_count": null,
      "metadata": {
        "id": "k3mTuWkEKzhD"
      },
      "outputs": [],
      "source": [
        "maps = Maps(plateifu ='7977-3701',mode='remote')"
      ]
    },
    {
      "cell_type": "code",
      "execution_count": null,
      "metadata": {
        "id": "JgWnc6dyzm1q"
      },
      "outputs": [],
      "source": [
        "ha = maps.emline_gflux_ha"
      ]
    },
    {
      "cell_type": "code",
      "execution_count": null,
      "metadata": {
        "id": "JhYbkbq8GCLu"
      },
      "outputs": [],
      "source": [
        "cube = maps.getCube()"
      ]
    },
    {
      "cell_type": "code",
      "execution_count": null,
      "metadata": {
        "id": "gqCuXiUSJYQx"
      },
      "outputs": [],
      "source": [
        "flux = cube.flux\n",
        "y    = flux.value\n",
        "x    = flux.wavelength.value"
      ]
    },
    {
      "cell_type": "code",
      "execution_count": null,
      "metadata": {
        "id": "E-_a3loIN0mK"
      },
      "outputs": [],
      "source": [
        "!mkdir images"
      ]
    },
    {
      "cell_type": "code",
      "execution_count": null,
      "metadata": {
        "id": "TKhAfoZ00Wjy"
      },
      "outputs": [],
      "source": [
        "for i in range(220):\n",
        "  fig = plt.figure(figsize = (25,8))\n",
        "  gs = gridspec.GridSpec(1,2,width_ratios=[1,2])\n",
        "  ax1 = fig.add_subplot(gs[0],projection = cube.wcs, slices = ('x','y',0))\n",
        "  ax2 = fig.add_subplot(gs[1])\n",
        "  im = ax1.imshow(y[i*20], cmap= 'jet')\n",
        "  pl = ax2.plot(x,y.sum(axis=(1,2)), color ='purple')\n",
        "  ax2.set_ylim(0,500)\n",
        "  y_l = np.linspace(0,500,10)\n",
        "  x_l = y_l*0 + x[i*20]\n",
        "  ax2.plot(x_l,y_l, color ='black')\n",
        "  ax2.set_ylabel(r'Flux [1x$10^{-17}]$ $ergs/s/cm^2$')\n",
        "  ax2.set_xlabel('Wavelength [Å]')\n",
        "  fig.savefig(f'images/img{i}.png')\n",
        "  plt.close()"
      ]
    },
    {
      "cell_type": "code",
      "execution_count": null,
      "metadata": {
        "id": "TO5gtwNMMBpG"
      },
      "outputs": [],
      "source": [
        "!mkdir images"
      ]
    },
    {
      "cell_type": "code",
      "execution_count": null,
      "metadata": {
        "id": "UZRLZoj4fOaB"
      },
      "outputs": [],
      "source": [
        "writer = anim.FFMpegWriter(\n",
        "    fps=1, metadata=dict(artist='Me'), bitrate=1800)\n",
        "ani.save(\"movie.mp4\", writer=writer)"
      ]
    },
    {
      "cell_type": "code",
      "source": [],
      "metadata": {
        "id": "m2HbZbjoX9g4"
      },
      "execution_count": null,
      "outputs": []
    }
  ],
  "metadata": {
    "colab": {
      "collapsed_sections": [
        "VMU5PJhBONfy",
        "aZyM_uwAIdmJ",
        "gZoVjMD3IdmM"
      ],
      "name": "MaNGA Data Analysis.ipynb",
      "provenance": [],
      "include_colab_link": true
    },
    "kernelspec": {
      "display_name": "Python [conda env:manga]",
      "language": "python",
      "name": "conda-env-manga-py"
    },
    "language_info": {
      "codemirror_mode": {
        "name": "ipython",
        "version": 3
      },
      "file_extension": ".py",
      "mimetype": "text/x-python",
      "name": "python",
      "nbconvert_exporter": "python",
      "pygments_lexer": "ipython3",
      "version": "3.11.0"
    }
  },
  "nbformat": 4,
  "nbformat_minor": 0
}